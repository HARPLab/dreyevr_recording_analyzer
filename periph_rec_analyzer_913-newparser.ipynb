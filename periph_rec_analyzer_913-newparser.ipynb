{
 "cells": [
  {
   "cell_type": "code",
   "execution_count": 1,
   "id": "3794cc2a-5c11-416c-bdc9-b0bf4502f089",
   "metadata": {},
   "outputs": [],
   "source": [
    "from ibmm import EyeClassifier\n",
    "# from ibmm_online import EyeClassifierOnline\n",
    "import pandas as pd\n",
    "import numpy as np\n",
    "import re\n",
    "import matplotlib.pyplot as plt\n",
    "from matplotlib import cm\n",
    "\n",
    "from parser_utils import read_periph_recording, parse_new_dreyevr_rec, GetGazeDeviationFromHead\n",
    "from pathlib import Path\n",
    "from tqdm import tqdm\n",
    "import pickle as pkl"
   ]
  },
  {
   "cell_type": "code",
   "execution_count": 2,
   "id": "022acadb-3082-415a-890e-118c6eca0cdb",
   "metadata": {},
   "outputs": [],
   "source": [
    "%matplotlib ipympl\n",
    "%load_ext autoreload\n",
    "%autoreload 2"
   ]
  },
  {
   "cell_type": "code",
   "execution_count": 3,
   "id": "f5de4648-9fc2-467d-b5be-187e3a1ec802",
   "metadata": {},
   "outputs": [],
   "source": [
    "import sys\n",
    "sys.path.append(\".\\\\dreyevr_parser\")"
   ]
  },
  {
   "cell_type": "code",
   "execution_count": 4,
   "id": "243ddc8a-10a7-4d07-b25b-d38677f78de3",
   "metadata": {},
   "outputs": [],
   "source": [
    "import sys\n",
    "sys.path.append(\".\\\\dreyevr_parser\")\n",
    "from dreyevr_parser.parser import parse_file\n",
    "from typing import Dict, List, Any\n",
    "from utils import (\n",
    "    check_for_periph_data,\n",
    "    convert_to_df,\n",
    "    split_along_subgroup,\n",
    "    get_good_idxs,\n",
    ")\n",
    "from visualizer import plot_versus"
   ]
  },
  {
   "cell_type": "code",
   "execution_count": 12,
   "id": "035caf9e-85b4-40d2-91e6-63bcbfe81454",
   "metadata": {},
   "outputs": [
    {
     "name": "stdout",
     "output_type": "stream",
     "text": [
      " Volume in drive C has no label.\n",
      " Volume Serial Number is 3C35-7F58\n",
      "\n",
      " Directory of C:\\carla\\carla.periph\\RecordingTxts\\pre-newCA\\brady\n",
      "\n",
      "03/23/2022  04:27 PM    <DIR>          .\n",
      "03/23/2022  04:27 PM    <DIR>          ..\n",
      "03/23/2022  03:47 PM       185,256,485 brady11.txt\n",
      "03/23/2022  03:47 PM       142,664,266 brady21.txt\n",
      "03/23/2022  03:47 PM        80,410,377 brady32.txt\n",
      "03/23/2022  03:47 PM        93,739,172 brady54.txt\n",
      "03/23/2022  03:47 PM        64,852,110 brady55.txt\n",
      "               5 File(s)    566,922,410 bytes\n",
      "               2 Dir(s)  181,757,624,320 bytes free\n"
     ]
    }
   ],
   "source": [
    "!dir \"C:/carla/carla.periph/RecordingTxts/pre-newCA/brady\""
   ]
  },
  {
   "cell_type": "code",
   "execution_count": 15,
   "id": "762d5aac-efed-40cd-811b-08d6eb152977",
   "metadata": {},
   "outputs": [],
   "source": [
    "\n",
    "path_to_recording = \"C://carla//carla.periph//RecordingTxts//tab/tab55.txt\"\n",
    "path_to_recording = \"C://carla//carla.periph//RecordingTxts//esther//esther55.txt\"\n",
    "path_to_recording = \"C://carla//carla.periph//RecordingTxts//pre-newCA//brady//brady32.txt\"\n",
    "# path_to_recording = \"C://carla//carla.periph//RecordingTxts//jacob/jacob55.txt\"\n",
    "# path_to_recording = \"C://carla//carla.periph//RecordingTxts//george//george-55.txt\"\n",
    "\n",
    "recording_name = Path(path_to_recording).stem\n",
    "recdf_pklname = Path(\"temp_data\").joinpath(recording_name+\".pkl\")\n",
    "\n",
    "# try:\n",
    "#     df1 = pd.read_pickle(recdf_pklname)\n",
    "# except FileNotFoundError:\n",
    "#     df1 = read_periph_recording(path_to_recording)\n",
    "#     df1.to_pickle(recdf_pklname)\n",
    "# df1 = df1.convert_dtypes()"
   ]
  },
  {
   "cell_type": "code",
   "execution_count": 16,
   "id": "b36e06b9-342e-4613-ac95-d48ce12a4197",
   "metadata": {},
   "outputs": [
    {
     "name": "stdout",
     "output_type": "stream",
     "text": [
      "Did not find data at cache\\brady32.pkl\n",
      "Reading DReyeVR recording file: C://carla//carla.periph//RecordingTxts//pre-newCA//brady//brady32.txt\n",
      "successfully read 9157 frames in 5.608s\n",
      "cached data to cache\\brady32.pkl\n",
      "gathered periph data in 0.000s\n",
      "created DReyeVR df in 0.200s\n"
     ]
    }
   ],
   "source": [
    "data: Dict[str, np.ndarray or dict] = parse_file(path_to_recording)\n",
    "\n",
    "\"\"\"append/generate periph data if available\"\"\"\n",
    "# check for periph data\n",
    "PeriphData = check_for_periph_data(data)\n",
    "if PeriphData is not None:\n",
    "    data[\"PeriphData\"] = PeriphData\n",
    "\n",
    "\"\"\"convert to pandas df\"\"\"\n",
    "# need to split along groups so all data lengths are the same\n",
    "data_groups = split_along_subgroup(data, [\"CustomActor\"])\n",
    "data_groups_df: List[pd.DataFrame] = [convert_to_df(x) for x in data_groups]\n",
    "df_new = data_groups_df[0]"
   ]
  },
  {
   "cell_type": "code",
   "execution_count": 17,
   "id": "7bc68a89-3f85-4130-bb1b-64c0b4d509be",
   "metadata": {},
   "outputs": [
    {
     "name": "stderr",
     "output_type": "stream",
     "text": [
      "100%|█████████████████████████████████████████████████████████████████████████████| 9156/9156 [00:40<00:00, 226.68it/s]\n"
     ]
    }
   ],
   "source": [
    "df = parse_new_dreyevr_rec(path_to_recording, False)\n",
    "df1 = df.copy()"
   ]
  },
  {
   "cell_type": "code",
   "execution_count": 26,
   "id": "6871e44d-1cc9-40b2-85aa-13dfc89611b8",
   "metadata": {
    "collapsed": true,
    "jupyter": {
     "outputs_hidden": true
    },
    "tags": []
   },
   "outputs": [
    {
     "data": {
      "text/plain": [
       "TimeElapsed                                          1.99257\n",
       "TimestampCarla                                          9337\n",
       "TimestampDevice                                      1973661\n",
       "FrameSequence                                       22298523\n",
       "GazeDir_COMBINED                       [0.991, 0.135, 0.012]\n",
       "GazeOrigin_COMBINED                    [-2.77, -0.186, 0.12]\n",
       "GazeValid_COMBINED                                         1\n",
       "GazeVergence_COMBINED                               278.0133\n",
       "GazeDir_LEFT                           [0.992, 0.124, 0.011]\n",
       "GazeOrigin_LEFT                       [-2.517, 2.946, 0.131]\n",
       "GazeValid_LEFT                                             1\n",
       "EyeOpenness_LEFT                                      0.7866\n",
       "EyeOpennessValid_LEFT                                      1\n",
       "PupilDiameter_LEFT                                     4.186\n",
       "PupilPosition_LEFT                             [0.22, 0.005]\n",
       "PupilPositionValid_LEFT                                    1\n",
       "GazeDir_RIGHT                          [0.989, 0.146, 0.013]\n",
       "GazeOrigin_RIGHT                     [-3.024, -3.318, 0.109]\n",
       "GazeValid_RIGHT                                            1\n",
       "EyeOpenness_RIGHT                                     0.7904\n",
       "EyeOpennessValid_RIGHT                                     1\n",
       "PupilDiameter_RIGHT                                   4.1341\n",
       "PupilPosition_RIGHT                          [0.227, -0.065]\n",
       "PupilPositionValid_RIGHT                                   1\n",
       "FocusInfo_Hit                                              1\n",
       "FocusInfo_Distance                                 2037.3649\n",
       "FocusInfo_HitPoint           [-5222.331, 18539.592, 208.433]\n",
       "FocusInfo_HitNormal                     [0.951, -0.309, 0.0]\n",
       "FocusInfo_ActorName               StaticMeshActor_2147440309\n",
       "VehicleLoc                    [-3395.056, 17629.021, -0.015]\n",
       "VehicleRot                             [0.0, 149.71228, 0.0]\n",
       "VehicleVel                                               0.0\n",
       "CameraLoc                            [-7.977, 1.414, -3.628]\n",
       "CameraRot                     [2.097121, -2.942426, 1.19474]\n",
       "CameraLocAbs                 [-3385.977, 17668.404, 116.358]\n",
       "CameraRotAbs                 [2.097121, 146.769836, 1.19474]\n",
       "Throttle                                                 0.0\n",
       "Steering                                               0.005\n",
       "Brake                                                 0.1429\n",
       "ToggledReverse                                             0\n",
       "TurnSignalLeft                                             0\n",
       "TurnSignalRight                                            0\n",
       "HoldHandbrake                                              0\n",
       "WorldPos                     [-3385.988, 17668.422, 116.294]\n",
       "WorldRot                    [2.011368, 146.728165, 1.161794]\n",
       "CombinedOrigin               [-3383.568, 17667.053, 116.321]\n",
       "gaze2target_pitch                                     0.1418\n",
       "gaze2target_yaw                                       -0.371\n",
       "head2target_pitch                                     0.1446\n",
       "head2target_yaw                                      -0.2338\n",
       "LightOn                                                    0\n",
       "ButtonPressed                                              0\n",
       "Name: 38, dtype: object"
      ]
     },
     "execution_count": 26,
     "metadata": {},
     "output_type": "execute_result"
    }
   ],
   "source": [
    "df_new.iloc[38,:]"
   ]
  },
  {
   "cell_type": "code",
   "execution_count": 19,
   "id": "b1aeb7d2-e5da-42b9-990b-6b499a454548",
   "metadata": {},
   "outputs": [],
   "source": [
    "from pandas.testing import assert_frame_equal, assert_series_equal\n",
    "assert_series_equal(df1.reset_index().PupilPosition_RIGHT, df_new.reset_index().PupilPosition_RIGHT[:-1], check_index_type=False)\n",
    "assert_series_equal(df1.reset_index().ButtonPressed, df_new.reset_index().ButtonPressed[:-1].convert_dtypes(), check_index_type=False)\n",
    "# df1 = df_new"
   ]
  },
  {
   "cell_type": "code",
   "execution_count": null,
   "id": "57f50a5c-b9c2-4680-9329-c8291004ca61",
   "metadata": {},
   "outputs": [],
   "source": [
    "df_legacy, df1 = df1, df_new"
   ]
  },
  {
   "cell_type": "markdown",
   "id": "e05e31b2-4f75-40f3-8445-867551a05b66",
   "metadata": {
    "tags": []
   },
   "source": [
    "## Data Playground and Sanity checks"
   ]
  },
  {
   "cell_type": "code",
   "execution_count": null,
   "id": "cd229bfb-1db5-439c-82cc-b127076d05b7",
   "metadata": {},
   "outputs": [],
   "source": [
    "df1.columns"
   ]
  },
  {
   "cell_type": "code",
   "execution_count": 27,
   "id": "f3f70fe8-c60e-4456-9e47-005eb06d1cfe",
   "metadata": {
    "tags": []
   },
   "outputs": [
    {
     "name": "stdout",
     "output_type": "stream",
     "text": [
      "19 targets spawned\n",
      "10 responses recorded\n"
     ]
    }
   ],
   "source": [
    "# find the indices where lights came on and went off\n",
    "lighton_rows = df1[\"LightOn\"].diff().fillna(0)==1\n",
    "lightoff_rows = df1[\"LightOn\"].diff().fillna(0)==-1\n",
    "df1[lighton_rows].head()\n",
    "lighton_idcs = df1[lighton_rows].index\n",
    "num_targets_spawned = sum(lighton_rows)\n",
    "# find the indices where the button was pressed\n",
    "buttonPress_rows = df1[\"ButtonPressed\"].diff().fillna(0)==1\n",
    "buttonRelease_rows = df1[\"ButtonPressed\"].diff().fillna(0)==-1\n",
    "num_button_presses = sum(buttonPress_rows)\n",
    "print(\"{} targets spawned\".format(num_targets_spawned))\n",
    "print(\"{} responses recorded\".format(num_button_presses)) # may or may not be all accurate responses that correspond to targets?"
   ]
  },
  {
   "cell_type": "code",
   "execution_count": 28,
   "id": "5e137fd2-da10-4dbe-b169-97747f140725",
   "metadata": {
    "tags": []
   },
   "outputs": [
    {
     "name": "stdout",
     "output_type": "stream",
     "text": [
      "-29.759162398220024 15.78075330951539\n",
      "-33.46537934635529 38.929264393473936\n"
     ]
    }
   ],
   "source": [
    "df2 = df1.copy()\n",
    "df2['gaze_x'] = df1.GazeDir_COMBINED.apply(lambda x: x[0])\n",
    "df2['gaze_y'] = df1.GazeDir_COMBINED.apply(lambda x: x[1])\n",
    "df2['gaze_z'] = df1.GazeDir_COMBINED.apply(lambda x: x[2])\n",
    "\n",
    "gaze_pitches = np.arctan2(df2.gaze_z, df2.gaze_x)*180/np.pi\n",
    "gaze_yaws = np.arctan2(df2.gaze_y, df2.gaze_x)*180/np.pi\n",
    "\n",
    "low_conf_gazeidcs = (gaze_pitches*gaze_yaws == 0)\n",
    "gaze_pitches = gaze_pitches[~low_conf_gazeidcs]\n",
    "gaze_yaws = gaze_yaws[~low_conf_gazeidcs]\n",
    "\n",
    "\n",
    "print(np.min(gaze_pitches),np.max(gaze_pitches))\n",
    "print(np.min(gaze_yaws),np.max(gaze_yaws))"
   ]
  },
  {
   "cell_type": "code",
   "execution_count": 29,
   "id": "e1435bb0-ed68-43f7-ac7c-005d4a2088a4",
   "metadata": {
    "collapsed": true,
    "jupyter": {
     "outputs_hidden": true
    },
    "tags": []
   },
   "outputs": [
    {
     "name": "stderr",
     "output_type": "stream",
     "text": [
      "C:\\Users\\Abhijat\\AppData\\Local\\Temp/ipykernel_43532/3059153711.py:15: UserWarning: Matplotlib is currently using agg, which is a non-GUI backend, so cannot show the figure.\n",
      "  plt.show()\n"
     ]
    }
   ],
   "source": [
    "#gaze_pitches = gaze_pitches[1000:7000]\n",
    "#gaze_yaws = gaze_yaws[6000:7000]\n",
    "\n",
    "# Generate heat map of eye gaze wrt head pos\n",
    "plt.figure()\n",
    "plt.hist2d(gaze_yaws, gaze_pitches,\n",
    "           bins=50, cmap='hot')\n",
    "cb = plt.colorbar()\n",
    "cb.set_label('Number of points')\n",
    "plt.title('Heatmap of eye gaze wrt head direction')\n",
    "# plt.xlim(-20,20)\n",
    "# plt.ylim(-20,20)\n",
    "plt.xlabel('yaw')\n",
    "plt.ylabel('pitch')\n",
    "plt.show()"
   ]
  },
  {
   "cell_type": "markdown",
   "id": "5115e652-b8de-4a4d-a2fe-3b1c1e5cdc0b",
   "metadata": {
    "tags": []
   },
   "source": [
    "## Hits and Misses calculation"
   ]
  },
  {
   "cell_type": "code",
   "execution_count": 30,
   "id": "2da4c798-bcf9-49e5-9f4e-65c3e42915e0",
   "metadata": {
    "tags": []
   },
   "outputs": [
    {
     "name": "stderr",
     "output_type": "stream",
     "text": [
      "19it [00:00, 34.51it/s]"
     ]
    },
    {
     "name": "stdout",
     "output_type": "stream",
     "text": [
      "10/19 hits with a 0.789119999999994s average reaction time\n"
     ]
    },
    {
     "name": "stderr",
     "output_type": "stream",
     "text": [
      "\n"
     ]
    }
   ],
   "source": [
    "# for every light appearance\n",
    "# find the nearest button press, before the next target appearance\n",
    "max_reaction_time_allowed = 5 #seconds\n",
    "time_offsets = []\n",
    "hits_and_misses = []\n",
    "for idx_num, lighton_idx in tqdm(enumerate(lighton_idcs)):\n",
    "    # while not found_buttonpress or lighton_idcs[idx_num+1]:\n",
    "    offset = 0\n",
    "    target_tuple = (df1.loc[lighton_idx], False)\n",
    "    while lighton_idx+offset < max(df1.index):\n",
    "        time_offset = df1.loc[lighton_idx+offset, \"TimeElapsed\"] - df1.loc[lighton_idx, \"TimeElapsed\"]   \n",
    "        if (df1.loc[lighton_idx+offset, \"ButtonPressed\"] == 1):\n",
    "            # print( \"{0:1.2f}s\".format(time_offset))\n",
    "            time_offsets += [time_offset]\n",
    "            target_tuple = (df1.loc[lighton_idx], df1.loc[lighton_idx+offset])\n",
    "            break\n",
    "        else:\n",
    "            if time_offset > max_reaction_time_allowed:\n",
    "                break\n",
    "            offset += 1\n",
    "    hits_and_misses += [target_tuple]\n",
    "    \n",
    "print(\"{}/{} hits with a {}s average reaction time\".format(len(time_offsets), len(lighton_idcs), sum(time_offsets)/len(time_offsets)))"
   ]
  },
  {
   "cell_type": "code",
   "execution_count": null,
   "id": "873c7ef0-fee9-4b28-9bcf-bd35dbb9a5ce",
   "metadata": {},
   "outputs": [],
   "source": []
  },
  {
   "cell_type": "markdown",
   "id": "77994187-a699-4863-8b04-33c47b4316d7",
   "metadata": {
    "tags": []
   },
   "source": [
    "## Prelim analysis"
   ]
  },
  {
   "cell_type": "code",
   "execution_count": 34,
   "id": "d4bba594-3a02-49bd-995d-1d04e9ee0597",
   "metadata": {
    "tags": []
   },
   "outputs": [
    {
     "name": "stdout",
     "output_type": "stream",
     "text": [
      "TimeElapsed                                           3.02039\n",
      "TimestampCarla                                          10432\n",
      "TimestampDevice                                       4195767\n",
      "FrameSequence                                       175670705\n",
      "GazeDir_COMBINED                         [0.913, 0.061, -0.4]\n",
      "GazeOrigin_COMBINED                      [-2.3, 0.165, 0.045]\n",
      "GazeValid_COMBINED                                          1\n",
      "GazeVergence_COMBINED                                 74.3605\n",
      "GazeDir_LEFT                           [0.915, 0.021, -0.404]\n",
      "GazeOrigin_LEFT                        [-2.295, 3.179, 0.065]\n",
      "GazeValid_LEFT                                              1\n",
      "EyeOpenness_LEFT                                       0.9579\n",
      "EyeOpennessValid_LEFT                                       1\n",
      "PupilDiameter_LEFT                                     2.9534\n",
      "PupilPosition_LEFT                            [0.063, -0.153]\n",
      "PupilPositionValid_LEFT                                     1\n",
      "GazeDir_RIGHT                          [0.912, 0.101, -0.397]\n",
      "GazeOrigin_RIGHT                      [-2.304, -2.849, 0.026]\n",
      "GazeValid_RIGHT                                             1\n",
      "EyeOpenness_RIGHT                                      0.9314\n",
      "EyeOpennessValid_RIGHT                                      1\n",
      "PupilDiameter_RIGHT                                    3.0272\n",
      "PupilPosition_RIGHT                          [-0.127, -0.143]\n",
      "PupilPositionValid_RIGHT                                    1\n",
      "FocusInfo_Hit                                               1\n",
      "FocusInfo_Distance                                   392.8163\n",
      "FocusInfo_HitPoint                [9566.287, 13978.199, 3.86]\n",
      "FocusInfo_HitNormal                           [0.0, 0.0, 1.0]\n",
      "FocusInfo_ActorName                       Road_Road_Town05_54\n",
      "EgoVariables_VehicleLoc          [9961.021, 13853.792, 4.037]\n",
      "EgoVariables_VehicleRot                [0.0, 166.516769, 0.0]\n",
      "EgoVariables_VehicleVel                                   0.0\n",
      "EgoVariables_CameraLoc               [25.155, -2.834, -7.177]\n",
      "EgoVariables_CameraRot         [3.616237, -2.165262, 3.06737]\n",
      "EgoVariables_CameraLocAbs       [9932.933, 13904.573, 116.86]\n",
      "EgoVariables_CameraRotAbs     [3.61623, 164.351517, 3.067371]\n",
      "Throttle                                                  0.0\n",
      "Steering                                                0.006\n",
      "Brake                                                     0.0\n",
      "ToggledReverse                                              0\n",
      "TurnSignalLeft                                              0\n",
      "TurnSignalRight                                             0\n",
      "HoldHandbrake                                               0\n",
      "WorldPos                       [9932.919, 13904.563, 116.905]\n",
      "WorldRot                     [3.698861, 164.352982, 3.079895]\n",
      "CombinedOrigin                 [9935.078, 13903.793, 116.828]\n",
      "gaze2target_pitch                                      0.7301\n",
      "gaze2target_yaw                                       -0.0849\n",
      "head2target_pitch                                      0.3668\n",
      "head2target_yaw                                         0.007\n",
      "LightOn                                                     1\n",
      "ButtonPressed                                               0\n",
      "Name: 68, dtype: object\n",
      "TimeElapsed                                           11.4562\n",
      "TimestampCarla                                          18868\n",
      "TimestampDevice                                       4204190\n",
      "FrameSequence                                       175671716\n",
      "GazeDir_COMBINED                      [0.946, -0.197, -0.256]\n",
      "GazeOrigin_COMBINED                    [-2.353, 0.273, 0.132]\n",
      "GazeValid_COMBINED                                          1\n",
      "GazeVergence_COMBINED                                 69.7182\n",
      "GazeDir_LEFT                          [0.941, -0.236, -0.244]\n",
      "GazeOrigin_LEFT                        [-2.302, 3.317, 0.152]\n",
      "GazeValid_LEFT                                              1\n",
      "EyeOpenness_LEFT                                       0.8404\n",
      "EyeOpennessValid_LEFT                                       1\n",
      "PupilDiameter_LEFT                                      3.798\n",
      "PupilPosition_LEFT                           [-0.126, -0.042]\n",
      "PupilPositionValid_LEFT                                     1\n",
      "GazeDir_RIGHT                         [0.951, -0.157, -0.268]\n",
      "GazeOrigin_RIGHT                      [-2.403, -2.771, 0.112]\n",
      "GazeValid_RIGHT                                             1\n",
      "EyeOpenness_RIGHT                                       0.926\n",
      "EyeOpennessValid_RIGHT                                      1\n",
      "PupilDiameter_RIGHT                                    4.3292\n",
      "PupilPosition_RIGHT                          [-0.272, -0.043]\n",
      "PupilPositionValid_RIGHT                                    1\n",
      "FocusInfo_Hit                                               1\n",
      "FocusInfo_Distance                                   542.0331\n",
      "FocusInfo_HitPoint                [9570.724, 14280.271, 3.86]\n",
      "FocusInfo_HitNormal                           [0.0, 0.0, 1.0]\n",
      "FocusInfo_ActorName                       Road_Road_Town05_54\n",
      "EgoVariables_VehicleLoc          [9961.021, 13853.792, 4.035]\n",
      "EgoVariables_VehicleRot                [0.0, 166.516769, 0.0]\n",
      "EgoVariables_VehicleVel                                  -0.0\n",
      "EgoVariables_CameraLoc                [24.061, -2.972, -7.43]\n",
      "EgoVariables_CameraRot        [1.826488, -4.883633, 2.158936]\n",
      "EgoVariables_CameraLocAbs      [9937.452, 13901.573, 119.605]\n",
      "EgoVariables_CameraRotAbs    [1.826488, 161.633133, 2.158936]\n",
      "Throttle                                                  0.0\n",
      "Steering                                               0.0075\n",
      "Brake                                                     0.0\n",
      "ToggledReverse                                              0\n",
      "TurnSignalLeft                                              0\n",
      "TurnSignalRight                                             0\n",
      "HoldHandbrake                                               0\n",
      "WorldPos                       [9937.458, 13901.557, 119.608]\n",
      "WorldRot                      [1.853126, 161.640503, 2.13637]\n",
      "CombinedOrigin                  [9939.597, 13900.37, 119.654]\n",
      "gaze2target_pitch                                       0.514\n",
      "gaze2target_yaw                                        0.8181\n",
      "head2target_pitch                                      0.1902\n",
      "head2target_yaw                                         0.282\n",
      "LightOn                                                     1\n",
      "ButtonPressed                                               0\n",
      "Name: 441, dtype: object\n",
      "TimeElapsed                                             19.4699\n",
      "TimestampCarla                                            26882\n",
      "TimestampDevice                                         4212214\n",
      "FrameSequence                                         175672679\n",
      "GazeDir_COMBINED                         [0.977, 0.195, -0.081]\n",
      "GazeOrigin_COMBINED                       [-2.363, 0.106, 0.22]\n",
      "GazeValid_COMBINED                                            1\n",
      "GazeVergence_COMBINED                                  269.8375\n",
      "GazeDir_LEFT                             [0.975, 0.205, -0.083]\n",
      "GazeOrigin_LEFT                          [-2.542, 3.161, 0.286]\n",
      "GazeValid_LEFT                                                1\n",
      "EyeOpenness_LEFT                                            1.0\n",
      "EyeOpennessValid_LEFT                                         1\n",
      "PupilDiameter_LEFT                                       3.5636\n",
      "PupilPosition_LEFT                               [0.107, 0.075]\n",
      "PupilPositionValid_LEFT                                       1\n",
      "GazeDir_RIGHT                             [0.98, 0.185, -0.078]\n",
      "GazeOrigin_RIGHT                        [-2.185, -2.948, 0.154]\n",
      "GazeValid_RIGHT                                               1\n",
      "EyeOpenness_RIGHT                                           1.0\n",
      "EyeOpennessValid_RIGHT                                        1\n",
      "PupilDiameter_RIGHT                                       3.971\n",
      "PupilPosition_RIGHT                              [0.006, 0.083]\n",
      "PupilPositionValid_RIGHT                                      1\n",
      "FocusInfo_Hit                                                 1\n",
      "FocusInfo_Distance                                    3842.0798\n",
      "FocusInfo_HitPoint               [4272.706, 13667.175, 139.349]\n",
      "FocusInfo_HitNormal                         [1.0, -0.0, -0.001]\n",
      "FocusInfo_ActorName                                  BP_Stop6_2\n",
      "EgoVariables_VehicleLoc            [8088.694, 14142.846, 4.069]\n",
      "EgoVariables_VehicleRot      [-0.041446, 175.717926, -0.026764]\n",
      "EgoVariables_VehicleVel                                767.2601\n",
      "EgoVariables_CameraLoc                 [22.077, -2.377, -6.893]\n",
      "EgoVariables_CameraRot            [5.629995, 1.124181, 2.86381]\n",
      "EgoVariables_CameraLocAbs        [8059.643, 14185.563, 120.134]\n",
      "EgoVariables_CameraRotAbs      [5.589089, 176.839386, 2.836107]\n",
      "Throttle                                                    0.0\n",
      "Steering                                                 0.0276\n",
      "Brake                                                       0.0\n",
      "ToggledReverse                                                0\n",
      "TurnSignalLeft                                                0\n",
      "TurnSignalRight                                               0\n",
      "HoldHandbrake                                                 0\n",
      "WorldPos                         [8077.433, 14184.411, 120.127]\n",
      "WorldRot                       [5.620945, 176.754562, 2.764816]\n",
      "CombinedOrigin                    [8079.795, 14184.16, 120.109]\n",
      "gaze2target_pitch                                        0.3876\n",
      "gaze2target_yaw                                           0.411\n",
      "head2target_pitch                                        0.3343\n",
      "head2target_yaw                                          0.5872\n",
      "LightOn                                                       1\n",
      "ButtonPressed                                                 0\n",
      "Name: 782, dtype: object\n",
      "TimeElapsed                                            31.4268\n",
      "TimestampCarla                                           38839\n",
      "TimestampDevice                                        4224161\n",
      "FrameSequence                                        175674113\n",
      "GazeDir_COMBINED                       [0.971, -0.181, -0.153]\n",
      "GazeOrigin_COMBINED                     [-2.255, 0.249, 0.163]\n",
      "GazeValid_COMBINED                                           1\n",
      "GazeVergence_COMBINED                                 212.6781\n",
      "GazeDir_LEFT                             [0.969, -0.19, -0.16]\n",
      "GazeOrigin_LEFT                         [-2.275, 3.327, 0.203]\n",
      "GazeValid_LEFT                                               1\n",
      "EyeOpenness_LEFT                                        0.9731\n",
      "EyeOpennessValid_LEFT                                        1\n",
      "PupilDiameter_LEFT                                      4.3837\n",
      "PupilPosition_LEFT                             [-0.139, 0.041]\n",
      "PupilPositionValid_LEFT                                      1\n",
      "GazeDir_RIGHT                          [0.974, -0.173, -0.146]\n",
      "GazeOrigin_RIGHT                       [-2.235, -2.829, 0.124]\n",
      "GazeValid_RIGHT                                              1\n",
      "EyeOpenness_RIGHT                                       0.8295\n",
      "EyeOpennessValid_RIGHT                                       1\n",
      "PupilDiameter_RIGHT                                     4.4486\n",
      "PupilPosition_RIGHT                            [-0.214, 0.027]\n",
      "PupilPositionValid_RIGHT                                     1\n",
      "FocusInfo_Hit                                                1\n",
      "FocusInfo_Distance                                   1798.5929\n",
      "FocusInfo_HitPoint                 [2526.324, 17053.93, 0.002]\n",
      "FocusInfo_HitNormal                            [0.0, 0.0, 1.0]\n",
      "FocusInfo_ActorName                        Road_Road_Town05_23\n",
      "EgoVariables_VehicleLoc           [2741.646, 15239.254, 0.191]\n",
      "EgoVariables_VehicleRot      [-0.029233, 116.915634, 0.053474]\n",
      "EgoVariables_VehicleVel                               430.0101\n",
      "EgoVariables_CameraLoc                [21.771, -3.166, -7.062]\n",
      "EgoVariables_CameraRot         [4.716641, -8.133325, 3.103741]\n",
      "EgoVariables_CameraLocAbs        [2763.846, 15286.22, 116.151]\n",
      "EgoVariables_CameraRotAbs     [4.695263, 108.787041, 3.161006]\n",
      "Throttle                                                0.6349\n",
      "Steering                                               -0.1757\n",
      "Brake                                                      0.0\n",
      "ToggledReverse                                               0\n",
      "TurnSignalLeft                                               0\n",
      "TurnSignalRight                                              0\n",
      "HoldHandbrake                                                0\n",
      "WorldPos                        [2767.224, 15277.608, 116.098]\n",
      "WorldRot                      [4.695045, 109.082138, 3.154818]\n",
      "CombinedOrigin                  [2767.716, 15275.392, 116.067]\n",
      "gaze2target_pitch                                       0.2123\n",
      "gaze2target_yaw                                         0.7668\n",
      "head2target_pitch                                       0.0431\n",
      "head2target_yaw                                         0.5576\n",
      "LightOn                                                      1\n",
      "ButtonPressed                                                0\n",
      "Name: 1308, dtype: object\n",
      "TimeElapsed                                            40.9802\n",
      "TimestampCarla                                           48392\n",
      "TimestampDevice                                        4233726\n",
      "FrameSequence                                        175675261\n",
      "GazeDir_COMBINED                        [0.994, 0.072, -0.082]\n",
      "GazeOrigin_COMBINED                     [-2.241, 0.179, 0.223]\n",
      "GazeValid_COMBINED                                           1\n",
      "GazeVergence_COMBINED                                 305.7639\n",
      "GazeDir_LEFT                            [0.994, 0.068, -0.087]\n",
      "GazeOrigin_LEFT                         [-2.233, 3.235, 0.245]\n",
      "GazeValid_LEFT                                               1\n",
      "EyeOpenness_LEFT                                           1.0\n",
      "EyeOpennessValid_LEFT                                        1\n",
      "PupilDiameter_LEFT                                      3.3539\n",
      "PupilPosition_LEFT                              [0.016, 0.102]\n",
      "PupilPositionValid_LEFT                                      1\n",
      "GazeDir_RIGHT                           [0.994, 0.077, -0.077]\n",
      "GazeOrigin_RIGHT                          [-2.25, -2.877, 0.2]\n",
      "GazeValid_RIGHT                                              1\n",
      "EyeOpenness_RIGHT                                          1.0\n",
      "EyeOpennessValid_RIGHT                                       1\n",
      "PupilDiameter_RIGHT                                     3.6301\n",
      "PupilPosition_RIGHT                            [-0.091, 0.103]\n",
      "PupilPositionValid_RIGHT                                     1\n",
      "FocusInfo_Hit                                                1\n",
      "FocusInfo_Distance                                   1001.6984\n",
      "FocusInfo_HitPoint               [-109.172, 18775.736, 109.45]\n",
      "FocusInfo_HitNormal                          [1.0, -0.0, -0.0]\n",
      "FocusInfo_ActorName              BP_Nissan_Patrol_C_2147452026\n",
      "EgoVariables_VehicleLoc            [916.184, 18728.994, 0.183]\n",
      "EgoVariables_VehicleRot      [-0.012909, 178.220871, 0.000858]\n",
      "EgoVariables_VehicleVel                               203.7378\n",
      "EgoVariables_CameraLoc                [21.677, -3.615, -7.342]\n",
      "EgoVariables_CameraRot         [4.470707, -2.450079, 2.399697]\n",
      "EgoVariables_CameraLocAbs         [885.789, 18771.57, 115.835]\n",
      "EgoVariables_CameraRotAbs     [4.457846, 175.770889, 2.401111]\n",
      "Throttle                                                   0.0\n",
      "Steering                                                0.0021\n",
      "Brake                                                      0.0\n",
      "ToggledReverse                                               0\n",
      "TurnSignalLeft                                               0\n",
      "TurnSignalRight                                              0\n",
      "HoldHandbrake                                                0\n",
      "WorldPos                         [890.265, 18771.455, 115.819]\n",
      "WorldRot                      [4.555374, 175.743332, 2.362905]\n",
      "CombinedOrigin                     [892.496, 18771.1, 115.855]\n",
      "gaze2target_pitch                                        0.443\n",
      "gaze2target_yaw                                        -0.4656\n",
      "head2target_pitch                                       0.3449\n",
      "head2target_yaw                                        -0.3821\n",
      "LightOn                                                      1\n",
      "ButtonPressed                                                0\n",
      "Name: 1738, dtype: object\n",
      "TimeElapsed                                           100.712\n",
      "TimestampCarla                                         108124\n",
      "TimestampDevice                                       4293454\n",
      "FrameSequence                                       175682430\n",
      "GazeDir_COMBINED                       [0.993, 0.104, -0.043]\n",
      "GazeOrigin_COMBINED                    [-2.191, 0.179, 0.278]\n",
      "GazeValid_COMBINED                                          1\n",
      "GazeVergence_COMBINED                                 63.4722\n",
      "GazeDir_LEFT                           [0.993, 0.116, -0.022]\n",
      "GazeOrigin_LEFT                         [-2.242, 3.23, 0.307]\n",
      "GazeValid_LEFT                                              1\n",
      "EyeOpenness_LEFT                                          1.0\n",
      "EyeOpennessValid_LEFT                                       1\n",
      "PupilDiameter_LEFT                                     3.6831\n",
      "PupilPosition_LEFT                             [0.024, 0.145]\n",
      "PupilPositionValid_LEFT                                     1\n",
      "GazeDir_RIGHT                          [0.994, 0.093, -0.064]\n",
      "GazeOrigin_RIGHT                       [-2.14, -2.871, 0.249]\n",
      "GazeValid_RIGHT                                             1\n",
      "EyeOpenness_RIGHT                                         1.0\n",
      "EyeOpennessValid_RIGHT                                      1\n",
      "PupilDiameter_RIGHT                                    4.2665\n",
      "PupilPosition_RIGHT                           [-0.076, 0.173]\n",
      "PupilPositionValid_RIGHT                                    1\n",
      "FocusInfo_Hit                                               1\n",
      "FocusInfo_Distance                                   777.6936\n",
      "FocusInfo_HitPoint           [-6107.319, -18650.738, 820.238]\n",
      "FocusInfo_HitNormal                           [0.0, 0.0, 1.0]\n",
      "FocusInfo_ActorName                         BP_SpeedLimit41_5\n",
      "EgoVariables_VehicleLoc      [-6886.257, -18662.314, 811.391]\n",
      "EgoVariables_VehicleRot      [-7.162047, 0.504099, -0.060822]\n",
      "EgoVariables_VehicleVel                             1005.6812\n",
      "EgoVariables_CameraLoc               [21.226, -3.628, -7.574]\n",
      "EgoVariables_CameraRot        [2.385498, -2.198725, 3.708809]\n",
      "EgoVariables_CameraLocAbs    [-6840.525, -18703.662, 921.979]\n",
      "EgoVariables_CameraRotAbs    [-4.773599, -1.702917, 3.923315]\n",
      "Throttle                                                  0.0\n",
      "Steering                                               0.0046\n",
      "Brake                                                     0.0\n",
      "ToggledReverse                                              0\n",
      "TurnSignalLeft                                              0\n",
      "TurnSignalRight                                             0\n",
      "HoldHandbrake                                               0\n",
      "WorldPos                     [-6873.729, -18703.992, 926.122]\n",
      "WorldRot                      [-4.76515, -1.808792, 3.904302]\n",
      "CombinedOrigin               [-6875.884, -18703.729, 926.569]\n",
      "gaze2target_pitch                                      0.1361\n",
      "gaze2target_yaw                                        0.2721\n",
      "head2target_pitch                                      0.0837\n",
      "head2target_yaw                                        0.3756\n",
      "LightOn                                                     1\n",
      "ButtonPressed                                               0\n",
      "Name: 4355, dtype: object\n",
      "TimeElapsed                                           114.297\n",
      "TimestampCarla                                         121709\n",
      "TimestampDevice                                         12068\n",
      "FrameSequence                                       175684060\n",
      "GazeDir_COMBINED                        [0.988, 0.12, -0.094]\n",
      "GazeOrigin_COMBINED                    [-2.178, 0.176, 0.284]\n",
      "GazeValid_COMBINED                                          1\n",
      "GazeVergence_COMBINED                                563.9637\n",
      "GazeDir_LEFT                           [0.988, 0.125, -0.095]\n",
      "GazeOrigin_LEFT                          [-2.127, 3.24, 0.29]\n",
      "GazeValid_LEFT                                              1\n",
      "EyeOpenness_LEFT                                          1.0\n",
      "EyeOpennessValid_LEFT                                       1\n",
      "PupilDiameter_LEFT                                     4.2547\n",
      "PupilPosition_LEFT                              [0.023, 0.14]\n",
      "PupilPositionValid_LEFT                                     1\n",
      "GazeDir_RIGHT                          [0.989, 0.115, -0.092]\n",
      "GazeOrigin_RIGHT                       [-2.23, -2.888, 0.279]\n",
      "GazeValid_RIGHT                                             1\n",
      "EyeOpenness_RIGHT                                         1.0\n",
      "EyeOpennessValid_RIGHT                                      1\n",
      "PupilDiameter_RIGHT                                    4.7607\n",
      "PupilPosition_RIGHT                            [-0.06, 0.151]\n",
      "PupilPositionValid_RIGHT                                    1\n",
      "FocusInfo_Hit                                               1\n",
      "FocusInfo_Distance                                  1554.1779\n",
      "FocusInfo_HitPoint             [2846.615, -15414.635, 19.361]\n",
      "FocusInfo_HitNormal                        [0.027, -1.0, 0.0]\n",
      "FocusInfo_ActorName                           RoutePlanner_58\n",
      "EgoVariables_VehicleLoc         [2873.671, -16978.863, 0.179]\n",
      "EgoVariables_VehicleRot      [0.011673, 89.255081, -0.015381]\n",
      "EgoVariables_VehicleVel                              568.1318\n",
      "EgoVariables_CameraLoc               [21.929, -4.755, -8.001]\n",
      "EgoVariables_CameraRot        [2.185059, -3.046653, 3.313795]\n",
      "EgoVariables_CameraLocAbs     [2916.865, -16947.518, 115.173]\n",
      "EgoVariables_CameraRotAbs     [2.195892, 86.207809, 3.297804]\n",
      "Throttle                                               0.7143\n",
      "Steering                                               0.0387\n",
      "Brake                                                     0.0\n",
      "ToggledReverse                                              0\n",
      "TurnSignalLeft                                              0\n",
      "TurnSignalRight                                             0\n",
      "HoldHandbrake                                               0\n",
      "WorldPos                       [2917.01, -16962.096, 115.183]\n",
      "WorldRot                      [2.179766, 86.084755, 3.314594]\n",
      "CombinedOrigin                [2916.669, -16964.262, 115.373]\n",
      "gaze2target_pitch                                      0.3594\n",
      "gaze2target_yaw                                       -0.7133\n",
      "head2target_pitch                                      0.2363\n",
      "head2target_yaw                                       -0.5833\n",
      "LightOn                                                     1\n",
      "ButtonPressed                                               0\n",
      "Name: 4942, dtype: object\n",
      "TimeElapsed                                            121.685\n",
      "TimestampCarla                                          129097\n",
      "TimestampDevice                                          19457\n",
      "FrameSequence                                        175684947\n",
      "GazeDir_COMBINED                        [0.854, 0.482, -0.193]\n",
      "GazeOrigin_COMBINED                    [-2.225, -0.013, 0.222]\n",
      "GazeValid_COMBINED                                           1\n",
      "GazeVergence_COMBINED                                  82.2705\n",
      "GazeDir_LEFT                            [0.856, 0.473, -0.209]\n",
      "GazeOrigin_LEFT                         [-2.295, 3.032, 0.242]\n",
      "GazeValid_LEFT                                               1\n",
      "EyeOpenness_LEFT                                           1.0\n",
      "EyeOpennessValid_LEFT                                        1\n",
      "PupilDiameter_LEFT                                      3.6799\n",
      "PupilPosition_LEFT                              [0.304, 0.036]\n",
      "PupilPositionValid_LEFT                                      1\n",
      "GazeDir_RIGHT                           [0.853, 0.491, -0.177]\n",
      "GazeOrigin_RIGHT                       [-2.154, -3.058, 0.202]\n",
      "GazeValid_RIGHT                                              1\n",
      "EyeOpenness_RIGHT                                       0.5909\n",
      "EyeOpennessValid_RIGHT                                       1\n",
      "PupilDiameter_RIGHT                                     4.1523\n",
      "PupilPosition_RIGHT                             [0.178, 0.062]\n",
      "PupilPositionValid_RIGHT                                     1\n",
      "FocusInfo_Hit                                                1\n",
      "FocusInfo_Distance                                    721.4492\n",
      "FocusInfo_HitPoint                [2438.707, -10708.16, 0.002]\n",
      "FocusInfo_HitNormal                            [0.0, 0.0, 1.0]\n",
      "FocusInfo_ActorName                       Road_Curb_Town05_314\n",
      "EgoVariables_VehicleLoc          [2716.876, -11367.805, 0.201]\n",
      "EgoVariables_VehicleRot      [-0.042969, 90.863411, -0.000214]\n",
      "EgoVariables_VehicleVel                               229.5344\n",
      "EgoVariables_CameraLoc                 [19.259, -2.11, -7.475]\n",
      "EgoVariables_CameraRot         [4.590665, -3.169083, 4.401515]\n",
      "EgoVariables_CameraLocAbs      [2756.537, -11337.859, 115.704]\n",
      "EgoVariables_CameraRotAbs      [4.547751, 87.694489, 4.403687]\n",
      "Throttle                                                   0.0\n",
      "Steering                                                0.0014\n",
      "Brake                                                   0.1786\n",
      "ToggledReverse                                               0\n",
      "TurnSignalLeft                                               0\n",
      "TurnSignalRight                                              0\n",
      "HoldHandbrake                                                0\n",
      "WorldPos                        [2756.621, -11343.176, 115.71]\n",
      "WorldRot                        [4.597755, 87.68322, 4.424712]\n",
      "CombinedOrigin                 [2756.519, -11345.408, 115.754]\n",
      "gaze2target_pitch                                       0.5194\n",
      "gaze2target_yaw                                         0.0542\n",
      "head2target_pitch                                       0.3333\n",
      "head2target_yaw                                         0.5503\n",
      "LightOn                                                      1\n",
      "ButtonPressed                                                0\n",
      "Name: 5253, dtype: object\n",
      "TimeElapsed                                           182.368\n",
      "TimestampCarla                                         189779\n",
      "TimestampDevice                                         80144\n",
      "FrameSequence                                       175692231\n",
      "GazeDir_COMBINED                      [0.957, -0.235, -0.169]\n",
      "GazeOrigin_COMBINED                    [-2.271, 0.313, 0.231]\n",
      "GazeValid_COMBINED                                          1\n",
      "GazeVergence_COMBINED                                 242.793\n",
      "GazeDir_LEFT                          [0.955, -0.246, -0.166]\n",
      "GazeOrigin_LEFT                        [-2.258, 3.361, 0.256]\n",
      "GazeValid_LEFT                                              1\n",
      "EyeOpenness_LEFT                                          1.0\n",
      "EyeOpennessValid_LEFT                                       1\n",
      "PupilDiameter_LEFT                                     3.9355\n",
      "PupilPosition_LEFT                            [-0.179, 0.069]\n",
      "PupilPositionValid_LEFT                                     1\n",
      "GazeDir_RIGHT                         [0.959, -0.224, -0.172]\n",
      "GazeOrigin_RIGHT                      [-2.285, -2.736, 0.205]\n",
      "GazeValid_RIGHT                                             1\n",
      "EyeOpenness_RIGHT                                         1.0\n",
      "EyeOpennessValid_RIGHT                                      1\n",
      "PupilDiameter_RIGHT                                    4.4479\n",
      "PupilPosition_RIGHT                           [-0.296, 0.067]\n",
      "PupilPositionValid_RIGHT                                    1\n",
      "FocusInfo_Hit                                               1\n",
      "FocusInfo_Distance                                  7004.0747\n",
      "FocusInfo_HitPoint               [4348.93, 4356.602, 381.821]\n",
      "FocusInfo_HitNormal                          [-1.0, 0.0, 0.0]\n",
      "FocusInfo_ActorName                              SM_Mall3_455\n",
      "EgoVariables_VehicleLoc          [2439.833, -2417.984, 0.177]\n",
      "EgoVariables_VehicleRot        [4.8e-05, 90.342323, -6.1e-05]\n",
      "EgoVariables_VehicleVel                                  -0.0\n",
      "EgoVariables_CameraLoc               [22.175, -2.502, -6.961]\n",
      "EgoVariables_CameraRot       [10.735219, -1.108408, 3.708073]\n",
      "EgoVariables_CameraLocAbs       [2480.139, -2385.57, 116.216]\n",
      "EgoVariables_CameraRotAbs       [10.73526, 89.23391, 3.70801]\n",
      "Throttle                                                  0.0\n",
      "Steering                                               0.0056\n",
      "Brake                                                     0.0\n",
      "ToggledReverse                                              0\n",
      "TurnSignalLeft                                              0\n",
      "TurnSignalRight                                             0\n",
      "HoldHandbrake                                               0\n",
      "WorldPos                       [2480.294, -2385.973, 116.165]\n",
      "WorldRot                     [10.586253, 88.853607, 3.331799]\n",
      "CombinedOrigin                 [2479.896, -2388.256, 115.968]\n",
      "gaze2target_pitch                                      0.2189\n",
      "gaze2target_yaw                                       -0.2869\n",
      "head2target_pitch                                      0.0999\n",
      "head2target_yaw                                       -0.5261\n",
      "LightOn                                                     1\n",
      "ButtonPressed                                               0\n",
      "Name: 7835, dtype: object\n"
     ]
    }
   ],
   "source": [
    "for target_tuple in hits_and_misses:\n",
    "    if target_tuple[1] is False:\n",
    "        # miss\n",
    "        print(target_tuple[0]) "
   ]
  },
  {
   "cell_type": "code",
   "execution_count": 37,
   "id": "ce0f1776-7cd4-4591-8c17-0b506964278c",
   "metadata": {
    "tags": []
   },
   "outputs": [
    {
     "data": {
      "application/vnd.jupyter.widget-view+json": {
       "model_id": "e660ebf3d86740beae966310d4fc4edd",
       "version_major": 2,
       "version_minor": 0
      },
      "image/png": "[encoded data removed]",
      "text/html": [
       "\n",
       "            <div style=\"display: inline-block;\">\n",
       "                <div class=\"jupyter-widgets widget-label\" style=\"text-align: center;\">\n",
       "                    Figure\n",
       "                </div>\n",
       "                <img src='data:image/png;base64,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' width=640.0/>\n",
       "            </div>\n",
       "        "
      ],
      "text/plain": [
       "Canvas(toolbar=Toolbar(toolitems=[('Home', 'Reset original view', 'home', 'home'), ('Back', 'Back to previous …"
      ]
     },
     "metadata": {},
     "output_type": "display_data"
    }
   ],
   "source": [
    "# Preliminary analysis\n",
    "fig, ax = plt.subplots()\n",
    "\n",
    "# plots of hits misses vs ecc\n",
    "for target_tuple in hits_and_misses:\n",
    "    target_response = True\n",
    "    if target_tuple[1] is False:\n",
    "        # miss\n",
    "        target_response = False\n",
    "        pass\n",
    "    else:\n",
    "        # hits\n",
    "        pass\n",
    "        # print(target_tuple[1].ButtonPressed)\n",
    "    ax.scatter(target_tuple[0].gaze2target_yaw*180/np.pi,\n",
    "               target_tuple[0].gaze2target_pitch*180/np.pi,\n",
    "               c='g' if target_response else 'r')\n",
    "    ax.set_title(\"Hits/Misses vs. Eccentricity\\n(Pitch and Yaw of Target from EYE Gaze during onset)\")\n",
    "    \n",
    "    # ax.scatter(target_tuple[0].head2target_yaw*180/np.pi, target_tuple[0].head2target_pitch*180/np.pi, c='g' if target_response else 'r')\n",
    "    # ax.set_title(\"Hits/Misses vs. Eccentricity\\n(Pitch and Yaw of Target from HEAD Gaze during onset)\")\n",
    "    \n",
    "    ax.set_xlabel(\"yaw (degrees)\")\n",
    "    ax.set_ylabel(\"pitch (degrees)\")\n",
    "    ax.set_xlim(-60, 60)\n",
    "    ax.set_ylim(-40, 60)\n",
    "    ax.set_aspect('equal')\n",
    "    # ax.show()"
   ]
  },
  {
   "cell_type": "markdown",
   "id": "780cef8f-dbb5-4624-abba-77c9f0e26083",
   "metadata": {
    "tags": []
   },
   "source": [
    "## Gaze event detection (gaze vector/gaze+head only)\n"
   ]
  },
  {
   "cell_type": "code",
   "execution_count": 38,
   "id": "1cfa789f-6a22-4d55-8896-a875242880e5",
   "metadata": {
    "tags": []
   },
   "outputs": [],
   "source": [
    "from ibmm import EyeClassifier\n",
    "from ibmm_online import EyeClassifierOnline"
   ]
  },
  {
   "cell_type": "code",
   "execution_count": 39,
   "id": "98ba8802-c2b5-4207-a0d2-f67f34863373",
   "metadata": {},
   "outputs": [],
   "source": [
    "gazeORgazeHead = \"gazeHead\""
   ]
  },
  {
   "cell_type": "code",
   "execution_count": 40,
   "id": "aca14dcd-7e84-4824-9160-76a413ff633c",
   "metadata": {
    "collapsed": true,
    "jupyter": {
     "outputs_hidden": true
    },
    "tags": []
   },
   "outputs": [
    {
     "ename": "AttributeError",
     "evalue": "'DataFrame' object has no attribute 'CameraRot'",
     "output_type": "error",
     "traceback": [
      "\u001b[1;31m---------------------------------------------------------------------------\u001b[0m",
      "\u001b[1;31mAttributeError\u001b[0m                            Traceback (most recent call last)",
      "\u001b[1;32m~\\AppData\\Local\\Temp/ipykernel_43532/1708839736.py\u001b[0m in \u001b[0;36m<module>\u001b[1;34m\u001b[0m\n\u001b[0;32m     37\u001b[0m     \u001b[1;31m# gaze+head values\u001b[0m\u001b[1;33m\u001b[0m\u001b[1;33m\u001b[0m\u001b[1;33m\u001b[0m\u001b[0m\n\u001b[0;32m     38\u001b[0m     \u001b[0mgaze_pitches\u001b[0m\u001b[1;33m,\u001b[0m \u001b[0mgaze_yaws\u001b[0m \u001b[1;33m=\u001b[0m \u001b[0mGetGazeDeviationFromHead\u001b[0m\u001b[1;33m(\u001b[0m\u001b[0mdf2\u001b[0m\u001b[1;33m.\u001b[0m\u001b[0mCgaze_x\u001b[0m\u001b[1;33m,\u001b[0m \u001b[0mdf2\u001b[0m\u001b[1;33m.\u001b[0m\u001b[0mCgaze_y\u001b[0m\u001b[1;33m,\u001b[0m \u001b[0mdf2\u001b[0m\u001b[1;33m.\u001b[0m\u001b[0mCgaze_z\u001b[0m\u001b[1;33m)\u001b[0m\u001b[1;33m\u001b[0m\u001b[1;33m\u001b[0m\u001b[0m\n\u001b[1;32m---> 39\u001b[1;33m     \u001b[0mhead_rots\u001b[0m \u001b[1;33m=\u001b[0m \u001b[0mdf2\u001b[0m\u001b[1;33m.\u001b[0m\u001b[0mCameraRot\u001b[0m\u001b[1;33m.\u001b[0m\u001b[0mvalues\u001b[0m\u001b[1;33m\u001b[0m\u001b[1;33m\u001b[0m\u001b[0m\n\u001b[0m\u001b[0;32m     40\u001b[0m     \u001b[0mhead_pitches\u001b[0m \u001b[1;33m=\u001b[0m   \u001b[0mdf2\u001b[0m\u001b[1;33m.\u001b[0m\u001b[0mCameraRot\u001b[0m\u001b[1;33m.\u001b[0m\u001b[0mapply\u001b[0m\u001b[1;33m(\u001b[0m\u001b[1;32mlambda\u001b[0m \u001b[0mx\u001b[0m\u001b[1;33m:\u001b[0m \u001b[0mx\u001b[0m\u001b[1;33m[\u001b[0m\u001b[1;36m0\u001b[0m\u001b[1;33m]\u001b[0m\u001b[1;33m)\u001b[0m\u001b[1;33m\u001b[0m\u001b[1;33m\u001b[0m\u001b[0m\n\u001b[0;32m     41\u001b[0m     \u001b[0mhead_yaws\u001b[0m \u001b[1;33m=\u001b[0m \u001b[0mdf2\u001b[0m\u001b[1;33m.\u001b[0m\u001b[0mCameraRot\u001b[0m\u001b[1;33m.\u001b[0m\u001b[0mapply\u001b[0m\u001b[1;33m(\u001b[0m\u001b[1;32mlambda\u001b[0m \u001b[0mx\u001b[0m\u001b[1;33m:\u001b[0m \u001b[0mx\u001b[0m\u001b[1;33m[\u001b[0m\u001b[1;36m2\u001b[0m\u001b[1;33m]\u001b[0m\u001b[1;33m)\u001b[0m\u001b[1;33m\u001b[0m\u001b[1;33m\u001b[0m\u001b[0m\n",
      "\u001b[1;32mc:\\users\\abhijat\\appdata\\local\\programs\\python\\python38\\lib\\site-packages\\pandas\\core\\generic.py\u001b[0m in \u001b[0;36m__getattr__\u001b[1;34m(self, name)\u001b[0m\n\u001b[0;32m   5485\u001b[0m         ):\n\u001b[0;32m   5486\u001b[0m             \u001b[1;32mreturn\u001b[0m \u001b[0mself\u001b[0m\u001b[1;33m[\u001b[0m\u001b[0mname\u001b[0m\u001b[1;33m]\u001b[0m\u001b[1;33m\u001b[0m\u001b[1;33m\u001b[0m\u001b[0m\n\u001b[1;32m-> 5487\u001b[1;33m         \u001b[1;32mreturn\u001b[0m \u001b[0mobject\u001b[0m\u001b[1;33m.\u001b[0m\u001b[0m__getattribute__\u001b[0m\u001b[1;33m(\u001b[0m\u001b[0mself\u001b[0m\u001b[1;33m,\u001b[0m \u001b[0mname\u001b[0m\u001b[1;33m)\u001b[0m\u001b[1;33m\u001b[0m\u001b[1;33m\u001b[0m\u001b[0m\n\u001b[0m\u001b[0;32m   5488\u001b[0m \u001b[1;33m\u001b[0m\u001b[0m\n\u001b[0;32m   5489\u001b[0m     \u001b[1;32mdef\u001b[0m \u001b[0m__setattr__\u001b[0m\u001b[1;33m(\u001b[0m\u001b[0mself\u001b[0m\u001b[1;33m,\u001b[0m \u001b[0mname\u001b[0m\u001b[1;33m:\u001b[0m \u001b[0mstr\u001b[0m\u001b[1;33m,\u001b[0m \u001b[0mvalue\u001b[0m\u001b[1;33m)\u001b[0m \u001b[1;33m->\u001b[0m \u001b[1;32mNone\u001b[0m\u001b[1;33m:\u001b[0m\u001b[1;33m\u001b[0m\u001b[1;33m\u001b[0m\u001b[0m\n",
      "\u001b[1;31mAttributeError\u001b[0m: 'DataFrame' object has no attribute 'CameraRot'"
     ]
    }
   ],
   "source": [
    "df2 = df1.copy()\n",
    "if gazeORgazeHead == \"gaze\":\n",
    "    df2['Lgaze_x'] = df1.GazeDir_LEFT.apply(lambda x: x[0])\n",
    "    df2['Lgaze_y'] = df1.GazeDir_LEFT.apply(lambda x: x[1])\n",
    "    df2['Lgaze_z'] = df1.GazeDir_LEFT.apply(lambda x: x[2])\n",
    "\n",
    "    df2['Rgaze_x'] = df1.GazeDir_RIGHT.apply(lambda x: x[0])\n",
    "    df2['Rgaze_y'] = df1.GazeDir_RIGHT.apply(lambda x: x[1])\n",
    "    df2['Rgaze_z'] = df1.GazeDir_RIGHT.apply(lambda x: x[2])\n",
    "\n",
    "\n",
    "    LgazeRaySplitDF = pd.DataFrame(df2[['Lgaze_x', 'Lgaze_y', 'Lgaze_z']])\n",
    "    LgazeRaySplitDF.rename(columns={'Lgaze_x': 'x', 'Lgaze_y': 'y', 'Lgaze_z': 'z'}, inplace=True)\n",
    "    LgazeRaySplitDF['timestamp'] = df2[\"TimeElapsed\"]\n",
    "    LgazeRaySplitDF['confidence'] = df2[\"EyeOpennessValid_LEFT\"].astype(bool) # remove all gazes where an eye was closed\n",
    "\n",
    "    RgazeRaySplitDF = pd.DataFrame(df2[['Rgaze_x', 'Rgaze_y', 'Rgaze_z']])\n",
    "    RgazeRaySplitDF.rename(columns={'Rgaze_x': 'x', 'Rgaze_y': 'y', 'Rgaze_z': 'z'}, inplace=True)\n",
    "    RgazeRaySplitDF['timestamp'] = df2[\"TimeElapsed\"]\n",
    "    RgazeRaySplitDF['confidence'] = df2[\"EyeOpennessValid_RIGHT\"].astype(bool) # remove all gazes where an eye was closed\n",
    "    \n",
    "    velL = EyeClassifier.preprocess(LgazeRaySplitDF, dist_method='vector')\n",
    "    velL.velocity = velL.velocity.astype(float)\n",
    "    velR = EyeClassifier.preprocess(RgazeRaySplitDF, dist_method='vector')\n",
    "    velR.velocity = velR.velocity.astype(float)\n",
    "    model = EyeClassifier()\n",
    "    model.fit(eyes=(velL, velR))\n",
    "    labels, indiv_labels = model.predict(eyes=(velL, velR))\n",
    "    labels_unique = labels[1::2]\n",
    "    \n",
    "elif gazeORgazeHead == \"gazeHead\":\n",
    "    # add approx head compensation\n",
    "    df2['Cgaze_x'] = df1.GazeDir_COMBINED.apply(lambda x: x[0])\n",
    "    df2['Cgaze_y'] = df1.GazeDir_COMBINED.apply(lambda x: x[1])\n",
    "    df2['Cgaze_z'] = df1.GazeDir_COMBINED.apply(lambda x: x[2])\n",
    "\n",
    "    # gaze+head values\n",
    "    gaze_pitches, gaze_yaws = GetGazeDeviationFromHead(df2.Cgaze_x, df2.Cgaze_y, df2.Cgaze_z)\n",
    "    head_rots = df2.CameraRot.values\n",
    "    head_pitches =   df2.CameraRot.apply(lambda x: x[0])\n",
    "    head_yaws = df2.CameraRot.apply(lambda x: x[2])\n",
    "    gaze_head_pitches = gaze_pitches + head_pitches\n",
    "    gaze_head_yaws = gaze_yaws + head_yaws       \n",
    "\n",
    "    # Create the new pd\n",
    "    gazeHeadDF = pd.DataFrame(df2[['TimeElapsed']])\n",
    "    gazeHeadDF = gazeHeadDF.rename(columns={'TimeElapsed':'timestamp'})\n",
    "    gazeHeadDF['confidence'] = (df2.EyeOpennessValid_LEFT*df2.EyeOpennessValid_RIGHT).astype(bool)\n",
    "    gazeHeadDF['x'] = gaze_head_pitches\n",
    "    gazeHeadDF['y'] = gaze_head_yaws\n",
    "    gazeHeadDF['z'] = np.zeros(len(gaze_head_pitches))\n",
    "    \n",
    "    vel_w = EyeClassifier.preprocess(gazeHeadDF, dist_method='euclidean')\n",
    "    model = EyeClassifier()\n",
    "    model.fit(world=vel_w)\n",
    "    # raw_vel = vel_w[np.logical_not(vel_w.velocity.isna())].velocity.values\n",
    "    # raw_vel[raw_vel > raw_vel.mean() + 3 * raw_vel.std()]\n",
    "    # print(\"Velocity Means: \",model.world_model.means_)\n",
    "    \n",
    "    labels, indiv_labels = model.predict(world=vel_w)\n",
    "    labels_unique = labels"
   ]
  },
  {
   "cell_type": "code",
   "execution_count": 20,
   "id": "1ae73a96-7093-46c7-aada-85e37db92c8a",
   "metadata": {
    "tags": []
   },
   "outputs": [
    {
     "name": "stdout",
     "output_type": "stream",
     "text": [
      "labels_np.shape:  (5127, 5)\n"
     ]
    }
   ],
   "source": [
    "# 0- fix, 1- sac, -1 -> noise\n",
    "labels_unique.index = np.arange(1, len(labels_unique) + 1) # start index from 1 instead of 0\n",
    "labels_np = labels_unique.to_numpy()\n",
    "print(\"labels_np.shape: \", labels_np.shape)\n",
    "# add the labels to the original df:\n",
    "recdf_with_labels = df2.join(labels_unique[\"label\"])"
   ]
  },
  {
   "cell_type": "code",
   "execution_count": 21,
   "id": "8dba3631-38df-4c1b-b315-33f6c959ac43",
   "metadata": {},
   "outputs": [
    {
     "name": "stdout",
     "output_type": "stream",
     "text": [
      "Num fixation total pts:  4898\n",
      "Num saccades total pts:  204\n",
      "Num noise total pts:  25\n",
      "\n",
      "Num fixations:  155\n",
      "Num saccades:  151\n",
      "Num noise:  8\n",
      "Num LightOns:  12\n"
     ]
    }
   ],
   "source": [
    "print(\"Num fixation total pts: \", np.sum(labels_np[:,2]))\n",
    "print(\"Num saccades total pts: \", np.sum(labels_np[:,3]))\n",
    "print(\"Num noise total pts: \", np.sum(labels_np[:,4]))\n",
    "print()\n",
    "# filter the consecutives\n",
    "print(\"Num fixations: \", np.sum(np.diff(labels_np[:, 2]) == 1))\n",
    "print(\"Num saccades: \", np.sum(np.diff(labels_np[:, 3]) == 1))\n",
    "print(\"Num noise: \", np.sum(np.diff(labels_np[:, 4]) == 1))\n",
    "print(\"Num LightOns: \", num_targets_spawned)"
   ]
  },
  {
   "cell_type": "markdown",
   "id": "32f32de9-2469-46ef-a40f-1f24fe7c7fc0",
   "metadata": {
    "tags": []
   },
   "source": [
    "## OFD analysis"
   ]
  },
  {
   "cell_type": "code",
   "execution_count": 244,
   "id": "82adff87-4755-43cc-89df-b591c3992632",
   "metadata": {},
   "outputs": [],
   "source": [
    "# need a data format that stores:\n",
    "# all the data from hits and misses\n",
    "# what trial/recording file it corresponds to: recording_name -- this is also stored in the pkl name\n",
    "# "
   ]
  },
  {
   "cell_type": "code",
   "execution_count": 22,
   "id": "b2fa2cdd-dcd8-494f-bbff-82186d5679c2",
   "metadata": {},
   "outputs": [
    {
     "name": "stdout",
     "output_type": "stream",
     "text": [
      "12/12 valid targets\n",
      "11 fixation onsets, 1 sacc, 0 noise\n"
     ]
    },
    {
     "data": {
      "text/plain": [
       "Text(0.5, 1.0, 'Hits/Misses on Gaze Eccentricity vs. OFD')"
      ]
     },
     "execution_count": 22,
     "metadata": {},
     "output_type": "execute_result"
    },
    {
     "data": {
      "application/vnd.jupyter.widget-view+json": {
       "model_id": "0d29edf09f04408e9ff0c9dc8811246c",
       "version_major": 2,
       "version_minor": 0
      },
      "image/png": "[encoded data removed]",
      "text/html": [
       "\n",
       "            <div style=\"display: inline-block;\">\n",
       "                <div class=\"jupyter-widgets widget-label\" style=\"text-align: center;\">\n",
       "                    Figure\n",
       "                </div>\n",
       "                <img src='data:image/png;base64,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' width=640.0/>\n",
       "            </div>\n",
       "        "
      ],
      "text/plain": [
       "Canvas(toolbar=Toolbar(toolitems=[('Home', 'Reset original view', 'home', 'home'), ('Back', 'Back to previous …"
      ]
     },
     "metadata": {},
     "output_type": "display_data"
    }
   ],
   "source": [
    "# target tuples, go back and find labels\n",
    "saccade_onsets = 0\n",
    "fixation_onsets = 0\n",
    "noise_onsets = 0\n",
    "fig, ax = plt.subplots()\n",
    "graph_tuples = []\n",
    "\n",
    "for target_tuple in hits_and_misses:\n",
    "    # for either hit or miss, go back and find the ofd\n",
    "    # check if you're in a fixation rn\n",
    "    if target_tuple[0].GazeValid_COMBINED==0: # check gaze validity \n",
    "        continue\n",
    "    target_locindf = target_tuple[0].name\n",
    "    onset_gaze_event = recdf_with_labels.loc[target_locindf].label  \n",
    "    OFD = 0\n",
    "    pitch = recdf_with_labels.loc[target_locindf].gaze2target_pitch\n",
    "           # + recdf_with_labels.loc[target_locindf].head2target_pitch\n",
    "    yaw = recdf_with_labels.loc[target_locindf].gaze2target_yaw \n",
    "           # + recdf_with_labels.loc[target_locindf].head2target_yaw\n",
    "    \n",
    "    if onset_gaze_event == 0:\n",
    "        fixation_onsets += 1\n",
    "        # go back and look at when this current fixation ends\n",
    "        # labels going back from current gaze\n",
    "        labels_upto_curr = recdf_with_labels.loc[target_locindf::-1].label \n",
    "        np.diff(labels_upto_curr)\n",
    "        labels_upto_curr = recdf_with_labels.loc[target_locindf::-1].label \n",
    "        label_diff = np.diff(labels_upto_curr)!=0\n",
    "        first_fixation_idx = target_locindf - np.argmax(label_diff)\n",
    "        OFD = recdf_with_labels.loc[target_locindf].TimeElapsed -\\\n",
    "                recdf_with_labels.loc[first_fixation_idx].TimeElapsed\n",
    "        \n",
    "        eccentricity = np.linalg.norm([recdf_with_labels.loc[target_locindf].gaze2target_pitch,\n",
    "                                      recdf_with_labels.loc[target_locindf].gaze2target_yaw])*180/np.pi\n",
    "        ax.scatter(OFD, eccentricity, c='r' if target_tuple[1] is False else 'g')\n",
    "        graph_tuples += (OFD, eccentricity, target_tuple[1] is False, pitch, yaw)\n",
    "    elif onset_gaze_event == 1:\n",
    "        saccade_onsets += 1\n",
    "        OFD = 0        \n",
    "        eccentricity = np.linalg.norm([recdf_with_labels.loc[target_locindf].gaze2target_pitch,\n",
    "                                      recdf_with_labels.loc[target_locindf].gaze2target_yaw])*180/np.pi\n",
    "        ax.scatter(OFD, eccentricity, c='r' if target_tuple[1] is False else 'g')\n",
    "        graph_tuples += (OFD, eccentricity, target_tuple[1] is False, pitch, yaw)\n",
    "    else:\n",
    "        noise_onsets += 1\n",
    "    # print(target_locindf, OFD)\n",
    "print(\"{}/{} valid targets\".format(\n",
    "        fixation_onsets+saccade_onsets+noise_onsets,\n",
    "        len(hits_and_misses)))\n",
    "print(\"{} fixation onsets, {} sacc, {} noise\".format(fixation_onsets, saccade_onsets, noise_onsets))\n",
    "\n",
    "#plt.xlim(0, )\n",
    "ax.set_ylim(-1, 60)\n",
    "ax.set_xlabel(\"Onset Fixation Duration (seconds)\")\n",
    "ax.set_ylabel(\"Eccentricity (degrees)\")\n",
    "ax.set_title(\"Hits/Misses on Gaze Eccentricity vs. OFD\")"
   ]
  },
  {
   "cell_type": "code",
   "execution_count": 17,
   "id": "26187812-5481-4646-8d4c-e849265d0f96",
   "metadata": {},
   "outputs": [],
   "source": [
    "# temp hack for henny meeting: save graph tuples\n",
    "graph_data_filname = Path(\"temp_data\").joinpath(recording_name+\"_OFDvEcc.pkl\")\n",
    "with open(graph_data_filname, 'wb') as f:\n",
    "    pkl.dump(graph_tuples, f)"
   ]
  },
  {
   "cell_type": "markdown",
   "id": "f0205c3b-2a30-40ef-b4fb-828d48cab868",
   "metadata": {
    "jp-MarkdownHeadingCollapsed": true,
    "tags": []
   },
   "source": [
    "# Saccade amplitude analysis\n"
   ]
  },
  {
   "cell_type": "code",
   "execution_count": 80,
   "id": "fafb11cd-e3ad-4e57-92e7-d41b68d3d489",
   "metadata": {},
   "outputs": [
    {
     "name": "stdout",
     "output_type": "stream",
     "text": [
      "12/12 valid targets\n",
      "11 fixation onsets, 1 sacc, 0 noise\n"
     ]
    },
    {
     "data": {
      "text/plain": [
       "Text(0.5, 1.0, 'Hits/Misses on Gaze Eccentricity vs. OFD')"
      ]
     },
     "execution_count": 80,
     "metadata": {},
     "output_type": "execute_result"
    },
    {
     "data": {
      "application/vnd.jupyter.widget-view+json": {
       "model_id": "29f6935501b646f6af20fba290448e7a",
       "version_major": 2,
       "version_minor": 0
      },
      "image/png": "[encoded data removed]",
      "text/html": [
       "\n",
       "            <div style=\"display: inline-block;\">\n",
       "                <div class=\"jupyter-widgets widget-label\" style=\"text-align: center;\">\n",
       "                    Figure\n",
       "                </div>\n",
       "                <img src='data:image/png;base64,iVBORw0KGgoAAAANSUhEUgAAAoAAAAHgCAYAAAA10dzkAAAAOXRFWHRTb2Z0d2FyZQBNYXRwbG90bGliIHZlcnNpb24zLjUuMSwgaHR0cHM6Ly9tYXRwbG90bGliLm9yZy/YYfK9AAAACXBIWXMAAA9hAAAPYQGoP6dpAABdgUlEQVR4nO3deVxU1f8/8NewI6sgq6xignuKZZS4gSKmaUDuqWmWa67lVi7l7tcFK/XjkmSJpoiaayq5YKLhrmmgiKIIqKiAGypzfn/w4+Y4oLhxh7mv5+Mxj5pz75z7nrkzzot77zmjEkIIEBEREZFiGMhdABERERGVLQZAIiIiIoVhACQiIiJSGAZAIiIiIoVhACQiIiJSGAZAIiIiIoVhACQiIiJSGAZAIiIiIoVhACQiIiJSGAZAIiIiIoVhACQiIiJSGAZAIiIiIoVhACQiIiJSGAZAIiIiIoVhACQiIiJSGAZAIiIiIoVhACQiIiJSGAZAIiIiIoVhACQiIiJSGAZAIiIiIoVhACQiIiJSGAZAIiIiIoVhACQiIiJSGAZAIiIiIoVhACQiIiJSGAZAIiIiIoVhACQiIiJSGAZAIiIiIoVhACQiIiJSGAZAIiIiIoVhACQiIiJSGAZAIiIiIoVhACQiIiJSGAZAIiIiIoVhAKRyxcvLCz179pS7jBKpVCpMmDBB7jKIXqmmTZuiadOmz/04fh6IdBcDIMkmKioKKpUKhw4dKnZ506ZNUatWraf2cfr0aUyYMAEXLlx4qVqGDx+OGjVqaNSlUqmwb98+rXWFEHB3d4dKpUKbNm1eartKtXHjRrRt2xZOTk4wMTGBnZ0dGjdujFmzZiE3N1fu8oo1YcIE6X1R3C0zM1PuEp/pypUrmDBhAo4dOybL9vfv348JEybg1q1bsmz/ddi0aRNatWoFe3t7mJmZoVq1ahgxYgSys7O11u3Zs2eJ759t27YBAC5cuKDRbmxsjEqVKuHdd9/FmDFjkJaWVtZPkfSUkdwFED2PpKQkGBj893fL6dOnMXHiRDRt2hReXl4v3O/mzZvRtm1bjTYzMzNER0ejUaNGGu179uzB5cuXYWpqqtXPvXv3YGTEj1VJ1Go1evfujaioKNSuXRv9+/eHu7s78vLykJCQgK+//hpbtmxBXFyc3KWWaMGCBbC0tNRqt7W1LftintOVK1cwceJEeHl54c033yz147Zv3/5C23vy87B//35MnDgRPXv2LBev17OMGDECs2bNQt26dTFy5EjY2dnhyJEj+OGHH7Bq1SrExcXB19dX4zGmpqZYsmSJVl9169bVuN+5c2e0bt0aarUaN2/eRGJiIubOnYvIyEgsXboUnTp1eq3PjfQfv6moXCkudL2s8+fPIykpCQsXLtRob926NdasWYN58+ZpfIlFR0fD398f169f1+rLzMzsldenT2bMmIGoqCgMHToUs2bNgkqlkpYNHjwYGRkZWL58uYwVPltERAQqVaokdxll4u7du6hQoQJMTExe6PH6/HlYuXIlZs2ahY4dO2LFihUwNDSUlvXs2RPNmjXDRx99hCNHjmj8+2FkZIRu3bo9s//69etrrXfx4kW0bNkSPXr0QPXq1bVCI9Hz4ClgKlcevwYwKioKH330EQCgWbNm0imT3bt3AwAOHTqEkJAQVKpUCebm5vD29kavXr20+ty8eTNsbGy0jvR17twZ2dnZ2LFjh9T24MEDxMTEoEuXLsXW9+Q1T3l5eRgyZAi8vLxgamoKR0dHtGjRAkeOHJHWOXv2LMLDw+Hs7AwzMzO4ubmhU6dOyMnJ0ej7119/hb+/P8zNzWFnZ4dOnTrh0qVLGuuUtq/irFmzRuq/UqVK6NatG9LT0zXW6dmzJywtLZGeno727dvD0tISDg4OGDFiBAoKCp7a/927dzF9+nTUrFkTM2fO1Ah/RVxcXDBy5EiNtmXLlqF58+ZwdHSEqakpatSogQULFmis87TTs49fM6pWqzF37lzUrFkTZmZmcHJywueff46bN28+8/V5Hvfv38eECRNQrVo1mJmZwcXFBWFhYUhJSdGoJTIyErVr14aZmRkcHBzQqlUrrUsiSrPfiy6XOH36NJo1a4YKFSqgcuXKmDFjhrTO7t278dZbbwEAPvnkE+n1iYqK0ujj8OHDaNy4MSpUqIAxY8ZIy568BrA0z/Hxz8OECRPw5ZdfAgC8vb2l7V+4cAFNmjQpMcz4+voiJCSkxNe6TZs2qFKlSrHLAgIC0KBBA+n+jh070KhRI9ja2sLS0hK+vr7Sc3xeEydORMWKFbFo0SKN8AcAb7/9NkaOHImTJ08iJibmhfovjqenJ6KiovDgwQONfUv0IngEkGSXk5NT7NG0hw8fPvVxjRs3xhdffIF58+ZhzJgxqF69OgCgevXquHr1Klq2bAkHBweMGjUKtra2uHDhAmJjY7X62bJlC1q0aKF16tbLywsBAQFYuXIlQkNDAQBbt25FTk4OOnXqhHnz5j3zufXt2xcxMTEYOHAgatSogezsbOzbtw9nzpxB/fr18eDBA4SEhCA/Px+DBg2Cs7Mz0tPTsWnTJty6dQs2NjYAgMmTJ+Obb75Bhw4d8Omnn+LatWv4/vvv0bhxYxw9ehS2tral7qs4UVFR+OSTT/DWW29h6tSpyMrKQmRkJP766y+p/yIFBQUICQlBw4YN8X//93/YuXMnZs2aBR8fH/Tr16/Ebezbtw+3bt3CiBEjtL4wn2bBggWoWbMmPvjgAxgZGWHjxo3o378/1Go1BgwYAAAICwtD1apVNR53+PBhzJ07F46OjlLb559/Lj3XL774Aqmpqfjhhx9w9OhR/PXXXzA2Nn5mPTdu3NBqMzIykl6jgoICtGnTBnFxcejUqRMGDx6MvLw87NixA6dOnYKPjw8ASKfCQ0ND8emnn+LRo0eIj4/HgQMHpNBSmv1e5ObNm2jVqhXCwsLQoUMHxMTEYOTIkahduzZCQ0NRvXp1fPvttxg3bhw+++wzBAYGAgDeffddqY/s7GyEhoaiU6dO6NatG5ycnIp9DUr7HB8XFhaG5ORkrFy5EnPmzJGOojo4OODjjz9Gnz59cOrUKY3rfhMTE5GcnIyvv/66xP3RsWNHdO/eHYmJiVLABQqPlh04cAAzZ84EAPzzzz9o06YN6tSpg2+//RampqY4d+4c/vrrrxL7LsnZs2eRlJSEnj17wtrauth1unfvjvHjx2PTpk1ap2uf/PfO2Nj4qZ/PxwUEBMDHx0fjD1OiFyKIZLJs2TIB4Km3mjVrajzG09NT9OjRQ7q/Zs0aAUDs2rVLY71169YJACIxMfGpNdy5c0eYmZmJZcuWadWVmJgofvjhB2FlZSXu3r0rhBDio48+Es2aNZNqef/99zX6AyDGjx8v3bexsREDBgwocftHjx4VAMSaNWtKXOfChQvC0NBQTJ48WaP95MmTwsjISGovTV/FefDggXB0dBS1atUS9+7dk9o3bdokAIhx48ZJbT169BAAxLfffqvRR7169YS/v/9TtxMZGSkAiPXr12u0P3r0SFy7dk3jplarpeVFr/3jQkJCRJUqVUrc1rVr14SHh4eoXbu2uH37thBCiPj4eAFArFixQmPdbdu2Fdv+pPHjx5f4PvX19ZXW++mnnwQAMXv2bK0+ip7Xn3/+KQCIL774osR1SrvfhRCiSZMmAoBYvny51Jafny+cnZ1FeHi41JaYmCgAaLzfn+xj4cKFxS5r0qTJcz1HIbQ/DzNnzhQARGpqqsZjbt26JczMzMTIkSM12r/44gthYWEh7cPi5OTkCFNTUzF8+HCN9hkzZgiVSiUuXrwohBBizpw5AoC4du1aiX2V1vr16wUAMWfOnKeuZ21tLerXry/dL/r8PHl7/LVNTU0VAMTMmTNL7Lddu3YCgMjJyXnZp0IKxlPAJLsff/wRO3bs0LrVqVPnhfssOjKyadOmpx5J/PPPP5Gfny8d4XtShw4dcO/ePWzatAl5eXnYtGlTiad/S6rj4MGDuHLlSrHLi/7q/+OPP3D37t1i14mNjYVarUaHDh1w/fp16ebs7Iw33ngDu3btKnVfxTl06BCuXr2K/v37a1yz9f7778PPzw+bN2/Wekzfvn017gcGBuL8+fNP3U7R6N4nB1CcPHkSDg4OGrfHR1Cam5tL/190tLhJkyY4f/58sae2CwoK0LlzZ+Tl5WHdunWwsLAAUHiK28bGBi1atNB4Hf39/WFpaSm9js+ydu1arffqsmXLNJZXqlQJgwYN0nps0WnvtWvXQqVSYfz48SWuU9r9XsTS0lLjmjETExO8/fbbz9wvjzM1NcUnn3zyzPVK8xyfh42NDdq1a4eVK1dCCAGgcD/+9ttvaN++vbQPi2NtbY3Q0FCsXr1aeiwA/Pbbb3jnnXfg4eEB4L9/EzZs2AC1Wv3cNT4uLy8PAGBlZfXU9aysrLRGtZuZmWm9f2bNmvVc2y/6DBXVQfQieAqYZPf2229rXKdTpGLFisWeGi6NJk2aIDw8HBMnTsScOXPQtGlTtG/fHl26dNEYSLJ582Y0aNCgxFNdDg4OCA4ORnR0NO7evYuCggJERESUuo4ZM2agR48ecHd3h7+/P1q3bo3u3btL1yx5e3tj2LBhmD17NlasWIHAwEB88MEH6NatmxTozp49CyEE3njjjWK3UXTasjR9FefixYsAoDVaEQD8/Py0psIpul7tcRUrVnzmdXRFX5a3b9/WaK9atap0Omv58uX45ZdfNJb/9ddfGD9+PBISErSCbU5OjtZz+/rrr/Hnn39i8+bNGqciz549i5ycHI1Two+7evXqU+sv0rhx46cOAklJSYGvr+9TR4OnpKTA1dUVdnZ2Ja5T2v1exM3NTSt8VaxYESdOnChxG0+qXLlyqQZ8lOY5Pq/u3bvjt99+Q3x8PBo3boydO3ciKysLH3/88TMf27FjR6xfvx4JCQl49913kZKSIl0C8Pg6S5YswaeffopRo0YhKCgIYWFhiIiI0JhZoDSK3svPCmB5eXla7zdDQ0MEBwc/1/aeVPQZelYAJXoaBkDSSyqVCjExMThw4AA2btyIP/74A7169cKsWbNw4MAB6S/oLVu2PPOIR5cuXdCnTx9kZmYiNDT0uaav6NChAwIDA7Fu3Tps374dM2fOxPTp0xEbGysddZw1axZ69uyJDRs2YPv27fjiiy8wdepUHDhwAG5ublCr1VCpVNi6dWux1849fkTtWX29Cs9z/d7j/Pz8AACnTp1Cu3btpHZLS0vpC/HJsJmSkoKgoCD4+flh9uzZcHd3h4mJCbZs2YI5c+ZoHclZv349pk+fju+++w6tWrXSWKZWq+Ho6IgVK1YUW9+ToVZuz7PfgZL3y+NHxZ7l8aOtZS0kJAROTk749ddf0bhxY/z6669wdnYuVVhq27YtKlSogNWrV+Pdd9/F6tWrYWBgIA0SAwqf2969e7Fr1y5s3rwZ27Ztw2+//YbmzZtj+/btz/W+Lrre+Gnh+uLFi8jNzZXmF32VTp06BUdHxxKvPyQqDZ4CpnLtWaeb3nnnHUyePBmHDh3CihUr8M8//2DVqlUACv8RTUtLw/vvv//UPj788EMYGBjgwIEDz3X6t4iLiwv69++P9evXIzU1Ffb29pg8ebLGOrVr18bXX3+NvXv3Ij4+Hunp6dK0ND4+PhBCwNvbG8HBwVq3d955p9R9FcfT0xNA4RyLT0pKSpKWv6zAwEDY2Nhg1apVpT4Ft3HjRuTn5+P333/H559/jtatWyM4OLjYoJKcnIwePXqgffv2xY7s9PHxQXZ2Nt57771iX8dXNaWGj48PkpKSnnrpgY+PD65cuVLsgJLH13me/V4aL3J6tqTanvUcn3f7hoaG6NKlC2JiYnDz5k2sX78enTt3LlUws7CwQJs2bbBmzRqo1Wr89ttvCAwMhKurq8Z6BgYGCAoKwuzZs3H69GlMnjwZf/75Z6lP/xepVq0aqlWrhvXr15d4FLBoOqNXPVl8QkICUlJS0LJly1faLykPAyCVa0XXBj35ywI3b97UOvJRNPFtfn4+gMKjf05OTsWefn6cpaUlFixYgAkTJmhNFv00BQUFWteoOTo6wtXVVaohNzcXjx490lindu3aMDAwkNYJCwuDoaEhJk6cqPWchBDS9XKl6as4DRo0gKOjIxYuXKix3tatW3HmzJlnBuTSqlChAr766iucOnUKo0aNKvbI1JNtRV/+j7fn5ORoXHMHFJ4S+/DDD1G5cmX8/PPPxQaNDh06oKCgAN99953WskePHr2yX6cIDw/H9evX8cMPP2gtK3oe4eHhEEJg4sSJJa5T2v3+PEr6vDyv0jzHF9n+xx9/jJs3b+Lzzz/H7du3SzVfXpGOHTviypUrWLJkCY4fP46OHTtqLC8ubD/5bwIA/Pvvv6X6tY1x48bh5s2b6Nu3r9YUSIcPH8b06dNRq1YthIeHl/o5PMvFixfRs2dPmJiYSFPqEL0ongKmcu3NN9+EoaEhpk+fjpycHJiamqJ58+aIjo7G/Pnz8eGHH8LHxwd5eXlYvHgxrK2t0bp1awCF1/+FhoaW6qhIjx49nru2vLw8uLm5ISIiAnXr1oWlpSV27tyJxMRE6aLvP//8EwMHDsRHH32EatWq4dGjR/jll19gaGgofXH4+Phg0qRJGD16NC5cuID27dvDysoKqampWLduHT777DOMGDGiVH0Vx9jYGNOnT8cnn3yCJk2aoHPnztI0MF5eXhg6dOhzP/eSjBo1CmfOnMHMmTOxfft2hIeHw83NDTdv3sSRI0ewZs0aODo6SoNRWrZsCRMTE7Rt21YKBYsXL4ajoyMyMjKkfidOnIjTp0/j66+/xoYNGzS26ePjg4CAADRp0gSff/45pk6dimPHjqFly5YwNjbG2bNnsWbNGkRGRpbq+s6YmJhifwmkRYsWcHJyQvfu3bF8+XIMGzYMf//9NwIDA3Hnzh3s3LkT/fv3R7t27dCsWTN8/PHHmDdvHs6ePYtWrVpBrVYjPj4ezZo1w8CBA0u935+Hj48PbG1tsXDhQlhZWcHCwgINGzaEt7f3c/VTmudYHH9/fwDA2LFj0alTJxgbG6Nt27ZSMKxXrx5q1aqFNWvWoHr16qhfv36pa2rdujWsrKykaYaefM9/++232Lt3L95//314enri6tWrmD9/Ptzc3DTmAK1evTqaNGkizSdakq5duyIxMRGRkZE4ffo0unbtiooVK+LIkSP46aefYG9vj5iYmFJNLVScI0eO4Ndff4VarcatW7eQmJgoDR765ZdfXmqQHBEATgND8nl8upXiNGnS5JnTwAghxOLFi0WVKlWEoaGhNCXMkSNHROfOnYWHh4cwNTUVjo6Ook2bNuLQoUNCiMJpJ4yMjMTq1aufu67Ha3naNDD5+fniyy+/FHXr1hVWVlbCwsJC1K1bV8yfP19a//z586JXr17Cx8dHmJmZCTs7O9GsWTOxc+dOre2tXbtWNGrUSFhYWAgLCwvh5+cnBgwYIJKSkp67r+L89ttvol69esLU1FTY2dmJrl27isuXL2us06NHD2FhYaH12KIpUkpr3bp1onXr1sLBwUEYGRkJW1tb0ahRIzFz5kxx69YtjXV///13UadOHWFmZia8vLzE9OnTpWlIiqYTKWl6DQBa75dFixYJf39/YW5uLqysrETt2rXFV199Ja5cufLUmp82DUzR+67I3bt3xdixY4W3t7cwNjYWzs7OIiIiQqSkpEjrPHr0SMycOVP4+fkJExMT4eDgIEJDQ8Xhw4c1tvus/S5E8Z+VotfF09NTo23Dhg2iRo0awsjISGNKmJL6KFr2+FQlpX2Oj38einz33XeicuXKwsDAoNgpYWbMmCEAiClTphRby9N07dpVABDBwcFay+Li4kS7du2Eq6urMDExEa6urqJz584iOTlZYz08MS3Ls6xfv160aNFCVKxYUZiamoqqVauK4cOHFzvdTEmfn8cVTQNTdDMyMhJ2dnaiYcOGYvTo0dK0NkQvSyXEc1whTKQnVq9eja5du+L69eulnoCViF6/yMhIDB06FBcuXJCmcCGiV4/XAJIi2draYt68eQx/RDpECIGlS5eiSZMmDH9ErxmvASRF4gg6It1x584d/P7779i1axdOnjypdR0nEb16PAVMRESyunDhAry9vWFra4v+/ftrTZNERK+eXp8CTk9PR7du3WBvbw9zc3PUrl0bhw4dkpYLITBu3Di4uLjA3NwcwcHBOHv2rIwVExEpj5eXF4QQuHnzJsMfURnR2wB48+ZNvPfeezA2NsbWrVtx+vRpzJo1CxUrVpTWmTFjBubNm4eFCxfi4MGDsLCwQEhICO7fvy9j5URERESvl96eAh41ahT++usvxMfHF7tcCAFXV1cMHz5cmksrJycHTk5OiIqKQqdOncqyXCIiIqIyo7dHAH///Xc0aNAAH330ERwdHVGvXj0sXrxYWp6amorMzEyN35m0sbFBw4YNkZCQIEfJRERERGVCb0cBnz9/HgsWLMCwYcMwZswYJCYm4osvvoCJiQl69OiBzMxMAICTk5PG45ycnKRlT8rPz9f4ySC1Wo0bN27A3t7+lf3GJhEREb1eQgjk5eXB1dUVBgZ6eyzsqfQ2AKrVajRo0ABTpkwBUPgTQ6dOncLChQtf6Ge9AGDq1KnF/nYnERERlT+XLl2Cm5ub3GXIQm8DoIuLC2rUqKHRVr16daxduxYA4OzsDADIysqCi4uLtE5WVpb0A+FPGj16NIYNGybdz8nJgYeHBy5dugRra+tX/AyIiIjodcjNzYW7uzusrKzkLkU2ehsA33vvPSQlJWm0JScnw9PTEwDg7e0NZ2dnxMXFSYEvNzcXBw8eRL9+/Yrt09TUFKamplrt1tbWDIBERETljJIv39LbADh06FC8++67mDJlCjp06IC///4bixYtwqJFiwAU7vQhQ4Zg0qRJeOONN+Dt7Y1vvvkGrq6uaN++vbzFExEREb1GehsA33rrLaxbtw6jR4/Gt99+C29vb8ydOxddu3aV1vnqq69w584dfPbZZ7h16xYaNWqEbdu2wczMTMbKiYiIiF4vvZ0HsCzk5ubCxsYGOTk5PAVMRERUTvD7W4/nASQiIiKi4jEAEhERESkMAyARERGRwjAAEhERESkMAyARERGRwjAAEhERESkMAyARERGRwjAAEhERESkMAyARERGRwjAAEhERESkMAyARERGRwjAAEhERESkMAyARERGRwjAAEhERESkMAyARERGRwjAAEhERESkMAyARERGRwjAAEhERESkMAyARERGRwjAAEhERESkMAyARERGRwjAAEhERESkMAyARERGRwjAAEhERESkMAyARERGRwjAAEhERESkMAyARERGRwjAAEhERESkMAyARERGRwjAAEhERESkMAyARERGRwjAAEhERESkMAyARERGRwjAAEhERESkMAyARERGRwjAAEhERESkMAyARERGRwjAAEhERESkMAyARERGRwjAAEhERESkMAyARERGRwjAAEhERESkMAyARERGRwjAAEhERESkMAyARERGRwjAAEhERESkMAyARERGRwjAAEhERESkMAyARERGRwjAAEhERESmM3gbACRMmQKVSadz8/Pyk5ffv38eAAQNgb28PS0tLhIeHIysrS8aKiYiIiMqG3gZAAKhZsyYyMjKk2759+6RlQ4cOxcaNG7FmzRrs2bMHV65cQVhYmIzVEhEREZUNI7kLeJ2MjIzg7Oys1Z6Tk4OlS5ciOjoazZs3BwAsW7YM1atXx4EDB/DOO++UdalEREREZUavjwCePXsWrq6uqFKlCrp27Yq0tDQAwOHDh/Hw4UMEBwdL6/r5+cHDwwMJCQkl9pefn4/c3FyNGxEREVF5o7cBsGHDhoiKisK2bduwYMECpKamIjAwEHl5ecjMzISJiQlsbW01HuPk5ITMzMwS+5w6dSpsbGykm7u7+2t+FkRERESvnt6eAg4NDZX+v06dOmjYsCE8PT2xevVqmJubv1Cfo0ePxrBhw6T7ubm5DIFERERU7ujtEcAn2draolq1ajh37hycnZ3x4MED3Lp1S2OdrKysYq8ZLGJqagpra2uNGxEREVF5o5gAePv2baSkpMDFxQX+/v4wNjZGXFyctDwpKQlpaWkICAiQsUoiIiKi109vTwGPGDECbdu2haenJ65cuYLx48fD0NAQnTt3ho2NDXr37o1hw4bBzs4O1tbWGDRoEAICAjgCmIiIiPSe3gbAy5cvo3PnzsjOzoaDgwMaNWqEAwcOwMHBAQAwZ84cGBgYIDw8HPn5+QgJCcH8+fNlrpqIiIjo9VMJIYTcRZRXubm5sLGxQU5ODq8HJCIiKif4/a2gawCJiIiIqJDengLWSwUFQHw8kJEBuLgAgYGAoaHcVREREVE5wwBYXsTGAoMHA5cv/9fm5gZERgL8DWMiIiJ6DjwFXB7ExgIREZrhDwDS0wvbY2PlqYuIiIjKJQZAXVdQUHjkr7ixOkVtQ4YUrkdERERUCgyAui4+XvvI3+OEAC5dKlyPiIiIqBQYAHVdRsarXY+IiIgUjwFQ17m4vNr1iIiISPEYAHVdYGDhaF+VqvjlKhXg7l64HhEREVEpMADqOkPDwqleAO0QWHR/7lzOB0hERESlxgBYHoSFATExQOXKmu1uboXtnAeQiIiIngMngi4vwsKAdu34SyBERET00hgAyxNDQ6BpU7mrICIionKOp4CJiIiIFIYBkIiIiEhhGACJiIiIFIYBkIiIiEhhGACJiIiIFIYBkIiIiEhhGACJiIiIFIYBkIiIiEhhGACJiIiIFIYBkIiIiEhhGACJiIiIFIYBkIiIiEhhGACJiIiIFIYBkIiIiEhhGACJiIiIFIYBkIiIiEhhGACJiIiIFIYBkIiIiEhhGACJiIiIFIYBkIiIiEhhGACJiIiIFIYBkIiIiEhhGACJiIiIFIYBkIiIiEhhGACJiIiIFIYBkIiIiEhhGACJiIiIFIYBkIiIiEhhGACJiIiIFIYBkIiIiEhhjOQu4HGpqamIj4/HxYsXcffuXTg4OKBevXoICAiAmZmZ3OURERER6QWdCIArVqxAZGQkDh06BCcnJ7i6usLc3Bw3btxASkoKzMzM0LVrV4wcORKenp5yl0tERERUrskeAOvVqwcTExP07NkTa9euhbu7u8by/Px8JCQkYNWqVWjQoAHmz5+Pjz76SKZqiYiIiMo/lRBCyFnAH3/8gZCQkFKtm52djQsXLsDf3/81V1U6ubm5sLGxQU5ODqytreUuh4iIiEqB3986cASwtOEPAOzt7WFvb/8aqyEiIiLSfzo1CvjIkSM4efKkdH/Dhg1o3749xowZgwcPHshYGREREZH+0KkA+PnnnyM5ORkAcP78eXTq1AkVKlTAmjVr8NVXX71wv9OmTYNKpcKQIUOktvv372PAgAGwt7eHpaUlwsPDkZWV9bJPgYiIiEjn6VQATE5OxptvvgkAWLNmDRo3bozo6GhERUVh7dq1L9RnYmIi/ve//6FOnToa7UOHDsXGjRuxZs0a7NmzB1euXEFYWNjLPgUiIiIinadTAVAIAbVaDQDYuXMnWrduDQBwd3fH9evXn7u/27dvo2vXrli8eDEqVqwotefk5GDp0qWYPXs2mjdvDn9/fyxbtgz79+/HgQMHXs2TISIiItJROhUAGzRogEmTJuGXX37Bnj178P777wMonCDaycnpufsbMGAA3n//fQQHB2u0Hz58GA8fPtRo9/Pzg4eHBxISEl7uSRARERHpONlHAT9u7ty56Nq1K9avX4+xY8eiatWqAICYmBi8++67z9XXqlWrcOTIESQmJmoty8zMhImJCWxtbTXanZyckJmZWWKf+fn5yM/Pl+7n5uY+V01EREREukCnAmCdOnU0RgEXmTlzJgwNDUvdz6VLlzB48GDs2LHjlf6E3NSpUzFx4sRX1h8RERGRHHTqFDAA3Lp1C0uWLMHo0aNx48YNAMDp06dx9erVUvdx+PBhXL16FfXr14eRkRGMjIywZ88ezJs3D0ZGRnBycsKDBw9w69YtjcdlZWXB2dm5xH5Hjx6NnJwc6Xbp0qUXeo5EREREctKpI4AnTpxAUFAQbG1tceHCBfTp0wd2dnaIjY1FWloali9fXqp+goKCtI4kfvLJJ/Dz88PIkSPh7u4OY2NjxMXFITw8HACQlJSEtLQ0BAQElNivqakpTE1NX/wJEhEREekAnQqAw4YNwyeffIIZM2bAyspKam/dujW6dOlS6n6srKxQq1YtjTYLCwvY29tL7b1798awYcNgZ2cHa2trDBo0CAEBAXjnnXdezZMhIiIi0lE6FQCL5ux7UuXKlZ86OONFzJkzBwYGBggPD0d+fj5CQkIwf/78V7oNIiIiIl2kUwHQ1NS02JG1ycnJcHBweKm+d+/erXHfzMwMP/74I3788ceX6peIiIiovNGpQSAffPABvv32Wzx8+BAAoFKpkJaWhpEjR0rX6hERERHRy9GpADhr1izcvn0bjo6OuHfvHpo0aYKqVavCysoKkydPlrs8IiIiIr2gU6eAbWxssGPHDuzbtw8nTpzA7du3Ub9+fa1f8iAiIiKiF6dTAbBIo0aN0KBBA5iamkKlUsldDhEREZFe0alTwGq1Gt999x0qV64MS0tLpKamAgC++eYbLF26VObqiIiIiPSDTgXASZMmISoqCjNmzICJiYnUXqtWLSxZskTGyoiIiIj0h04FwOXLl2PRokXo2rWrxm//1q1bF//++6+MlZEsCgqA3buBlSsL/1tQIHdFREREekGnrgFMT09H1apVtdrVarU0NQwpRGwsMHgwcPnyf21ubkBkJBAWJl9dREREekCnjgDWqFED8fHxWu0xMTGoV6+eDBWRLGJjgYgIzfAHAOnphe2xsfLURUREpCd06gjguHHj0KNHD6Snp0OtViM2NhZJSUlYvnw5Nm3aJHd5VBYKCgqP/AmhvUwIQKUChgwB2rUDHrtMgIiIiEpPp44AtmvXDhs3bsTOnTthYWGBcePG4cyZM9i4cSNatGghd3lUFuLjtY/8PU4I4NKlwvWIiIjohejMEcBHjx5hypQp6NWrF3bs2CF3OSSXjIxXux4RERFp0ZkjgEZGRpgxYwYePXokdykkJxeXV7seERERadGZAAgAQUFB2LNnj9xlkJwCAwtH+5b0CzAqFeDuXrgeERERvRCdOQUMAKGhoRg1ahROnjwJf39/WFhYaCz/4IMPZKqMyoyhYeFULxERhWHv8cEgRaFw7lwOACEiInoJKiGKG24pDwODkg9IqlQqFOjYRMC5ubmwsbFBTk4OrK2t5S5HvxQ3D6C7e2H44zyARET0Evj9rWNHANVqtdwlkK4ICyuc6iU+vnDAh4tL4WlfHvkjIiJ6aToVAIk0GBoCTZvKXQUREZHe0akAOG/evGLbVSoVzMzMULVqVTRu3Fjjd4KJiIiI6PnoVACcM2cOrl27hrt376JixYoAgJs3b6JChQqwtLTE1atXUaVKFezatQvu7u4yV0tERERUPunUNDBTpkzBW2+9hbNnzyI7OxvZ2dlITk5Gw4YNERkZibS0NDg7O2Po0KFyl0pERERUbunUKGAfHx+sXbsWb775pkb70aNHER4ejvPnz2P//v0IDw9Hhg78EgRHEREREZU//P7WsSOAGRkZxf4SyKNHj5CZmQkAcHV1RV5eXlmXRkRERKQ3dCoANmvWDJ9//jmOHj0qtR09ehT9+vVD8+bNAQAnT56Et7e3XCUSEZVKgboAuy/sxsqTK7H7wm4UqHVrHlMiUjadGgSydOlSfPzxx/D394exsTGAwqN/QUFBWLp0KQDA0tISs2bNkrNMIqKnij0Ti8HbBuNy7n8TmbtZuyGyVSTCqnMicyKSn05dA1jk33//RXJyMgDA19cXvr6+MldUPF5DQERPij0Ti4jVERDQ/KdVhcKfMozpEMMQSCQzfn/r2BHAIlWqVIFKpYKPjw+MjHSyxNeqQF2A+LR4ZORlwMXKBYEegTA04NyHRLquQF2AwdsGa4U/ABAQUEGFIduGoJ1vO36miUhWOnUN4N27d9G7d29UqFABNWvWRFpaGgBg0KBBmDZtmszVlY3YM7HwivRCs5+boUtsFzT7uRm8Ir0QeyZW7tKI6Bni0+I1Tvs+SUDgUu4lxKfFl2FVRETadCoAjh49GsePH8fu3bthZmYmtQcHB+O3336TsbKyUXTq6MkvkPTcdESsjmAIJNJxGXmlm56qtOsREb0uOhUA169fjx9++AGNGjWCSqWS2mvWrImUlBQZK3v9nnXqCACGbBvCkYREOszFyuWVrkdE9LroVAC8du0aHB0dtdrv3LmjEQj1EU8dEZV/gR6BcLN2kwZ8PEkFFdyt3RHoEVjGlRERadKpANigQQNs3rxZul8U+pYsWYKAgAC5yioTPHVEVP4ZGhgislUkAGiFwKL7c1vN5QAQIpKdTg2xnTJlCkJDQ3H69Gk8evQIkZGROH36NPbv3489e/bIXd5rxVNHRPohrHoYYjrEFDsP4NxWczkFDBHpBJ2bBzAlJQXTpk3D8ePHcfv2bdSvXx8jR45E7dq15S5Ny6ucR6hAXQCvSC+k56YXex2gCiq4WbshdXAqjx4QlQOczolId3EeQB0MgOXJq34DFY0CBqARAjmBLBER0avDAKgDp4Bzc3NLva6+7ySeOiIiIqKyIPsRQAMDg1KP8C0o0K0pUF7XXxA8dURERPT68AigDhwB3LVrl/T/Fy5cwKhRo9CzZ09p1G9CQgJ+/vlnTJ06Va4Sy5yhgSGaejWVuwwiIiLSU7IfAXxcUFAQPv30U3Tu3FmjPTo6GosWLcLu3bvlKawE/AuCiIio/OH3t47NA5iQkIAGDRpotTdo0AB///23DBURERER6R+dCoDu7u5YvHixVvuSJUvg7u4uQ0VERERE+kf2awAfN2fOHISHh2Pr1q1o2LAhAODvv//G2bNnsXbtWpmrIyIiItIPOnUEsHXr1jh79iw++OAD3LhxAzdu3EDbtm2RnJyM1q1by10eERERkV7QqUEg5Q0vIiUiIip/+P2tA0cA09LSnmv99PT011QJERERkTLIHgDfeustfP7550hMTCxxnZycHCxevBi1atXitYBEREREL0n2QSCnT5/G5MmT0aJFC5iZmcHf3x+urq4wMzPDzZs3cfr0afzzzz+oX78+ZsyYwWsBiYiIiF6SzlwDeO/ePWzevBn79u3DxYsXce/ePVSqVAn16tVDSEgIatWqJXeJWngNARERUfnD728dCoDlEd9ARERE5Q+/v3XgGkAiIiIiKlt6GwAXLFiAOnXqwNraGtbW1ggICMDWrVul5ffv38eAAQNgb28PS0tLhIeHIysrS8aKiYiIiMqG3gZANzc3TJs2DYcPH8ahQ4fQvHlztGvXDv/88w8AYOjQodi4cSPWrFmDPXv24MqVKwgLC5O56nKqoADYvRtYubLwvwUFcldERERET6GoawDt7Owwc+ZMREREwMHBAdHR0YiIiAAA/Pvvv6hevToSEhLwzjvvlKo/XkMAIDYWGDwYuHz5vzY3NyAyEmCgJiIiHcTvbx07Anjnzp3X0m9BQQFWrVqFO3fuICAgAIcPH8bDhw8RHBwsrePn5wcPDw8kJCSU2E9+fj5yc3M1booWGwtERGiGPwBITy9sj42Vpy4iIiJ6Kp0KgE5OTujVqxf27dv3Svo7efIkLC0tYWpqir59+2LdunWoUaMGMjMzYWJiAltbW63tZ2Zmltjf1KlTYWNjI93c3d1fSZ3lUkFB4ZG/4g4gF7UNGcLTwURERDpIpwLgr7/+ihs3bqB58+aoVq0apk2bhitXrrxwf76+vjh27BgOHjyIfv36oUePHjh9+vQL9zd69Gjk5ORIt0uXLr1wX+VefLz2kb/HCQFculS4HhEREekUnQqA7du3x/r165Geno6+ffsiOjoanp6eaNOmDWJjY/Ho0aPn6s/ExARVq1aFv78/pk6dirp16yIyMhLOzs548OABbt26pbF+VlYWnJ2dS+zP1NRUGlVcdFOsjIxXux4RERGVGZ0KgEUcHBwwbNgwnDhxArNnz8bOnTsREREBV1dXjBs3Dnfv3n2hftVqNfLz8+Hv7w9jY2PExcVJy5KSkpCWloaAgIBX9TT0m4vLq13vKQrUBdh9YTdWnlyJ3Rd2o0DN08pEREQvQ/bfAi5OVlYWfv75Z0RFReHixYuIiIhA7969cfnyZUyfPh0HDhzA9u3bn9rH6NGjERoaCg8PD+Tl5SE6Ohq7d+/GH3/8ARsbG/Tu3RvDhg2DnZ0drK2tMWjQIAQEBJR6BLDiBQYWjvZNTy/+OkCVqnB5YOBLbSb2TCwGbxuMy7n/nW52s3ZDZKtIhFXnKGMiIqIXoVMBMDY2FsuWLcMff/yBGjVqoH///ujWrZvGYI13330X1atXf2ZfV69eRffu3ZGRkQEbGxvUqVMHf/zxB1q0aAEAmDNnDgwMDBAeHo78/HyEhIRg/vz5r+up6R9Dw8KpXiIiCsPe4yFQpSr879y5heu9oNgzsYhYHQEBzYCZnpuOiNURiOkQwxBIRET0AnRqHkAbGxt06tQJn376Kd56661i17l37x5mzJiB8ePHl3F12jiPEIqfB9DdvTD8vcQ8gAXqAnhFemkc+XucCiq4WbshdXAqDA1ePGQSEZHy8PtbxwLg3bt3UaFCBbnLKDW+gf6/goLC0b4ZGYXX/AUGvtSRPwDYfWE3mv3c7Jnr7eqxC029mr7UtoiISFn4/a1jp4CtrKyQkZEBR0dHjfbs7Gw4OjqigHPK6SZDQ6Bp01faZUZe6UYPl3Y9IiIi+o9OjQIu6WBkfn4+TExMyrgakpOLVelGD5d2PSIiIvqPThwBnDdvHgBApVJhyZIlsLS0lJYVFBRg79698PPzk6s8kkGgRyDcrN2QnpuuNQgE+O8awECPlxtlTEREpEQ6EQDnzJkDoPAI4MKFC2H42PVjJiYm8PLywsKFC+Uqj2RgaGCIyFaRiFgdARVUGiFQhcJRxnNbzeUAECIiohegEwEwNTUVANCsWTPExsaiYsWKMldEuiCsehhiOsQUOw/g3FZzOQUMERHRC9KpUcDlDUcRlY0CdQHi0+KRkZcBFysXBHoE8sgfERG9MH5/68ARwGHDhuG7776DhYUFhg0b9tR1Z8+eXUZVkS4xNDDkVC9ERESvkOwB8OjRo3j48KH0/yVRFf26BBERERG9FJ4Cfgk8hExERFT+8Ptbx+YBzMnJwY0bN7Tab9y4gdzcXBkqIiIiItI/OhUAO3XqhFWrVmm1r169Gp06dZKhIiIiIiL9o1MB8ODBg2jWTPv3X5s2bYqDBw/KUBERERGR/tGpAJifn49Hjx5ptT98+BD37t2ToSIiIiIi/aNTAfDtt9/GokWLtNoXLlwIf39/GSoiIiIi0j+yTwPzuEmTJiE4OBjHjx9HUFAQACAuLg6JiYnYvn27zNURERER6QedOgL43nvvISEhAe7u7li9ejU2btyIqlWr4sSJEwgMDJS7PCIiIiK9wHkAXwLnESIiIip/+P2tA6eAc3NzpRf/WXP9KXUnEREREb1KsgfAihUrIiMjA46OjrC1tS32J9+EEFCpVCgoKJChQiIiIiL9InsA/PPPP2FnZwcA2LVrl8zVEBEREek/2QNgkyZNAACPHj3Cnj170KtXL7i5uclcFREREZH+0plRwEZGRpg5c2axE0ETERER0aujMwEQAJo3b449e/bIXQYRERGRXpP9FPDjQkNDMWrUKJw8eRL+/v6wsLDQWP7BBx/IVBkRERGR/tCpeQANDEo+IKmLo4A5jxAREVH5w+9vHTsCqFar5S6BiIiISO/p1DWAy5cvR35+vlb7gwcPsHz5chkqIiIiItI/OnUK2NDQUJoU+nHZ2dlwdHTkKWAiIiJ6afz+1rEjgEW/+PGky5cvw8bGRoaKiIiIiPSPTlwDWK9ePahUKqhUKgQFBcHI6L+yCgoKkJqailatWslYIREREZH+0IkA2L59ewDAsWPHEBISAktLS2mZiYkJvLy8EB4eLlN1RERERPpFJwLg+PHjAQBeXl7o2LEjzMzMZK6ISNkK1AWIT4tHRl4GXKxcEOgRCEMDQ7nLIiKiV0QnAmCRHj16ACgc9Xv16lWtaWE8PDzkKItIUWLPxGLwtsG4nHtZanOzdkNkq0iEVQ+TsTIiInpVdCoAnj17Fr169cL+/fs12osGh+jaKGB6Nh5JKl9iz8QiYnUEBDQnB0jPTUfE6gjEdIhhCCQi0gM6FQB79uwJIyMjbNq0CS4uLsWOCKbyg0eSypcCdQEGbxusFf4AQEBABRWGbBuCdr7tGOKJiMo5nQqAx44dw+HDh+Hn5yd3KfSSeCSp/IlPi9cI608SELiUewnxafFo6tW07AojIqJXTqfmAaxRowauX78udxn0kp51JAkAhmwbggI1T+nrkoy8jFe6HhER6S6dCoDTp0/HV199hd27dyM7Oxu5ubkaNyofnudIEukOFyuXV7oeERHpLp06BRwcHAwACAoK0mjnIJDyhUeSyqdAj0C4WbshPTe92KO3KqjgZu2GQI9AGaojIqJXSacC4K5du+QugV4BHkkqnwwNDBHZKhIRqyOggkojBKpQOCBrbqu5HABCRKQHVEII7T/1qVT4Y9LFK1AXwCvS65lHklIHpzJM6KDiRm+7W7tjbqu5HLhDRHqB3986dgQQAOLj4/G///0P58+fx5o1a1C5cmX88ssv8Pb2RqNGjeQuj0qBR5LKt7DqYWjn247zNxIR6TGdGgSydu1ahISEwNzcHEeOHEF+fj4AICcnB1OmTJG5OnoeYdXDENMhBpWtK2u0u1m7cQqYcsDQwBBNvZqic+3OaOrVlOGPiEjP6NQp4Hr16mHo0KHo3r07rKyscPz4cVSpUgVHjx5FaGgoMjMz5S5RAw8hPxt/CYSIiHQNv7917BRwUlISGjdurNVuY2ODW7dulX1B9NKKjiQRERGR7tCpU8DOzs44d+6cVvu+fftQpUoVGSoiIiIi0j86FQD79OmDwYMH4+DBg1CpVLhy5QpWrFiBESNGoF+/fnKXR0RERKQXdOoU8KhRo6BWqxEUFIS7d++icePGMDU1xYgRIzBo0CC5yyMiIiLSCzp1BFClUmHs2LG4ceMGTp06hQMHDuDatWv47rvvnruvqVOn4q233oKVlRUcHR3Rvn17JCUlaaxz//59DBgwAPb29rC0tER4eDiysrJe1dMhIiIi0kk6FQBzcnJw48YNmJiYoEaNGnj77bdhaWmJGzduPPdvAe/ZswcDBgzAgQMHsGPHDjx8+BAtW7bEnTt3pHWGDh2KjRs3Ys2aNdizZw+uXLmCsDBOT0JERET6TaemgQkNDUXbtm3Rv39/jfaFCxfi999/x5YtW16472vXrsHR0RF79uxB48aNkZOTAwcHB0RHRyMiIgIA8O+//6J69epISEjAO++888w+OYyciIio/OH3t44dATx48CCaNWum1d60aVMcPHjwpfrOyckBANjZ2QEADh8+jIcPHyI4OFhax8/PDx4eHkhISHipbRERERHpMp0aBJKfn49Hjx5ptT98+BD37t174X7VajWGDBmC9957D7Vq1QIAZGZmwsTEBLa2thrrOjk5lTjhdH5+vvTrJACe+7Q0ERERkS7QqSOAb7/9NhYtWqTVvnDhQvj7+79wvwMGDMCpU6ewatWqlykPU6dOhY2NjXRzd3d/qf6IiIiI5KBTRwAnTZqE4OBgHD9+HEFBQQCAuLg4JCYmYvv27S/U58CBA7Fp0ybs3bsXbm5uUruzszMePHiAW7duaRwFzMrKgrOzc7F9jR49GsOGDZPu5+bmMgQSERFRuaNTRwDfe+89JCQkwN3dHatXr8bGjRtRtWpVnDhxAoGBgc/VlxACAwcOxLp16/Dnn3/C29tbY7m/vz+MjY0RFxcntSUlJSEtLQ0BAQHF9mlqagpra2uNGxEREVF5o1OjgF+l/v37Izo6Ghs2bICvr6/UbmNjA3NzcwBAv379sGXLFkRFRcHa2lqabHr//v2l2gZHEREREZU//P7WsQC4ZcsWGBoaIiQkRKP9jz/+gFqtRmhoaKn7UqlUxbYvW7YMPXv2BFA4EfTw4cOxcuVK5OfnIyQkBPPnzy/xFPCT+AYiIiIqf/j9rWMBsE6dOpg2bRpat26t0b5t2zaMHDkSx48fl6my4vENREREVP7w+1vHrgE8e/YsatSoodXu5+eHc+fOyVARERERkf7RqQBoY2OD8+fPa7WfO3cOFhYWMlREREREpH90KgC2a9cOQ4YMQUpKitR27tw5DB8+HB988IGMlRERERHpD50KgDNmzICFhQX8/Pzg7e0Nb29vVK9eHfb29vi///s/ucsjIiIi0gs6NRG0jY0N9u/fjx07duD48eMwNzdHnTp10LhxY7lLIyIiItIbOjUKuLzhKCIiIqLyh9/fOnIKuHXr1sjJyZHuT5s2Dbdu3ZLuZ2dnFzs6mIiIiIien04EwD/++AP5+fnS/SlTpuDGjRvS/UePHiEpKUmO0oiIiIj0jk4EwCfPQvOsNBEREdHroxMBkIiIiIjKjk4EQJVKpfXbvSX9li8RERERvRydmAZGCIGePXvC1NQUAHD//n307dtX+vWPx68PJCIiIqKXoxMBsEePHhr3u3XrprVO9+7dy6ocIiIiIr2mEwFw2bJlcpdAREREpBg6cQ0gEREREZUdBkAiIiIihWEAJCIiIlIYBkAiIiIihWEAJCIiIlIYBkAiIiIihWEAJCIiIlIYBkAiIiIihWEAJCIiIlIYBkAiIiIihWEAJCIiIlIYBkAiIiIihWEAJCIiIlIYBkAiIiIihWEAJCIiIlIYBkAiIiIihWEAJCIiIlIYBkAiIiIihWEAJCIiIlIYBkAiIiIihWEAJCIiIlIYBkAiIiIihWEAJCIiIlIYBkAiIiIihWEAJCIiIlIYI7kLIHqWAnUB4tPikZGXARcrFwR6BMLQwFDusoiIiMotBkDSabFnYjF422Bczr0stblZuyGyVSTCqofJWBkREVH5xVPApLNiz8QiYnWERvgDgPTcdESsjkDsmViZKiMiIirfGADpuRSoC7D7wm6sPLkSuy/sRoG64LVtZ/C2wRAQWsuK2oZsG/Latk9ERKTPeAqYSq0sT8fGp8VrHfl7nIDApdxLiE+LR1Ovpq9020RERPqORwCpVMr6dGxGXsYrXY+IiIj+wwBIzyTH6VgXK5dXuh4RERH9hwGQnul5Tse+KoEegXCzdoMKqmKXq6CCu7U7Aj0CX9k2iYiIlIIBkJ5JjtOxhgaGiGwVCQBaIbDo/txWczkfIBER0QtgAKRnkut0bFj1MMR0iEFl68oa7W7WbojpEMN5AImIiF6QSgihfWEXlUpubi5sbGyQk5MDa2truct5bQrUBfCK9EJ6bnqx1wGqoIKbtRtSB6e+liNy/CUQIiJ6lZTy/f00ensEcO/evWjbti1cXV2hUqmwfv16jeVCCIwbNw4uLi4wNzdHcHAwzp49K0+xOk7u07GGBoZo6tUUnWt3RlOvpgx/REREL0lvA+CdO3dQt25d/Pjjj8UunzFjBubNm4eFCxfi4MGDsLCwQEhICO7fv1/GlZYPPB1LRESkPxRxClilUmHdunVo3749gMKjf66urhg+fDhGjBgBAMjJyYGTkxOioqLQqVOnUvWrxEPIPB1LRETlnRK/v5+kyF8CSU1NRWZmJoKDg6U2GxsbNGzYEAkJCaUOgEpUdDqWiIiIyi9FBsDMzEwAgJOTk0a7k5OTtKw4+fn5yM/Pl+7n5ua+ngKJiIiIXiO9vQbwdZg6dSpsbGykm7u7u9wlERERET03RQZAZ2dnAEBWVpZGe1ZWlrSsOKNHj0ZOTo50u3Tp0mutk4iIiOh1UGQA9Pb2hrOzM+Li4qS23NxcHDx4EAEBASU+ztTUFNbW1ho3IiIiovJGb68BvH37Ns6dOyfdT01NxbFjx2BnZwcPDw8MGTIEkyZNwhtvvAFvb2988803cHV1lUYKExEREekrvQ2Ahw4dQrNmzaT7w4YNAwD06NEDUVFR+Oqrr3Dnzh189tlnuHXrFho1aoRt27bBzMxMrpKJiIiIyoQi5gF8XTiPEBERUfnD72+FXgNIREREpGQMgEREREQKwwBIREREpDAMgEREREQKwwBIREREpDAMgEREREQKwwBIREREpDAMgEREREQKwwBIREREpDAMgEREREQKwwBIREREpDAMgEREREQKwwBIREREpDAMgEREREQKwwBIREREpDAMgEREREQKwwBIREREpDAMgEREREQKwwBIREREpDAMgEREREQKwwBIREREpDAMgEREREQKwwBIREREpDAMgEREREQKwwBIREREpDAMgEREREQKwwBIREREpDAMgEREREQKwwBIREREpDAMgEREREQKwwBIREREpDAMgEREREQKwwBIREREpDAMgEREREQKwwBIREREpDAMgEREREQKwwBIREREpDBGchdARERE9LgCdQHi0+KRkZcBFysXBHoEwtDAUO6y9AoDIBEREemM2DOxGLxtMC7nXpba3KzdENkqEmHVw2SsTL/wFDARERHphNgzsYhYHaER/gAgPTcdEasjEHsmVqbK9A8DIBEREcmuQF2AwdsGQ0BoLStqG7JtCArUBWVdml5iACQiIiLZxafFax35e5yAwKXcS4hPiy/DqvQXAyARERHJLiMv45WuR0/HAEhERESyc7FyeaXr0dMxABIREZHsAj0C4WbtBhVUxS5XQQV3a3cEegSWcWX6iQGQiIiIZGdoYIjIVpEAoBUCi+7PbTWX8wG+IgyAREREpBPCqochpkMMKltX1mh3s3ZDTIcYzgP4CqmEENrjralUcnNzYWNjg5ycHFhbW8tdDhERkV543b8Ewu9v/hIIERER6RhDA0M09Woqdxl6jaeAiYiIiBRG8QHwxx9/hJeXF8zMzNCwYUP8/fffcpdERERE9FopOgD+9ttvGDZsGMaPH48jR46gbt26CAkJwdWrV+UujYiIiOi1UXQAnD17Nvr06YNPPvkENWrUwMKFC1GhQgX89NNPcpdGRERE9NooNgA+ePAAhw8fRnBwsNRmYGCA4OBgJCQkFPuY/Px85ObmatyIiIiIyhvFBsDr16+joKAATk5OGu1OTk7IzMws9jFTp06FjY2NdHN3dy+LUomIiIheKcUGwBcxevRo5OTkSLdLly7JXRIRERHRc1PsPICVKlWCoaEhsrKyNNqzsrLg7Oxc7GNMTU1hampaFuURERERvTaKPQJoYmICf39/xMXFSW1qtRpxcXEICAiQsTIiIiKi10uxRwABYNiwYejRowcaNGiAt99+G3PnzsWdO3fwySefyF0aERER0Wuj6ADYsWNHXLt2DePGjUNmZibefPNNbNu2TWtgSEmKfkaZo4GJiIjKj6Lv7aLvcSVSCSU/+5d0+fJljgQmIiIqpy5dugQ3Nze5y5AFA+BLUKvVuHLlCqysrKBSqeQu56Xk5ubC3d0dly5dgrW1tdzl0BO4f3Qb949u4/7RbXLsHyEE8vLy4OrqCgMDZQ6HUPQp4JdlYGCgd385WFtb8x9IHcb9o9u4f3Qb949uK+v9Y2NjU2bb0kXKjL1ERERECsYASERERKQwDIAEoHCS6/Hjx3Oiax3F/aPbuH90G/ePbuP+kQcHgRAREREpDI8AEhERESkMAyARERGRwjAAEhERESkMAyARERGRwjAAKtyECROgUqk0bn5+fnKXpVh79+5F27Zt4erqCpVKhfXr12ssF0Jg3LhxcHFxgbm5OYKDg3H27Fl5ilWgZ+2fnj17an2eWrVqJU+xCjN16lS89dZbsLKygqOjI9q3b4+kpCSNde7fv48BAwbA3t4elpaWCA8PR1ZWlkwVK0tp9k/Tpk21Pj99+/aVqWL9xwBIqFmzJjIyMqTbvn375C5Jse7cuYO6devixx9/LHb5jBkzMG/ePCxcuBAHDx6EhYUFQkJCcP/+/TKuVJmetX8AoFWrVhqfp5UrV5Zhhcq1Z88eDBgwAAcOHMCOHTvw8OFDtGzZEnfu3JHWGTp0KDZu3Ig1a9Zgz549uHLlCsLCwmSsWjlKs38AoE+fPhqfnxkzZshUsf7jT8ERjIyM4OzsLHcZBCA0NBShoaHFLhNCYO7cufj666/Rrl07AMDy5cvh5OSE9evXo1OnTmVZqiI9bf8UMTU15edJBtu2bdO4HxUVBUdHRxw+fBiNGzdGTk4Oli5diujoaDRv3hwAsGzZMlSvXh0HDhzAO++8I0fZivGs/VOkQoUK/PyUER4BJJw9exaurq6oUqUKunbtirS0NLlLomKkpqYiMzMTwcHBUpuNjQ0aNmyIhIQEGSujx+3evRuOjo7w9fVFv379kJ2dLXdJipSTkwMAsLOzAwAcPnwYDx8+1Pj8+Pn5wcPDg58fGTy5f4qsWLEClSpVQq1atTB69GjcvXtXjvIUgUcAFa5hw4aIioqCr68vMjIyMHHiRAQGBuLUqVOwsrKSuzx6TGZmJgDAyclJo93JyUlaRvJq1aoVwsLC4O3tjZSUFIwZMwahoaFISEiAoaGh3OUphlqtxpAhQ/Dee++hVq1aAAo/PyYmJrC1tdVYl5+fslfc/gGALl26wNPTE66urjhx4gRGjhyJpKQkxMbGylit/mIAVLjHT2fVqVMHDRs2hKenJ1avXo3evXvLWBlR+fP4afjatWujTp068PHxwe7duxEUFCRjZcoyYMAAnDp1itcz66iS9s9nn30m/X/t2rXh4uKCoKAgpKSkwMfHp6zL1Hs8BUwabG1tUa1aNZw7d07uUugJRdfFPDlqMSsri9fM6KgqVaqgUqVK/DyVoYEDB2LTpk3YtWsX3NzcpHZnZ2c8ePAAt27d0lifn5+yVdL+KU7Dhg0BgJ+f14QBkDTcvn0bKSkpcHFxkbsUeoK3tzecnZ0RFxcnteXm5uLgwYMICAiQsTIqyeXLl5Gdnc3PUxkQQmDgwIFYt24d/vzzT3h7e2ss9/f3h7GxscbnJykpCWlpafz8lIFn7Z/iHDt2DAD4+XlNeApY4UaMGIG2bdvC09MTV65cwfjx42FoaIjOnTvLXZoi3b59W+Ov3dTUVBw7dgx2dnbw8PDAkCFDMGnSJLzxxhvw9vbGN998A1dXV7Rv316+ohXkafvHzs4OEydORHh4OJydnZGSkoKvvvoKVatWRUhIiIxVK8OAAQMQHR2NDRs2wMrKSrquz8bGBubm5rCxsUHv3r0xbNgw2NnZwdraGoMGDUJAQABHAJeBZ+2flJQUREdHo3Xr1rC3t8eJEycwdOhQNG7cGHXq1JG5ej0lSNE6duwoXFxchImJiahcubLo2LGjOHfunNxlKdauXbsEAK1bjx49hBBCqNVq8c033wgnJydhamoqgoKCRFJSkrxFK8jT9s/du3dFy5YthYODgzA2Nhaenp6iT58+IjMzU+6yFaG4/QJALFu2TFrn3r17on///qJixYqiQoUK4sMPPxQZGRnyFa0gz9o/aWlponHjxsLOzk6YmpqKqlWrii+//FLk5OTIW7geUwkhRFkGTiIiIiKSF68BJCIiIlIYBkAiIiIihWEAJCIiIlIYBkAiIiIihWEAJCIiIlIYBkAiIiIihWEAJCIiIlIYBkAi0klRUVGwtbWVu4yX0rRpUwwZMkS67+Xlhblz55bJtl5UXFwcqlevjoKCghLXmTBhAt58882X3pYuGDVqFAYNGiR3GURljgGQ6DldunQJvXr1gqurK0xMTODp6YnBgwcjOzu7TOso7Zfw3bt3MXr0aPj4+MDMzAwODg5o0qQJNmzY8PqL1BGXL1+GiYkJatWqJWsdiYmJ+Oyzz6T7KpUK69evl6+gYnz11Vf4+uuvYWhoKHcpZWLEiBH4+eefcf78eblLISpTDIBEz+H8+fNo0KABzp49i5UrV+LcuXNYuHAh4uLiEBAQgBs3bshdopa+ffsiNjYW33//Pf79919s27YNERERZR5Y5RQVFYUOHTogNzcXBw8elK0OBwcHVKhQQbbtP8u+ffuQkpKC8PBwuUuBEAKPHj167dupVKkSQkJCsGDBgte+LSJdwgBI9BwGDBgAExMTbN++HU2aNIGHhwdCQ0Oxc+dOpKenY+zYsdK6Xl5emDJlCnr16gUrKyt4eHhg0aJF0vIHDx5g4MCBcHFxgZmZGTw9PTF16lRp+a1bt/Dpp5/CwcEB1tbWaN68OY4fPw6gMNBMnDgRx48fh0qlgkqlQlRUVLE1//777xgzZgxat24NLy8v+Pv7Y9CgQejVq5e0zi+//IIGDRrAysoKzs7O6NKlC65evarRzz///IM2bdrA2toaVlZWCAwMREpKirT8p59+Qs2aNWFqagoXFxcMHDhQWjZ79mzUrl0bFhYWcHd3R//+/XH79m2N/qOiouDh4YEKFSrgww8/LDagbtiwAfXr14eZmRmqVKmCiRMnPjMkCCGwbNkyfPzxx+jSpQuWLl2qsfzChQtQqVRYvXo1AgMDYW5ujrfeegvJyclITExEgwYNYGlpidDQUFy7dk16XM+ePdG+fXtMnDhR2kd9+/bFgwcPSqzl8VPAXl5eAIAPP/wQKpVKul/U7+OGDBmCpk2bSvfv3LmD7t27w9LSEi4uLpg1a5bWtvLz8zFixAhUrlwZFhYWaNiwIXbv3v3U12rVqlVo0aIFzMzMNNqnTZsGJycnWFlZoXfv3rh//77WY5csWYLq1avDzMwMfn5+mD9/vsby/fv3480334SZmRkaNGiA9evXQ6VS4dixYwCA3bt3Q6VSYevWrfD394epqSn27dsHtVqNqVOnwtvbG+bm5qhbty5iYmI0+j516hRCQ0NhaWkJJycnfPzxx7h+/bq0PCYmBrVr14a5uTns7e0RHByMO3fuSMvbtm2LVatWPfW1IdI78v4UMVH5kZ2dLVQqlZgyZUqxy/v06SMqVqwo1Gq1EEIIT09PYWdnJ3788Udx9uxZMXXqVGFgYCD+/fdfIYQQM2fOFO7u7mLv3r3iwoULIj4+XkRHR0v9BQcHi7Zt24rExESRnJwshg8fLuzt7UV2dra4e/euGD58uKhZs6bIyMgQGRkZ4u7du8XW5evrKzp06CByc3NLfG5Lly4VW7ZsESkpKSIhIUEEBASI0NBQafnly5eFnZ2dCAsLE4mJiSIpKUn89NNP0nOZP3++MDMzE3PnzhVJSUni77//FnPmzJEeP2fOHPHnn3+K1NRUERcXJ3x9fUW/fv2k5QcOHBAGBgZi+vTpIikpSURGRgpbW1thY2MjrbN3715hbW0toqKiREpKiti+fbvw8vISEyZMKPF5CSFEXFyccHZ2Fo8ePRInT54UVlZW4vbt29Ly1NRUAUD4+fmJbdu2idOnT4t33nlH+Pv7i6ZNm4p9+/aJI0eOiKpVq4q+fftKj+vRo4ewtLQUHTt2FKdOnRKbNm0SDg4OYsyYMdI6TZo0EYMHD5bue3p6Sq/L1atXBQCxbNkykZGRIa5evSr1265dO43nMHjwYNGkSRPpfr9+/YSHh4fYuXOnOHHihGjTpo2wsrLS2Nann34q3n33XbF3715x7tw5MXPmTGFqaiqSk5NLfK3q1Kkjpk2bptH222+/CVNTU7FkyRLx77//irFjxworKytRt25daZ1ff/1VuLi4iLVr14rz58+LtWvXCjs7OxEVFSWEECInJ0fY2dmJbt26iX/++Uds2bJFVKtWTQAQR48eFUIIsWvXLgFA1KlTR2zfvl2cO3dOZGdni0mTJkn7JiUlRSxbtkyYmpqK3bt3CyGEuHnzpnBwcBCjR48WZ86cEUeOHBEtWrQQzZo1E0IIceXKFWFkZCRmz54tUlNTxYkTJ8SPP/4o8vLypPrPnDkjAIjU1NQSXxsifcMASFRKBw4cEADEunXril0+e/ZsAUBkZWUJIQq/7Lt16yYtV6vVwtHRUSxYsEAIIcSgQYNE8+bNpcD4uPj4eGFtbS3u37+v0e7j4yP+97//CSGEGD9+vMaXcEn27Nkj3NzchLGxsWjQoIEYMmSI2Ldv31Mfk5iYKABIX5KjR48W3t7e4sGDB8Wu7+rqKsaOHfvMWoqsWbNG2NvbS/c7d+4sWrdurbFOx44dNQJgUFCQVvj+5ZdfhIuLy1O31aVLFzFkyBDpft26dcWyZcuk+0UBcMmSJVLbypUrBQARFxcntU2dOlX4+vpK93v06CHs7OzEnTt3pLYFCxYIS0tLUVBQIIR4egAUQhT7fnpWAMzLyxMmJiZi9erV0vLs7Gxhbm4ubevixYvC0NBQpKena/QTFBQkRo8erf0i/X82NjZi+fLlGm0BAQGif//+Gm0NGzbUeO/5+Pho/PEihBDfffedCAgIEEIUvi729vbi3r170vLFixcXGwDXr18vrXP//n1RoUIFsX//fo2+e/fuLTp37ixtp2XLlhrLL126JACIpKQkcfjwYQFAXLhwocTnnZOTIwBIoZJICXgKmOg5CSFKvW6dOnWk/1epVHB2dpZOrfbs2RPHjh2Dr68vvvjiC2zfvl1a9/jx47h9+zbs7e1haWkp3VJTUzVOu5ZG48aNcf78ecTFxSEiIgL//PMPAgMD8d1330nrHD58GG3btoWHhwesrKzQpEkTAEBaWhoA4NixYwgMDISxsbFW/1evXsWVK1cQFBRUYg07d+5EUFAQKleuDCsrK3z88cfIzs7G3bt3AQBnzpxBw4YNNR4TEBCgcf/48eP49ttvNV6PPn36ICMjQ+rnSbdu3UJsbCy6desmtXXr1k3rNDCgua+cnJwAALVr19Zoe/K0eN26dTWu6QsICMDt27dx6dKlEl+Ll5WSkoIHDx5ovF52dnbw9fWV7p88eRIFBQWoVq2axuu1Z8+ep75/7t27p3X691n75s6dO0hJSUHv3r01tjVp0iRpW0lJSahTp45G32+//XaxNTRo0ED6/3PnzuHu3bto0aKFRt/Lly+X+j5+/Dh27dqlsdzPz096rerWrYugoCDUrl0bH330ERYvXoybN29qbNPc3BwASnwfEekjI7kLICovqlatCpVKhTNnzuDDDz/UWn7mzBlUrFgRDg4OUtuTgUmlUkGtVgMA6tevj9TUVGzduhU7d+5Ehw4dEBwcjJiYGNy+fRsuLi7FXrP1IlOjGBsbIzAwEIGBgRg5ciQmTZqEb7/9FiNHjsTDhw8REhKCkJAQrFixAg4ODkhLS0NISIh0PVvRF2RxnrYMKLzGrk2bNujXrx8mT54MOzs77Nu3D71798aDBw9KPSji9u3bmDhxIsLCwrSWPRlaikRHR+P+/fsaAUYIAbVajeTkZFSrVk1qf3xfqVSqYtuK9t3rZGBgoPVHxsOHD5+rj9u3b8PQ0BCHDx/WGs1raWlZ4uMqVaqkFY5Ksy0AWLx4sVZQfJGRxBYWFlp9b968GZUrV9ZYz9TUVFqnbdu2mD59ulZfLi4uMDQ0xI4dO7B//35s374d33//PcaOHYuDBw/C29sbAKTBW49/don0HQMgUSnZ29ujRYsWmD9/PoYOHaoRfDIzM7FixQp0795dCg+lYW1tjY4dO6Jjx46IiIhAq1atcOPGDdSvXx+ZmZkwMjKSBgc8ycTE5KlztT1NjRo18OjRI9y/fx9nz55FdnY2pk2bBnd3dwDAoUOHNNavU6cOfv75Zzx8+FAr1FpZWcHLywtxcXFo1qyZ1rYOHz4MtVqNWbNmwcCg8KTD6tWrNdapXr261ujcAwcOaNyvX78+kpKSULVq1VI/z6VLl2L48OHo2bOnRnv//v3x008/Ydq0aaXuqzjHjx/HvXv3pPfCgQMHYGlpKb2Oz2JsbKy1Dx0cHHDq1CmNtmPHjkmvu4+PD4yNjXHw4EF4eHgAAG7evInk5GTpyG29evVQUFCAq1evIjAwsNTPp169ejh9+rRGW9G+6d69u9T2+L5xcnKCq6srzp8/j65duxbbr6+vL3799Vfk5+dLwS0xMfGZ9dSoUQOmpqZIS0uTntuT6tevj7Vr18LLywtGRsV/palUKrz33nt47733MG7cOHh6emLdunUYNmwYgMJBJMbGxqhZs+YzayLSGzKfgiYqV5KTk0WlSpVEYGCg2LNnj0hLSxNbt24VtWrVEm+88YbIzs6W1n3yei8hCq8/Gz9+vBBCiFmzZono6Ghx5swZkZSUJHr37i2cnZ1FQUGBUKvVolGjRqJu3brijz/+EKmpqeKvv/4SY8aMEYmJiUIIIVasWCEsLCzE0aNHxbVr17SuFyzSpEkTsXDhQnHo0CGRmpoqNm/eLHx9fUXz5s2FEIWDEUxMTMSXX34pUlJSxIYNG7Qu0L9+/bqwt7eXBoEkJyeL5cuXS4NAoqKihJmZmYiMjBTJycni8OHDYt68eUIIIY4dOyYAiLlz54qUlBSxfPlyUblyZQFA3Lx5UwghREJCgjAwMBAzZ84UycnJ4vvvv9caBLJt2zZhZGQkJkyYIE6dOiVOnz4tVq5cWeK1h0ePHhUAxJkzZ7SWzZ8/Xzg7O4uHDx9K1wAWPVch/rserag+IYRYtmyZRj1Fg0A6d+4s/vnnH7F582bh5OQkRo0apfHaP+0awDfeeEP069dPZGRkiBs3bkjPU6VSiZ9//lkkJyeLcePGCWtra41BIH379hWenp4iLi5OnDx5UnzwwQfC0tJSY1tdu3YVXl5e0sCMgwcPiilTpohNmzYV+3oJIcS8efOEv7+/RtuqVauEmZmZ+Omnn0RSUpIYN26c1iCQxYsXC3NzcxEZGSmSkpLEiRMnxE8//SRmzZolhPhvEEj37t3F6dOnxbZt24Sfn58AII4dO1biay6EEGPHjhX29vYiKipKnDt3TnpvFQ0wSU9PFw4ODiIiIkL8/fff4ty5c2Lbtm2iZ8+e4tGjR+LAgQNi8uTJIjExUVy8eFGsXr1amJiYiC1btkjbGD9+vPR5IFIKBkCi53ThwgXRo0cP4eTkJIyNjYW7u7sYNGiQuH79usZ6zwqAixYtEm+++aawsLAQ1tbWIigoSBw5ckRaNzc3VwwaNEi4urpK2+natatIS0sTQhReIB8eHi5sbW2l0aTFmTJliggICBB2dnbCzMxMVKlSRXzxxRca9UZHRwsvLy9hamoqAgICxO+//64Vio4fPy5atmwpKlSoIKysrERgYKBISUmRli9cuFD4+voKY2Nj4eLiIgYNGiQtmz17tnBxcRHm5uYiJCRELF++XOvLfunSpcLNzU2Ym5uLtm3biv/7v//TCFxCFIajd999V5ibmwtra2vx9ttvi0WLFhX7vAcOHChq1KhR7LKMjAxhYGAgNmzY8FIBsF27dmLcuHHC3t5eWFpaij59+mgE8WcFwN9//11UrVpVGBkZCU9PT6l93LhxwsnJSdjY2IihQ4eKgQMHagTAvLw80a1bN1GhQgXh5OQkZsyYobWtBw8eiHHjxgkvLy9pn3z44YfixIkTxb4mQhQOJjEzM5OCfZHJkyeLSpUqCUtLS9GjRw/x1VdfaQ1AWrFihXjzzTeFiYmJqFixomjcuLGIjY2Vlv/111+iTp06wsTERPj7+4vo6GgBQNpWSQFQrVaLuXPnSu8tBwcHERISIvbs2SOtk5ycLD788ENha2srzM3NhZ+fnxgyZIhQq9Xi9OnTIiQkRDg4OAhTU1NRrVo18f3332tsw9fXV6xcubLE14VIH6mEeI4r2omICEDhIJ5bt27p3C95vKwvv/wSubm5+N///vdat7NixQp88sknyMnJeeZ1pK/T1q1bMXz4cJw4caLEU8hE+oijgImISDJ27Fh4enq+8gEvy5cvx759+5Camor169dj5MiR6NChg6zhDygcxbxs2TKGP1IcvuOJiEhia2uLMWPGvPJ+MzMzMW7cOGRmZsLFxQUfffQRJk+e/Mq387wiIiLkLoFIFjwFTERERKQwPAVMREREpDAMgEREREQKwwBIREREpDAMgEREREQKwwBIREREpDAMgEREREQKwwBIREREpDAMgEREREQKwwBIREREpDD/D7HF/ky0RpK8AAAAAElFTkSuQmCC' width=640.0/>\n",
       "            </div>\n",
       "        "
      ],
      "text/plain": [
       "Canvas(toolbar=Toolbar(toolitems=[('Home', 'Reset original view', 'home', 'home'), ('Back', 'Back to previous …"
      ]
     },
     "metadata": {},
     "output_type": "display_data"
    }
   ],
   "source": [
    "# target tuples, go back and find labels\n",
    "saccade_onsets = 0\n",
    "fixation_onsets = 0\n",
    "noise_onsets = 0\n",
    "fig, ax = plt.subplots()\n",
    "graph_tuples = []\n",
    "\n",
    "for target_tuple in hits_and_misses:\n",
    "    # for either hit or miss, go back and find the ofd\n",
    "    # check if you're in a fixation rn\n",
    "    if target_tuple[0].GazeValid_COMBINED==0: # check gaze validity \n",
    "        continue\n",
    "    target_locindf = target_tuple[0].name\n",
    "    onset_gaze_event = recdf_with_labels.loc[target_locindf].label  \n",
    "    OSA = 0\n",
    "    pitch = recdf_with_labels.loc[target_locindf].gaze2target_pitch\n",
    "           # + recdf_with_labels.loc[target_locindf].head2target_pitch\n",
    "    yaw = recdf_with_labels.loc[target_locindf].gaze2target_yaw \n",
    "           # + recdf_with_labels.loc[target_locindf].head2target_yaw\n",
    "    \n",
    "    if onset_gaze_event == 0:\n",
    "        fixation_onsets += 1\n",
    "        # go back and look at when this current fixation ends\n",
    "        # labels going back from current gaze\n",
    "        labels_upto_curr = recdf_with_labels.loc[target_locindf::-1].label \n",
    "        label_diff = np.diff(labels_upto_curr)!=0\n",
    "        first_fixation_idx = target_locindf - np.argmax(label_diff) # first fixation of this idx\n",
    "        \n",
    "        labels_upto_curr = recdf_with_labels.loc[target_locindf::-1].label \n",
    "        rev_fix_idcs = np.where(labels_upto_curr==0)\n",
    "        last_nonfix_offset = np.where(np.diff(rev_fix_idcs)>1)[1][0]# where is the break in the fixation\n",
    "        last_fixend_idx = rev_fix_idcs[0][last_nonfix_offset+1]\n",
    "        # onset saccade idx\n",
    "        OSA = np.linalg.norm(recdf_with_labels.loc[target_locindf].GazeDir_COMBINED - recdf_with_labels.loc[last_fixend_idx].GazeDir_COMBINED)*180/np.pi\n",
    "        \n",
    "                \n",
    "        eccentricity = np.linalg.norm([recdf_with_labels.loc[target_locindf].gaze2target_pitch,\n",
    "                                      recdf_with_labels.loc[target_locindf].gaze2target_yaw])*180/np.pi\n",
    "        ax.scatter(OSA, eccentricity, c='r' if target_tuple[1] is False else 'g')\n",
    "        graph_tuples += (OSA, eccentricity, target_tuple[1] is False, pitch, yaw)\n",
    "        \n",
    "    elif onset_gaze_event == 1:\n",
    "        saccade_onsets += 1\n",
    "        # OFD = 0        \n",
    "        # eccentricity = np.linalg.norm([recdf_with_labels.loc[target_locindf].gaze2target_pitch,\n",
    "        #                               recdf_with_labels.loc[target_locindf].gaze2target_yaw])*180/np.pi\n",
    "        # ax.scatter(OFD, eccentricity, c='r' if target_tuple[1] is False else 'g')\n",
    "        # graph_tuples += (OFD, eccentricity, target_tuple[1] is False, pitch, yaw)\n",
    "    else:\n",
    "        noise_onsets += 1\n",
    "    # print(target_locindf, OFD)\n",
    "print(\"{}/{} valid targets\".format(\n",
    "        fixation_onsets+saccade_onsets+noise_onsets,\n",
    "        len(hits_and_misses)))\n",
    "print(\"{} fixation onsets, {} sacc, {} noise\".format(fixation_onsets, saccade_onsets, noise_onsets))\n",
    "\n",
    "#plt.xlim(0, )\n",
    "ax.set_ylim(-1, 60)\n",
    "ax.set_xlabel(\"Onset Saccade Amplitude (degrees)\")\n",
    "ax.set_ylabel(\"Eccentricity (degrees)\")\n",
    "ax.set_title(\"Hits/Misses on Gaze Eccentricity vs. OFD\")"
   ]
  },
  {
   "cell_type": "markdown",
   "id": "ef243a60-4cd3-43eb-8c8c-8a6a25c957a3",
   "metadata": {
    "tags": []
   },
   "source": [
    "# OFD analysis with Eye gaze + Head compensation"
   ]
  },
  {
   "cell_type": "code",
   "execution_count": 192,
   "id": "427bb9a0-4f58-45c5-8ecd-7f4bf8c7997d",
   "metadata": {},
   "outputs": [],
   "source": [
    "df2 = df1.copy()\n",
    "df2['Lgaze_x'] = df1.GazeDir_LEFT.apply(lambda x: x[0])\n",
    "df2['Lgaze_y'] = df1.GazeDir_LEFT.apply(lambda x: x[1])\n",
    "df2['Lgaze_z'] = df1.GazeDir_LEFT.apply(lambda x: x[2])\n",
    "\n",
    "df2['Rgaze_x'] = df1.GazeDir_RIGHT.apply(lambda x: x[0])\n",
    "df2['Rgaze_y'] = df1.GazeDir_RIGHT.apply(lambda x: x[1])\n",
    "df2['Rgaze_z'] = df1.GazeDir_RIGHT.apply(lambda x: x[2])\n",
    "\n",
    "df2['Cgaze_x'] = df1.GazeDir_COMBINED.apply(lambda x: x[0])\n",
    "df2['Cgaze_y'] = df1.GazeDir_COMBINED.apply(lambda x: x[1])\n",
    "df2['Cgaze_z'] = df1.GazeDir_COMBINED.apply(lambda x: x[2])\n",
    "\n",
    "\n",
    "LgazeRaySplitDF = pd.DataFrame(df2[['Lgaze_x', 'Lgaze_y', 'Lgaze_z']])\n",
    "LgazeRaySplitDF.rename(columns={'Lgaze_x': 'x', 'Lgaze_y': 'y', 'Lgaze_z': 'z'}, inplace=True)\n",
    "LgazeRaySplitDF['timestamp'] = df2[\"TimeElapsed\"]\n",
    "LgazeRaySplitDF['confidence'] = df2[\"EyeOpennessValid_LEFT\"].astype(bool) # remove all gazes where an eye was closed\n",
    "\n",
    "RgazeRaySplitDF = pd.DataFrame(df2[['Rgaze_x', 'Rgaze_y', 'Rgaze_z']])\n",
    "RgazeRaySplitDF.rename(columns={'Rgaze_x': 'x', 'Rgaze_y': 'y', 'Rgaze_z': 'z'}, inplace=True)\n",
    "RgazeRaySplitDF['timestamp'] = df2[\"TimeElapsed\"]\n",
    "RgazeRaySplitDF['confidence'] = df2[\"EyeOpennessValid_RIGHT\"].astype(bool) # remove all gazes where an eye was closed"
   ]
  },
  {
   "cell_type": "code",
   "execution_count": 193,
   "id": "af4ac86a-ac2f-4f97-b3ad-ed03e7c2733a",
   "metadata": {},
   "outputs": [],
   "source": [
    "velL = EyeClassifier.preprocess(LgazeRaySplitDF, dist_method='vector')\n",
    "velL.velocity = velL.velocity.astype(float)\n",
    "velR = EyeClassifier.preprocess(RgazeRaySplitDF, dist_method='vector')\n",
    "velR.velocity = velR.velocity.astype(float)"
   ]
  },
  {
   "cell_type": "code",
   "execution_count": 148,
   "id": "d3fd3cd3-f142-4c13-b3df-b2025ee7fff1",
   "metadata": {},
   "outputs": [],
   "source": [
    "# add approx head compensation\n",
    "# gaze+head values\n",
    "gaze_pitches, gaze_yaws = GetGazeDeviationFromHead(df2.Cgaze_x, df2.Cgaze_y, df2.Cgaze_z)\n",
    "\n",
    "head_rots = df2.CameraRot.values\n",
    "head_pitches =   df2.CameraRot.apply(lambda x: x[0])\n",
    "head_yaws = df2.CameraRot.apply(lambda x: x[2])\n",
    "    \n",
    "gaze_head_pitches = gaze_pitches + head_pitches\n",
    "gaze_head_yaws = gaze_yaws + head_yaws       "
   ]
  },
  {
   "cell_type": "code",
   "execution_count": 200,
   "id": "ac25fa1e-8caf-4a15-a064-723d04b35a99",
   "metadata": {},
   "outputs": [],
   "source": [
    "# Create the new pd\n",
    "\n",
    "gazeHeadDF = pd.DataFrame(df2[['TimeElapsed']])\n",
    "gazeHeadDF = gazeHeadDF.rename(columns={'TimeElapsed':'timestamp'})\n",
    "gazeHeadDF['confidence'] = (df2.EyeOpennessValid_LEFT*df2.EyeOpennessValid_RIGHT).astype(bool)\n",
    "gazeHeadDF['x'] = gaze_head_pitches\n",
    "gazeHeadDF['y'] = gaze_head_yaws\n",
    "gazeHeadDF['z'] = np.zeros(len(gaze_head_pitches))"
   ]
  },
  {
   "cell_type": "code",
   "execution_count": 212,
   "id": "cf7bc620-ea39-49c2-b63d-0d77e2ca9b6b",
   "metadata": {
    "tags": []
   },
   "outputs": [
    {
     "name": "stdout",
     "output_type": "stream",
     "text": [
      "Velocity Means:  [[  6.05573297]\n",
      " [106.9746424 ]]\n"
     ]
    }
   ],
   "source": [
    "vel_w = EyeClassifier.preprocess(gazeHeadDF, dist_method='euclidean')\n",
    "model = EyeClassifier()\n",
    "model.fit(world=vel_w)\n",
    "\n",
    "# raw_vel = vel_w[np.logical_not(vel_w.velocity.isna())].velocity.values\n",
    "# raw_vel[raw_vel > raw_vel.mean() + 3 * raw_vel.std()]\n",
    "# print(\"Velocity Means: \",model.world_model.means_)"
   ]
  },
  {
   "cell_type": "code",
   "execution_count": 213,
   "id": "a453999b-a33d-4b1a-b98c-5a9d0c290bab",
   "metadata": {},
   "outputs": [
    {
     "name": "stdout",
     "output_type": "stream",
     "text": [
      "labels_npw.shape:  (2563, 5)\n"
     ]
    }
   ],
   "source": [
    "labelsw, indiv_labelsw = model.predict(world=vel_w)\n",
    "# print(labels)\n",
    "# 0- fix, 1- sac, -1 -> noise\n",
    "labels_uniquew = labelsw[1::2]\n",
    "labels_uniquew.index = np.arange(1, len(labels_uniquew) + 1) # start index from 1 instead of 0\n",
    "labels_npw = labels_uniquew.to_numpy()\n",
    "print(\"labels_npw.shape: \", labels_npw.shape)\n",
    "# add the labels to the original df:\n",
    "recdf_with_labelsw = df2.join(labels_uniquew[\"label\"])"
   ]
  },
  {
   "cell_type": "code",
   "execution_count": 214,
   "id": "64cf177a-225c-4390-af8f-dc0bf90ebcad",
   "metadata": {},
   "outputs": [
    {
     "name": "stdout",
     "output_type": "stream",
     "text": [
      "Num fixation total pts:  2041\n",
      "Num saccades total pts:  503\n",
      "Num noise total pts:  19\n",
      "\n",
      "Num fixations:  268\n",
      "Num saccades:  270\n",
      "Num noise:  10\n",
      "Num LightOns:  12\n"
     ]
    }
   ],
   "source": [
    "print(\"Num fixation total pts: \", np.sum(labels_npw[:,2]))\n",
    "print(\"Num saccades total pts: \", np.sum(labels_npw[:,3]))\n",
    "print(\"Num noise total pts: \", np.sum(labels_npw[:,4]))\n",
    "print()\n",
    "# filter the consecutives\n",
    "print(\"Num fixations: \", np.sum(np.diff(labels_npw[:, 2]) == 1))\n",
    "print(\"Num saccades: \", np.sum(np.diff(labels_npw[:, 3]) == 1))\n",
    "print(\"Num noise: \", np.sum(np.diff(labels_npw[:, 4]) == 1))\n",
    "print(\"Num LightOns: \", num_targets_spawned)"
   ]
  },
  {
   "cell_type": "code",
   "execution_count": null,
   "id": "42edf54a-7d46-4b6d-a9ab-ea16967bccc0",
   "metadata": {},
   "outputs": [],
   "source": []
  }
 ],
 "metadata": {
  "kernelspec": {
   "display_name": "Python 3 (ipykernel)",
   "language": "python",
   "name": "python3"
  },
  "language_info": {
   "codemirror_mode": {
    "name": "ipython",
    "version": 3
   },
   "file_extension": ".py",
   "mimetype": "text/x-python",
   "name": "python",
   "nbconvert_exporter": "python",
   "pygments_lexer": "ipython3",
   "version": "3.9.7"
  }
 },
 "nbformat": 4,
 "nbformat_minor": 5
}
