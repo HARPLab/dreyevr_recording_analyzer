{
 "cells": [
  {
   "cell_type": "code",
   "execution_count": 3,
   "id": "3794cc2a-5c11-416c-bdc9-b0bf4502f089",
   "metadata": {},
   "outputs": [],
   "source": [
    "from ibmm import EyeClassifier\n",
    "# from ibmm_online import EyeClassifierOnline\n",
    "import pandas as pd\n",
    "import numpy as np\n",
    "import re\n",
    "import matplotlib.pyplot as plt\n",
    "from matplotlib import cm\n",
    "\n",
    "from parser_utils import read_periph_recording, parse_new_dreyevr_rec, GetGazeDeviationFromHead\n",
    "from pathlib import Path\n",
    "from tqdm import tqdm\n",
    "import pickle as pkl"
   ]
  },
  {
   "cell_type": "code",
   "execution_count": 4,
   "id": "de87f3d4-add1-4779-aacf-9e23414f9a1f",
   "metadata": {},
   "outputs": [],
   "source": [
    "from scipy.spatial.transform import Rotation as R"
   ]
  },
  {
   "cell_type": "code",
   "execution_count": 5,
   "id": "e5f21e60-9186-45da-8e11-404c1ff1290b",
   "metadata": {},
   "outputs": [],
   "source": [
    "%matplotlib ipympl"
   ]
  },
  {
   "cell_type": "code",
   "execution_count": 6,
   "id": "022acadb-3082-415a-890e-118c6eca0cdb",
   "metadata": {},
   "outputs": [],
   "source": [
    "%load_ext autoreload\n",
    "%autoreload 2"
   ]
  },
  {
   "cell_type": "code",
   "execution_count": 7,
   "id": "f5de4648-9fc2-467d-b5be-187e3a1ec802",
   "metadata": {},
   "outputs": [],
   "source": [
    "import sys\n",
    "sys.path.append(\".\\\\dreyevr_parser\")"
   ]
  },
  {
   "cell_type": "code",
   "execution_count": 8,
   "id": "243ddc8a-10a7-4d07-b25b-d38677f78de3",
   "metadata": {},
   "outputs": [],
   "source": [
    "from dreyevr_parser.parser import parse_file\n",
    "from typing import Dict, List, Any\n",
    "from utils import (\n",
    "    check_for_periph_data,\n",
    "    convert_to_df,\n",
    "    split_along_subgroup,\n",
    "    get_good_idxs,\n",
    ")\n",
    "from visualizer import plot_versus"
   ]
  },
  {
   "cell_type": "code",
   "execution_count": 9,
   "id": "0251410a-7735-4e71-8a3a-0d5ce3cfd94e",
   "metadata": {},
   "outputs": [],
   "source": [
    "from dreyevr_attn_NDT_utils import load_dreyevr_data_and_gazeevent_annotate, load_dreyevr_dataframe, add_gaze_event2df, get_hits_and_misses"
   ]
  },
  {
   "cell_type": "code",
   "execution_count": 10,
   "id": "762d5aac-efed-40cd-811b-08d6eb152977",
   "metadata": {},
   "outputs": [],
   "source": [
    "# path_to_recording = \"C://carla//carla.periph//OtherExptRecordings/NDT_ben1.txt\"\n",
    "# path_to_recording = \"C://carla//carla.periph//OtherExptRecordings/NDT_aj2.txt\"\n",
    "# path_to_recording = \"C://carla//carla.periph//OtherExptRecordings/NDT_testAngleFC.txt\"\n",
    "\n",
    "NDT_rec_root =  \"C://carla//carla.periph//NDTExptRecordings/\"\n",
    "paths_to_recording = list(Path(NDT_rec_root).glob(\"NDT*.txt\"))\n",
    "# path_to_recording = \"C://carla//carla.periph//OtherExptRecordings/NDT_testAllan_5_17_25_50.txt\"\n",
    "# path_to_recording = \"C://carla//carla.periph//OtherExptRecordings/NDT_testPK_5_12_1.txt\"\n",
    "path_to_recording = \"C://carla//carla.periph//NDTExptRecordings/NDT_testMichelle_5_17_10_70.txt\"\n",
    "# path_to_recording = \"C://carla//carla.periph//OtherExptRecordings/NDT_Maggie_16_10_70.txt\"\n",
    "\n",
    "recording_name = Path(path_to_recording).stem\n",
    "recdf_pklname = Path(\"temp_data\").joinpath(recording_name+\".pkl\")"
   ]
  },
  {
   "cell_type": "code",
   "execution_count": 11,
   "id": "57e633ae-6617-44d0-ab4c-5c755612355f",
   "metadata": {},
   "outputs": [
    {
     "data": {
      "text/plain": [
       "'C://carla//carla.periph//NDTExptRecordings/NDT_testMichelle_5_17_10_70.txt'"
      ]
     },
     "execution_count": 11,
     "metadata": {},
     "output_type": "execute_result"
    }
   ],
   "source": [
    "path_to_recording"
   ]
  },
  {
   "cell_type": "code",
   "execution_count": 12,
   "id": "0a327b81-59ff-4d1e-9624-cbedad6e684a",
   "metadata": {
    "tags": []
   },
   "outputs": [
    {
     "name": "stdout",
     "output_type": "stream",
     "text": [
      "Processing  NDT_Maggie_16_10_70\n",
      "Loaded data from cache\\NDT_Maggie_16_10_70.pkl\n",
      "gathered periph data in 0.034s\n",
      "created DReyeVR df in 0.030s\n",
      "created DReyeVR df in 0.174s\n"
     ]
    },
    {
     "name": "stderr",
     "output_type": "stream",
     "text": [
      "52it [00:00, 84.42it/s]\n"
     ]
    },
    {
     "name": "stdout",
     "output_type": "stream",
     "text": [
      "Processing  NDT_Maggie_16_25_50\n",
      "Loaded data from cache\\NDT_Maggie_16_25_50.pkl\n",
      "gathered periph data in 0.036s\n",
      "created DReyeVR df in 0.077s\n",
      "created DReyeVR df in 0.221s\n"
     ]
    },
    {
     "name": "stderr",
     "output_type": "stream",
     "text": [
      "37it [00:00, 76.29it/s]\n"
     ]
    },
    {
     "name": "stdout",
     "output_type": "stream",
     "text": [
      "Processing  NDT_Maggie_16_25_70\n",
      "Loaded data from cache\\NDT_Maggie_16_25_70.pkl\n",
      "gathered periph data in 0.029s\n",
      "created DReyeVR df in 0.024s\n",
      "created DReyeVR df in 0.137s\n"
     ]
    },
    {
     "name": "stderr",
     "output_type": "stream",
     "text": [
      "46it [00:00, 116.16it/s]\n"
     ]
    },
    {
     "name": "stdout",
     "output_type": "stream",
     "text": [
      "Processing  NDT_testAbhijat_5_17_05_50\n",
      "Loaded data from cache\\NDT_testAbhijat_5_17_05_50.pkl\n",
      "gathered periph data in 0.029s\n",
      "created DReyeVR df in 0.026s\n",
      "created DReyeVR df in 0.193s\n"
     ]
    },
    {
     "name": "stderr",
     "output_type": "stream",
     "text": [
      "27it [00:00, 73.37it/s]\n"
     ]
    },
    {
     "name": "stdout",
     "output_type": "stream",
     "text": [
      "Processing  NDT_testAbhijat_5_17_10_35\n",
      "Loaded data from cache\\NDT_testAbhijat_5_17_10_35.pkl\n",
      "gathered periph data in 0.030s\n",
      "created DReyeVR df in 0.026s\n",
      "created DReyeVR df in 0.146s\n"
     ]
    },
    {
     "name": "stderr",
     "output_type": "stream",
     "text": [
      "21it [00:00, 65.42it/s]\n"
     ]
    },
    {
     "name": "stdout",
     "output_type": "stream",
     "text": [
      "Processing  NDT_testAbhijat_5_17_10_70\n",
      "Loaded data from cache\\NDT_testAbhijat_5_17_10_70.pkl\n",
      "gathered periph data in 0.026s\n",
      "created DReyeVR df in 0.024s\n",
      "created DReyeVR df in 0.180s\n"
     ]
    },
    {
     "name": "stderr",
     "output_type": "stream",
     "text": [
      "47it [00:00, 91.80it/s]\n"
     ]
    },
    {
     "name": "stdout",
     "output_type": "stream",
     "text": [
      "Processing  NDT_testAllan_5_17_10_35\n",
      "Loaded data from cache\\NDT_testAllan_5_17_10_35.pkl\n",
      "gathered periph data in 0.038s\n",
      "created DReyeVR df in 0.036s\n",
      "created DReyeVR df in 0.229s\n"
     ]
    },
    {
     "name": "stderr",
     "output_type": "stream",
     "text": [
      "26it [00:00, 73.24it/s]\n"
     ]
    },
    {
     "name": "stdout",
     "output_type": "stream",
     "text": [
      "Processing  NDT_testAllan_5_17_10_70\n",
      "Loaded data from cache\\NDT_testAllan_5_17_10_70.pkl\n",
      "gathered periph data in 0.031s\n",
      "created DReyeVR df in 0.029s\n",
      "created DReyeVR df in 0.208s\n"
     ]
    },
    {
     "name": "stderr",
     "output_type": "stream",
     "text": [
      "51it [00:00, 99.60it/s] \n"
     ]
    },
    {
     "name": "stdout",
     "output_type": "stream",
     "text": [
      "Processing  NDT_testAllan_5_17_25_50\n",
      "Loaded data from cache\\NDT_testAllan_5_17_25_50.pkl\n",
      "gathered periph data in 0.029s\n",
      "created DReyeVR df in 0.024s\n",
      "created DReyeVR df in 0.142s\n"
     ]
    },
    {
     "name": "stderr",
     "output_type": "stream",
     "text": [
      "37it [00:00, 114.91it/s]\n"
     ]
    },
    {
     "name": "stdout",
     "output_type": "stream",
     "text": [
      "Processing  NDT_testAna_5_17_10_35\n",
      "Loaded data from cache\\NDT_testAna_5_17_10_35.pkl\n",
      "gathered periph data in 0.032s\n",
      "created DReyeVR df in 0.030s\n",
      "created DReyeVR df in 0.212s\n"
     ]
    },
    {
     "name": "stderr",
     "output_type": "stream",
     "text": [
      "22it [00:00, 72.72it/s]\n"
     ]
    },
    {
     "name": "stdout",
     "output_type": "stream",
     "text": [
      "Processing  NDT_testAna_5_17_10_50\n",
      "Loaded data from cache\\NDT_testAna_5_17_10_50.pkl\n",
      "gathered periph data in 0.030s\n",
      "created DReyeVR df in 0.027s\n",
      "created DReyeVR df in 0.148s\n"
     ]
    },
    {
     "name": "stderr",
     "output_type": "stream",
     "text": [
      "29it [00:00, 78.38it/s]\n"
     ]
    },
    {
     "name": "stdout",
     "output_type": "stream",
     "text": [
      "Processing  NDT_testAna_5_17_25_50\n",
      "Loaded data from cache\\NDT_testAna_5_17_25_50.pkl\n",
      "gathered periph data in 0.027s\n",
      "created DReyeVR df in 0.065s\n",
      "created DReyeVR df in 0.135s\n"
     ]
    },
    {
     "name": "stderr",
     "output_type": "stream",
     "text": [
      "31it [00:00, 103.68it/s]\n"
     ]
    },
    {
     "name": "stdout",
     "output_type": "stream",
     "text": [
      "Processing  NDT_testBen_5_12_1\n",
      "Loaded data from cache\\NDT_testBen_5_12_1.pkl\n",
      "gathered periph data in 0.032s\n",
      "created DReyeVR df in 0.029s\n",
      "created DReyeVR df in 0.209s\n"
     ]
    },
    {
     "name": "stderr",
     "output_type": "stream",
     "text": [
      "27it [00:00, 95.07it/s]\n"
     ]
    },
    {
     "name": "stdout",
     "output_type": "stream",
     "text": [
      "Processing  NDT_testBen_5_12_2\n",
      "Loaded data from cache\\NDT_testBen_5_12_2.pkl\n",
      "gathered periph data in 0.032s\n",
      "created DReyeVR df in 0.027s\n",
      "created DReyeVR df in 0.199s\n"
     ]
    },
    {
     "name": "stderr",
     "output_type": "stream",
     "text": [
      "34it [00:00, 93.92it/s]\n"
     ]
    },
    {
     "name": "stdout",
     "output_type": "stream",
     "text": [
      "Processing  NDT_testMichelle_5_17_10_50\n",
      "Loaded data from cache\\NDT_testMichelle_5_17_10_50.pkl\n",
      "gathered periph data in 0.031s\n",
      "created DReyeVR df in 0.026s\n",
      "created DReyeVR df in 0.150s\n"
     ]
    },
    {
     "name": "stderr",
     "output_type": "stream",
     "text": [
      "32it [00:00, 64.52it/s]\n"
     ]
    },
    {
     "name": "stdout",
     "output_type": "stream",
     "text": [
      "Processing  NDT_testMichelle_5_17_10_70\n",
      "Loaded data from cache\\NDT_testMichelle_5_17_10_70.pkl\n",
      "gathered periph data in 0.029s\n",
      "created DReyeVR df in 0.026s\n",
      "created DReyeVR df in 0.196s\n"
     ]
    },
    {
     "name": "stderr",
     "output_type": "stream",
     "text": [
      "43it [00:00, 75.18it/s]\n"
     ]
    },
    {
     "name": "stdout",
     "output_type": "stream",
     "text": [
      "Processing  NDT_testPK_5_12_1\n",
      "Loaded data from cache\\NDT_testPK_5_12_1.pkl\n",
      "gathered periph data in 0.030s\n",
      "created DReyeVR df in 0.027s\n",
      "created DReyeVR df in 0.140s\n"
     ]
    },
    {
     "name": "stderr",
     "output_type": "stream",
     "text": [
      "27it [00:00, 76.70it/s]\n"
     ]
    },
    {
     "name": "stdout",
     "output_type": "stream",
     "text": [
      "Processing  NDT_testThomas_5_16_10_70\n",
      "Loaded data from cache\\NDT_testThomas_5_16_10_70.pkl\n",
      "gathered periph data in 0.047s\n",
      "created DReyeVR df in 0.084s\n",
      "created DReyeVR df in 0.261s\n"
     ]
    },
    {
     "name": "stderr",
     "output_type": "stream",
     "text": [
      "74it [00:01, 49.87it/s]\n"
     ]
    },
    {
     "name": "stdout",
     "output_type": "stream",
     "text": [
      "Processing  NDT_testThomas_5_16_25_50\n",
      "Loaded data from cache\\NDT_testThomas_5_16_25_50.pkl\n",
      "gathered periph data in 0.043s\n",
      "created DReyeVR df in 0.087s\n",
      "created DReyeVR df in 0.205s\n"
     ]
    },
    {
     "name": "stderr",
     "output_type": "stream",
     "text": [
      "42it [00:00, 54.12it/s]\n"
     ]
    },
    {
     "name": "stdout",
     "output_type": "stream",
     "text": [
      "Processing  NDT_testThomas_5_16_25_70\n",
      "Loaded data from cache\\NDT_testThomas_5_16_25_70.pkl\n",
      "gathered periph data in 0.039s\n",
      "created DReyeVR df in 0.084s\n",
      "created DReyeVR df in 0.179s\n"
     ]
    },
    {
     "name": "stderr",
     "output_type": "stream",
     "text": [
      "54it [00:00, 63.91it/s]\n"
     ]
    }
   ],
   "source": [
    "ecc_hits_agg = []\n",
    "ecc_misses_agg = []\n",
    "pitch_hits_agg=[]\n",
    "pitch_miss_agg=[]\n",
    "yaw_hits_agg=[]\n",
    "yaw_miss_agg=[]\n",
    "\n",
    "for path_to_recording in paths_to_recording:\n",
    "    print(\"Processing \", path_to_recording.stem)\n",
    "    df_new, og_df, CA_df = load_dreyevr_dataframe(path_to_recording)\n",
    "    hits_and_misses = get_hits_and_misses(og_df, CA_df)\n",
    "    ecc_hits = []\n",
    "    ecc_misses = []\n",
    "    pitch_hits = []\n",
    "    yaw_hits = []\n",
    "    pitch_misses = []\n",
    "    yaw_misses = []\n",
    "    for ctr, target_tuple in enumerate(hits_and_misses):\n",
    "        if target_tuple[1] is False:\n",
    "            pitch_misses += [target_tuple[0].gaze2target_pitch*180/np.pi]\n",
    "            yaw_misses += [target_tuple[0].gaze2target_yaw*180/np.pi]\n",
    "            ecc_misses += [np.linalg.norm([yaw_misses[-1], pitch_misses[-1]])]\n",
    "        else:\n",
    "            pitch_hits += [target_tuple[0].gaze2target_pitch*180/np.pi]\n",
    "            yaw_hits += [target_tuple[0].gaze2target_yaw*180/np.pi]\n",
    "            ecc_hits += [np.linalg.norm([yaw_hits[-1], pitch_hits[-1]])]\n",
    "            \n",
    "    ecc_hits_agg += ecc_hits\n",
    "    ecc_misses_agg += ecc_misses\n",
    "    pitch_hits_agg+= pitch_hits\n",
    "    pitch_miss_agg+= pitch_misses\n",
    "    yaw_hits_agg+= yaw_hits\n",
    "    yaw_miss_agg+= yaw_misses\n"
   ]
  },
  {
   "cell_type": "code",
   "execution_count": 13,
   "id": "ab75aa19-e8df-4c7c-8375-2a2625d87af5",
   "metadata": {},
   "outputs": [],
   "source": [
    "# histogram params\n",
    "num_bins=15\n",
    "plot_density = True"
   ]
  },
  {
   "cell_type": "code",
   "execution_count": 14,
   "id": "90c28aaa-c931-44fe-a4a8-5f190f79de7f",
   "metadata": {},
   "outputs": [
    {
     "data": {
      "image/png": "[encoded data removed]",
      "text/plain": [
       "<Figure size 640x480 with 1 Axes>"
      ]
     },
     "execution_count": 14,
     "metadata": {},
     "output_type": "execute_result"
    }
   ],
   "source": [
    "# do this aggregation after you go through all of them\n",
    "fig = plt.figure()\n",
    "y_hits, y_hits_bins, _ = plt.hist(yaw_hits_agg, alpha=0.5, label=\"hits\", density=plot_density, bins=num_bins, color='g')\n",
    "y_miss, y_miss_bins, _ = plt.hist(yaw_miss_agg, alpha=0.5, label=\"misses\", density=plot_density, bins=num_bins, color='r')\n",
    "if plot_density:\n",
    "    plt.title(\"Yaw distribution of periph targets\")\n",
    "else:\n",
    "    plt.title(\"Yaw counts of periph targets\")\n",
    "plt.xlabel(\"Onset yaw of periph targets\")\n",
    "plt.ylabel(\"# of onsets\")\n",
    "\n",
    "# ax.set_title(\"Eccentricity distribution of periph targets\")\n",
    "# ax.set_xlabel(\"onset eccentricity of periph targets\")\n",
    "# ax.set_ylabel(\"# of onsets\")\n",
    "fig"
   ]
  },
  {
   "cell_type": "code",
   "execution_count": 119,
   "id": "21c8832c-c2d8-4149-8074-a081a178038d",
   "metadata": {
    "tags": []
   },
   "outputs": [
    {
     "data": {
      "image/png": "[encoded data removed]",
      "text/plain": [
       "<Figure size 640x480 with 1 Axes>"
      ]
     },
     "execution_count": 119,
     "metadata": {},
     "output_type": "execute_result"
    }
   ],
   "source": [
    "# do this aggregation after you go through all of them\n",
    "fig = plt.figure()\n",
    "y_miss_by_appearance = y_miss / (y_hits + y_miss)\n",
    "y_miss_by_appearance = y_miss_by_appearance / y_miss_by_appearance.sum()\n",
    "y_bin_centers = y_miss_bins[:-1] + np.diff(y_miss_bins)/2\n",
    "plt.bar(y_bin_centers, y_miss_by_appearance, width=11, color='red')\n",
    "plt.xlabel(\"onset pitch of periph targets\")\n",
    "plt.ylabel(\"% of onsets missed\")\n",
    "\n",
    "# ax.set_title(\"Eccentricity distribution of periph targets\")\n",
    "# ax.set_xlabel(\"onset eccentricity of periph targets\")\n",
    "# ax.set_ylabel(\"# of onsets\")\n",
    "fig"
   ]
  },
  {
   "cell_type": "code",
   "execution_count": 115,
   "id": "aa0d3b69-24e6-4508-b7d0-8fb4d724f827",
   "metadata": {},
   "outputs": [],
   "source": [
    "# PITCHES"
   ]
  },
  {
   "cell_type": "code",
   "execution_count": 25,
   "id": "3f09e4b9-0453-4f14-9621-d0626c9d2c6c",
   "metadata": {},
   "outputs": [
    {
     "data": {
      "image/png": "[encoded data removed]",
      "text/plain": [
       "<Figure size 640x480 with 1 Axes>"
      ]
     },
     "execution_count": 25,
     "metadata": {},
     "output_type": "execute_result"
    }
   ],
   "source": [
    "# do this aggregation after you go through all of them\n",
    "fig = plt.figure()\n",
    "p_hits, p_hits_bins, _ = plt.hist(pitch_hits_agg, alpha=0.4, label=\"hits\", density=plot_density, bins=num_bins, color='g', orientation='horizontal')\n",
    "p_miss, p_miss_bins, _ = plt.hist(pitch_miss_agg, alpha=0.4, label=\"misses\", density=plot_density, bins=num_bins, color='r', orientation='horizontal')\n",
    "\n",
    "if plot_density:\n",
    "    plt.title(\"Pitch density histogram (non-driving task)\")\n",
    "else:\n",
    "    plt.title(\"Pitch counts of periph targets\")\n",
    "plt.ylabel(\"onset pitch of periph targets\")\n",
    "plt.xlabel(\"proportion of onsets\")\n",
    "\n",
    "# ax.set_title(\"Eccentricity distribution of periph targets\")\n",
    "# ax.set_xlabel(\"onset eccentricity of periph targets\")\n",
    "# ax.set_ylabel(\"# of onsets\")\n",
    "fig"
   ]
  },
  {
   "cell_type": "code",
   "execution_count": 26,
   "id": "45054334-2d62-4e81-9e5c-550f031c05cd",
   "metadata": {},
   "outputs": [
    {
     "data": {
      "image/png": "[encoded data removed]",
      "text/plain": [
       "<Figure size 640x480 with 1 Axes>"
      ]
     },
     "execution_count": 26,
     "metadata": {},
     "output_type": "execute_result"
    }
   ],
   "source": [
    "# do this aggregation after you go through all of them\n",
    "fig = plt.figure()\n",
    "p_miss_by_appearance = p_miss / (p_hits + p_miss)\n",
    "p_miss_by_appearance = p_miss_by_appearance / p_miss_by_appearance.sum()\n",
    "p_bin_centers = p_miss_bins[:-1] + np.diff(p_miss_bins)/2\n",
    "# plt.bar(p_bin_centers, p_miss_by_appearance, width=17, color='orange')\n",
    "plt.barh(p_bin_centers, p_miss_by_appearance, height=np.diff(p_miss_bins)/2, color='red')\n",
    "plt.ylabel(\"onset pitch of periph targets\")\n",
    "plt.xlabel(\"% of onsets missed\")\n",
    "\n",
    "# ax.set_title(\"Eccentricity distribution of periph targets\")\n",
    "# ax.set_xlabel(\"onset eccentricity of periph targets\")\n",
    "# ax.set_ylabel(\"# of onsets\")\n",
    "fig"
   ]
  },
  {
   "cell_type": "code",
   "execution_count": 17,
   "id": "94d6989d-94a6-4c18-a273-3bd880b09fec",
   "metadata": {},
   "outputs": [
    {
     "data": {
      "image/png": "[encoded data removed]",
      "text/plain": [
       "<Figure size 640x480 with 1 Axes>"
      ]
     },
     "execution_count": 17,
     "metadata": {},
     "output_type": "execute_result"
    }
   ],
   "source": [
    "# do this aggregation after you go through all of them\n",
    "fig = plt.figure()\n",
    "plt.hist(ecc_hits_agg, alpha=0.5, label=\"hits\", density=True)\n",
    "plt.hist(ecc_misses_agg, alpha=0.5, label=\"misses\", density=True)\n",
    "plt.title(\"Eccentricity distribution of periph targets\")\n",
    "plt.xlabel(\"onset eccentricity of periph targets\")\n",
    "plt.ylabel(\"# of onsets\")\n",
    "\n",
    "# ax.set_title(\"Eccentricity distribution of periph targets\")\n",
    "# ax.set_xlabel(\"onset eccentricity of periph targets\")\n",
    "# ax.set_ylabel(\"# of onsets\")\n",
    "fig"
   ]
  },
  {
   "cell_type": "code",
   "execution_count": null,
   "id": "ff3bb5f7-235f-481f-8d2c-032e2860b26b",
   "metadata": {},
   "outputs": [],
   "source": [
    "# normalized graphs "
   ]
  },
  {
   "cell_type": "code",
   "execution_count": null,
   "id": "32caa810-a184-4fe3-a472-e4339dfe4171",
   "metadata": {},
   "outputs": [],
   "source": []
  },
  {
   "cell_type": "markdown",
   "id": "576ba329-e008-4c03-a6ac-d39ceee00f6b",
   "metadata": {
    "tags": []
   },
   "source": [
    "## Prelim analysis"
   ]
  },
  {
   "cell_type": "code",
   "execution_count": 12,
   "id": "ce0f1776-7cd4-4591-8c17-0b506964278c",
   "metadata": {
    "tags": []
   },
   "outputs": [
    {
     "data": {
      "image/png": "[encoded data removed]",
      "text/plain": [
       "<Figure size 640x480 with 1 Axes>"
      ]
     },
     "execution_count": 12,
     "metadata": {},
     "output_type": "execute_result"
    }
   ],
   "source": [
    "# Preliminary analysis\n",
    "fig, ax = plt.subplots()\n",
    "\n",
    "# plots of hits misses vs ecc\n",
    "for target_tuple in hits_and_misses:\n",
    "    target_response = True\n",
    "    if target_tuple[1] is False:\n",
    "        # miss\n",
    "        target_response = False\n",
    "        pass\n",
    "    else:\n",
    "        # hits\n",
    "        pass\n",
    "        # print(target_tuple[1].ButtonPressed)\n",
    "    ax.scatter(target_tuple[0].gaze2target_yaw*180/np.pi,\n",
    "               target_tuple[0].gaze2target_pitch*180/np.pi,\n",
    "               c='g' if target_response else 'r')\n",
    "    ax.set_title(\"Hits/Misses vs. Eccentricity\\n(Pitch and Yaw of Target from EYE Gaze during onset)\")\n",
    "    \n",
    "    # ax.scatter(target_tuple[0].head2target_yaw*180/np.pi, target_tuple[0].head2target_pitch*180/np.pi, c='g' if target_response else 'r')\n",
    "    # ax.set_title(\"Hits/Misses vs. Eccentricity\\n(Pitch and Yaw of Target from HEAD Gaze during onset)\")\n",
    "    \n",
    "    ax.set_xlabel(\"yaw (degrees)\")\n",
    "    ax.set_ylabel(\"pitch (degrees)\")\n",
    "    # ax.set_xlim(-60, 60)\n",
    "    # ax.set_ylim(-40, 60)\n",
    "    ax.set_aspect('equal')\n",
    "    # ax.show()\n",
    "fig"
   ]
  },
  {
   "cell_type": "markdown",
   "id": "780cef8f-dbb5-4624-abba-77c9f0e26083",
   "metadata": {
    "tags": []
   },
   "source": [
    "## Gaze event detection (gaze vector/gaze+head only)\n"
   ]
  },
  {
   "cell_type": "code",
   "execution_count": 13,
   "id": "1cfa789f-6a22-4d55-8896-a875242880e5",
   "metadata": {
    "tags": []
   },
   "outputs": [],
   "source": [
    "from ibmm import EyeClassifier\n",
    "from ibmm_online import EyeClassifierOnline"
   ]
  },
  {
   "cell_type": "code",
   "execution_count": 14,
   "id": "98ba8802-c2b5-4207-a0d2-f67f34863373",
   "metadata": {},
   "outputs": [],
   "source": [
    "gazeORgazeHead = \"gazeHead\"\n",
    "dist_method=\"vector\" # vector or euclid"
   ]
  },
  {
   "cell_type": "code",
   "execution_count": 15,
   "id": "aca14dcd-7e84-4824-9160-76a413ff633c",
   "metadata": {
    "tags": []
   },
   "outputs": [],
   "source": [
    "df2 = og_df.copy()\n",
    "if gazeORgazeHead == \"gaze\":\n",
    "    df2['Lgaze_x'] = og_df.GazeDir_LEFT.apply(lambda x: x[0])\n",
    "    df2['Lgaze_y'] = og_df.GazeDir_LEFT.apply(lambda x: x[1])\n",
    "    df2['Lgaze_z'] = og_df.GazeDir_LEFT.apply(lambda x: x[2])\n",
    "\n",
    "    df2['Rgaze_x'] = og_df.GazeDir_RIGHT.apply(lambda x: x[0])\n",
    "    df2['Rgaze_y'] = og_df.GazeDir_RIGHT.apply(lambda x: x[1])\n",
    "    df2['Rgaze_z'] = og_df.GazeDir_RIGHT.apply(lambda x: x[2])\n",
    "\n",
    "\n",
    "    LgazeRaySplitDF = pd.DataFrame(df2[['Lgaze_x', 'Lgaze_y', 'Lgaze_z']])\n",
    "    LgazeRaySplitDF.rename(columns={'Lgaze_x': 'x', 'Lgaze_y': 'y', 'Lgaze_z': 'z'}, inplace=True)\n",
    "    LgazeRaySplitDF['timestamp'] = df2[\"TimeElapsed\"]\n",
    "    LgazeRaySplitDF['confidence'] = df2[\"EyeOpennessValid_LEFT\"].astype(bool) # remove all gazes where an eye was closed\n",
    "\n",
    "    RgazeRaySplitDF = pd.DataFrame(df2[['Rgaze_x', 'Rgaze_y', 'Rgaze_z']])\n",
    "    RgazeRaySplitDF.rename(columns={'Rgaze_x': 'x', 'Rgaze_y': 'y', 'Rgaze_z': 'z'}, inplace=True)\n",
    "    RgazeRaySplitDF['timestamp'] = df2[\"TimeElapsed\"]\n",
    "    RgazeRaySplitDF['confidence'] = df2[\"EyeOpennessValid_RIGHT\"].astype(bool) # remove all gazes where an eye was closed\n",
    "    \n",
    "    velL = EyeClassifier.preprocess(LgazeRaySplitDF, dist_method=dist_method)\n",
    "    velL.velocity = velL.velocity.astype(float)\n",
    "    velR = EyeClassifier.preprocess(RgazeRaySplitDF, dist_method=dist_method)\n",
    "    velR.velocity = velR.velocity.astype(float)\n",
    "    model = EyeClassifier()\n",
    "    model.fit(eyes=(velL, velR))\n",
    "    labels, indiv_labels = model.predict(eyes=(velL, velR))\n",
    "    labels_unique = labels[1::2]\n",
    "    \n",
    "elif gazeORgazeHead == \"gazeHead\":\n",
    "    # add approx head compensation\n",
    "    df2['Cgaze_x'] = og_df.GazeDir_COMBINED.apply(lambda x: x[0])\n",
    "    df2['Cgaze_y'] = og_df.GazeDir_COMBINED.apply(lambda x: x[1])\n",
    "    df2['Cgaze_z'] = og_df.GazeDir_COMBINED.apply(lambda x: x[2])\n",
    "\n",
    "    # gaze+head values\n",
    "    gaze_pitches, gaze_yaws = GetGazeDeviationFromHead(df2.Cgaze_x, df2.Cgaze_y, df2.Cgaze_z)\n",
    "    head_rots = df2.CameraRot.values\n",
    "    head_pitches =   df2.CameraRot.apply(lambda x: x[0])\n",
    "    head_yaws = df2.CameraRot.apply(lambda x: x[2])\n",
    "    gaze_head_pitches = gaze_pitches + head_pitches\n",
    "    gaze_head_yaws = gaze_yaws + head_yaws       \n",
    "\n",
    "    # Create the new pd\n",
    "    gazeHeadDF = pd.DataFrame(df2[['TimeElapsed']])\n",
    "    gazeHeadDF = gazeHeadDF.rename(columns={'TimeElapsed':'timestamp'})\n",
    "    gazeHeadDF['confidence'] = (df2.EyeOpennessValid_LEFT*df2.EyeOpennessValid_RIGHT).astype(bool)\n",
    "    gazeHeadDF['x'] = gaze_head_pitches\n",
    "    gazeHeadDF['y'] = gaze_head_yaws\n",
    "    gazeHeadDF['z'] = np.zeros(len(gaze_head_pitches))\n",
    "    \n",
    "    vel_w = EyeClassifier.preprocess(gazeHeadDF, dist_method=dist_method)\n",
    "    model = EyeClassifier()\n",
    "    model.fit(world=vel_w)\n",
    "    # raw_vel = vel_w[np.logical_not(vel_w.velocity.isna())].velocity.values\n",
    "    # raw_vel[raw_vel > raw_vel.mean() + 3 * raw_vel.std()]\n",
    "    # print(\"Velocity Means: \",model.world_model.means_)\n",
    "    \n",
    "    labels, indiv_labels = model.predict(world=vel_w)\n",
    "    labels_unique = labels"
   ]
  },
  {
   "cell_type": "code",
   "execution_count": 16,
   "id": "1ae73a96-7093-46c7-aada-85e37db92c8a",
   "metadata": {
    "tags": []
   },
   "outputs": [],
   "source": [
    "# 0- fix, 1- sac, -1 -> noise\n",
    "labels_unique.index = np.arange(1, len(labels_unique) + 1) # start index from 1 instead of 0\n",
    "labels_np = labels_unique.to_numpy()\n",
    "# add the labels to the original df:\n",
    "recdf_with_labels = df2.join(labels_unique[\"label\"])"
   ]
  },
  {
   "cell_type": "code",
   "execution_count": 17,
   "id": "acbcfae1-3907-4540-b002-16582484586e",
   "metadata": {},
   "outputs": [
    {
     "name": "stdout",
     "output_type": "stream",
     "text": [
      "Num fixation total pts:  9965.0\n",
      "Num saccades total pts:  383.0\n",
      "Num noise total pts:  70.0\n",
      "\n",
      "Num fixations:  213\n",
      "Num saccades:  210\n",
      "Num noise:  10\n",
      "Num targets spawned:  37\n"
     ]
    }
   ],
   "source": [
    "print(\"Num fixation total pts: \", np.sum(labels_np[:,2]))\n",
    "print(\"Num saccades total pts: \", np.sum(labels_np[:,3]))\n",
    "print(\"Num noise total pts: \", np.sum(labels_np[:,4]))\n",
    "print()\n",
    "# filter the consecutives\n",
    "print(\"Num fixations: \", np.sum(np.diff(labels_np[:, 2]) == 1))\n",
    "print(\"Num saccades: \", np.sum(np.diff(labels_np[:, 3]) == 1))\n",
    "print(\"Num noise: \", np.sum(np.diff(labels_np[:, 4]) == 1))\n",
    "print(\"Num targets spawned: \", num_targets_spawned)"
   ]
  },
  {
   "cell_type": "markdown",
   "id": "f6685498-41ca-4315-a701-cbd11e03c020",
   "metadata": {
    "tags": []
   },
   "source": [
    "## OFD vs FC movement analysis"
   ]
  },
  {
   "cell_type": "code",
   "execution_count": 18,
   "id": "b5fa2d5d-e32b-41a3-8fdc-ef63d7365fc9",
   "metadata": {},
   "outputs": [],
   "source": [
    "# find all fixation cross movement points\n",
    "FC_df = CA_df[CA_df.CustomActor_Name == \"PeriphCross\"].copy()\n",
    "FC_df.loc[:, \"CustomActor_Location\"] = FC_df.loc[:, \"CustomActor_Location\"].apply(np.asarray) \n",
    "FC_move_true = (FC_df.CustomActor_Location.diff().apply(np.sum) != 0.0)\n",
    "FC_move_idcs = (FC_move_true == True)\n",
    "num_FC_moves= FC_move_idcs.sum()"
   ]
  },
  {
   "cell_type": "code",
   "execution_count": 24,
   "id": "cfe41972-4561-4cc3-9fa4-7946d2bf2229",
   "metadata": {
    "tags": []
   },
   "outputs": [
    {
     "name": "stdout",
     "output_type": "stream",
     "text": [
      "False\n",
      "[-26718.0338813   20498.20995915  -6046.92906847]\n",
      "[-26723.424  20572.68   -6015.071]\n"
     ]
    }
   ],
   "source": [
    "TC = FC_df.loc[FC_df[FC_move_true].index[0], \"TimestampCarla\"]\n",
    "FC_move_idx = og_df[og_df.TimestampCarla==TC].index\n",
    "camera_rot = R.from_euler('xyz', # UE4 rotators are pitch roll yaw\n",
    "                          np.array(og_df.loc[FC_move_idx, \"CameraRotAbs\"].squeeze()), degrees=True)\n",
    "\n",
    "# at numFCmoves = 0 --> trying to calculate FC location from Camera location vs where it actually was\n",
    "# not sure if this is correct\n",
    "CrossVector = camera_rot.apply([1,0,0]);\n",
    "FixCrossLoc = og_df.loc[FC_move_idx, \"CameraLocAbs\"].squeeze() + CrossVector * 3 * 100;\n",
    "print(np.allclose(FixCrossLoc, FC_df.loc[FC_move_idx, \"CustomActor_Location\"].squeeze(), atol=0.3))\n",
    "print(FixCrossLoc)\n",
    "print(FC_df.loc[FC_move_idx, \"CustomActor_Location\"].squeeze())"
   ]
  },
  {
   "cell_type": "code",
   "execution_count": 21,
   "id": "dab44ee2-747b-49e0-8667-f81ab2530a57",
   "metadata": {
    "collapsed": true,
    "jupyter": {
     "outputs_hidden": true
    },
    "tags": []
   },
   "outputs": [
    {
     "name": "stdout",
     "output_type": "stream",
     "text": [
      "Time elapsed:  0    0.0\n",
      "Name: TimeElapsed, dtype: float64\n",
      "0 0.3318637173152124\n",
      "5 0.30599007032528674\n",
      "10 0.3069025868792457\n",
      "15 0.31057833606101554\n",
      "20 0.31263312527390197\n",
      "25 0.3098167521558946\n",
      "30 0.34199532482817013\n",
      "35 0.33903099022314304\n",
      "40 0.33056549624398984\n",
      "45 0.32738142578619545\n",
      "50 0.32652974125727985\n",
      "Time elapsed:  103    2.93882\n",
      "Name: TimeElapsed, dtype: float64\n",
      "0 0.35810327745376946\n",
      "5 0.352642601731589\n",
      "10 0.36767220819447116\n",
      "15 0.35348699597228805\n",
      "20 0.32214194594649187\n",
      "25 0.2712793639279314\n",
      "30 0.24642278927740296\n",
      "35 0.24406091379583614\n",
      "40 0.26255336804562995\n",
      "45 0.2663312173429451\n",
      "50 0.26695709780079785\n",
      "Time elapsed:  249    6.8345\n",
      "Name: TimeElapsed, dtype: float64\n",
      "0 0.3246506504616063\n",
      "5 0.3194591751115931\n",
      "10 0.30674841261325764\n",
      "15 0.2792230776261267\n",
      "20 0.19760648650246349\n",
      "25 0.18486572231059287\n",
      "30 0.17997967919013158\n",
      "35 0.17627912875915236\n",
      "40 0.18083161183641525\n",
      "45 0.19209278095717422\n",
      "50 0.1883584601131455\n",
      "Time elapsed:  364    9.90363\n",
      "Name: TimeElapsed, dtype: float64\n",
      "0 0.31759668007056935\n",
      "5 0.3166955645391972\n",
      "10 0.3093226334539188\n",
      "15 0.20529374964279612\n",
      "20 0.2860940138530856\n",
      "25 0.31650725111901634\n",
      "30 0.33925095206494205\n",
      "35 0.36016190383366076\n",
      "40 0.38233028571799527\n",
      "45 0.38242127762573314\n",
      "50 0.39476630226204723\n",
      "Time elapsed:  454    12.2796\n",
      "Name: TimeElapsed, dtype: float64\n",
      "0 0.2610586353716443\n",
      "5 0.2673495136176717\n",
      "10 0.3593719243481679\n",
      "15 0.36554964622198155\n",
      "20 0.3150067936567179\n",
      "25 0.25761245839871644\n",
      "30 0.15173845789461823\n",
      "35 0.06858469541091994\n",
      "40 0.0354926203064075\n",
      "45 0.03654109706551839\n",
      "50 0.05550971654705575\n",
      "Time elapsed:  617    16.6318\n",
      "Name: TimeElapsed, dtype: float64\n",
      "0 0.14789708801942097\n",
      "5 0.14931049990348233\n",
      "10 0.026139165906022208\n",
      "15 0.06088336001349118\n",
      "20 0.08164824048775578\n",
      "25 0.10741625817297493\n",
      "30 0.14208733657999065\n",
      "35 0.16027288366508438\n",
      "40 0.14171851136134506\n",
      "45 0.13670151218824278\n",
      "50 0.13517653944021282\n",
      "Time elapsed:  853    22.908\n",
      "Name: TimeElapsed, dtype: float64\n",
      "0 0.29758421429138676\n",
      "5 0.2960742441236888\n",
      "10 0.1626326655556327\n",
      "15 0.20476516594062935\n",
      "20 0.2497201014633447\n",
      "25 0.2625150694161406\n",
      "30 0.27209488119724035\n",
      "35 0.27163566398104333\n",
      "40 0.2681156473582215\n",
      "45 0.2580436644086517\n",
      "50 0.2756581996101777\n",
      "Time elapsed:  1077    28.837\n",
      "Name: TimeElapsed, dtype: float64\n",
      "0 0.5148184458544889\n",
      "5 0.5146868826170031\n",
      "10 0.3498505973426294\n",
      "15 0.3162742917603416\n",
      "20 0.2684053084892484\n",
      "25 0.1568597225851377\n",
      "30 0.16873341961502383\n",
      "35 0.19573469179244785\n",
      "40 0.2219864048272342\n",
      "45 0.22184738717293467\n",
      "50 0.20804906549159874\n",
      "Time elapsed:  1222    32.758\n",
      "Name: TimeElapsed, dtype: float64\n",
      "0 0.21122425032653247\n",
      "5 0.20915264092327254\n",
      "10 0.05459311191367673\n",
      "15 0.166130834461357\n",
      "20 0.1708579557316381\n",
      "25 0.27772151213521984\n",
      "30 0.27886497889684203\n",
      "35 0.24067170483157524\n",
      "40 0.2337743638241408\n",
      "45 0.23623716625040408\n",
      "50 0.24042384841336592\n",
      "Time elapsed:  1364    36.5623\n",
      "Name: TimeElapsed, dtype: float64\n",
      "0 0.4930093801304752\n",
      "5 0.4953890362780466\n",
      "10 0.4939761941841143\n",
      "15 0.48876169958874327\n",
      "20 0.32984398784198843\n",
      "25 0.42103437173505076\n",
      "30 0.4317357255478775\n",
      "35 0.4644871944569968\n",
      "40 0.47697330077183225\n",
      "45 0.47014377581240274\n",
      "50 0.4821600587334901\n",
      "Time elapsed:  1516    40.5181\n",
      "Name: TimeElapsed, dtype: float64\n",
      "0 0.630976896073079\n",
      "5 0.6271082601198273\n",
      "10 0.6398956553427545\n",
      "15 0.6094543387437736\n",
      "20 0.562463135719366\n",
      "25 0.40369420818513974\n",
      "30 0.2569295348962639\n",
      "35 0.2808080058893698\n",
      "40 0.3207225292233122\n",
      "45 0.31426370760250877\n",
      "50 0.32228366133820013\n",
      "Time elapsed:  1735    46.4498\n",
      "Name: TimeElapsed, dtype: float64\n",
      "0 0.16049626481469587\n",
      "5 0.15934757721280732\n",
      "10 0.2797455616067207\n",
      "15 0.2894200469018765\n",
      "20 0.33679876054598207\n",
      "25 0.35479270900314225\n",
      "30 0.33360570015712493\n",
      "35 0.3141462518741967\n",
      "40 0.3136021652880592\n",
      "45 0.3148316937002508\n",
      "50 0.31741212287451964\n",
      "Time elapsed:  1816    48.6494\n",
      "Name: TimeElapsed, dtype: float64\n",
      "0 0.1487044433333105\n",
      "5 0.14612049925668827\n",
      "10 0.14345705712730272\n",
      "15 0.2902701982602409\n",
      "20 0.26416713904367845\n",
      "25 0.2584288322341064\n",
      "30 0.2509847787163586\n",
      "35 0.22639200042350532\n",
      "40 0.2260755039560376\n",
      "45 0.22405975765800334\n",
      "50 0.20573222605902486\n",
      "Time elapsed:  1984    53.1393\n",
      "Name: TimeElapsed, dtype: float64\n",
      "0 0.11374481821672555\n",
      "5 0.11181582639249095\n",
      "10 0.1108921569660816\n",
      "15 0.22325450303812247\n",
      "20 0.17486864216473103\n",
      "25 0.0788826945377203\n",
      "30 0.02282405402840634\n",
      "35 0.03223753723524517\n",
      "40 0.03283316525006452\n",
      "45 0.028545197666804387\n",
      "50 0.03397713739743647\n",
      "Time elapsed:  2124    56.9072\n",
      "Name: TimeElapsed, dtype: float64\n",
      "0 0.20884840709278515\n",
      "5 0.21272648469329702\n",
      "10 0.21102795390237172\n",
      "15 0.045653107940226874\n",
      "20 0.08892760291755845\n",
      "25 0.07845546397595504\n",
      "30 0.07328395470509061\n",
      "35 0.08875116910962381\n",
      "40 0.09148583275682483\n",
      "45 0.0942838997131948\n",
      "50 0.09176078209448324\n",
      "Time elapsed:  2296    61.4622\n",
      "Name: TimeElapsed, dtype: float64\n",
      "0 0.07802777165947562\n",
      "5 0.080962263520109\n",
      "10 0.051630197476489\n",
      "15 0.0630209478397773\n",
      "20 0.09164222399460094\n",
      "25 0.08921534770847743\n",
      "30 0.07029327172769771\n",
      "35 0.04815437503875677\n",
      "40 0.056021191831440574\n",
      "45 0.0547832653534193\n",
      "50 0.05662135023562773\n",
      "Time elapsed:  2460    65.8112\n",
      "Name: TimeElapsed, dtype: float64\n",
      "0 0.27487792544184436\n",
      "5 0.280897353752236\n",
      "10 0.27545340334056206\n",
      "15 0.08934950210752227\n",
      "20 0.25295179908604326\n",
      "25 0.3868621276140886\n",
      "30 0.44609710115621826\n",
      "35 0.43601966523565455\n",
      "40 0.4264076827733062\n",
      "45 0.40641587256579376\n",
      "50 0.4005205803930916\n",
      "Time elapsed:  2654    70.8387\n",
      "Name: TimeElapsed, dtype: float64\n",
      "0 0.28233294645416146\n",
      "5 0.2850967278747404\n",
      "10 0.32151062534618985\n",
      "15 0.2986557579442551\n",
      "20 0.21910401648885153\n",
      "25 0.09484479129170295\n",
      "30 0.034569985833771036\n",
      "35 0.030703085177702056\n",
      "40 0.04604556896175187\n",
      "45 0.05349841049703419\n",
      "50 0.05247494759148226\n",
      "Time elapsed:  2771    73.9754\n",
      "Name: TimeElapsed, dtype: float64\n",
      "0 0.21069729716434488\n",
      "5 0.2200719690529761\n",
      "10 0.05791939865148685\n",
      "15 0.06558214390866267\n",
      "20 0.12961981780114784\n",
      "25 0.18386115123697047\n",
      "30 0.23309755004769245\n",
      "35 0.22623138068606083\n",
      "40 0.2059265382454868\n",
      "45 0.20263231601261128\n",
      "50 0.20298914236075496\n",
      "Time elapsed:  2925    78.0826\n",
      "Name: TimeElapsed, dtype: float64\n",
      "0 0.4523078392744931\n",
      "5 0.4695585509649326\n",
      "10 0.26763555324507676\n",
      "15 0.26130296094141947\n",
      "20 0.2388785088502727\n",
      "25 0.22129562912248174\n",
      "30 0.19903846782940493\n",
      "35 0.1831173133461054\n",
      "40 0.19668615158953923\n",
      "45 0.2211702160632535\n",
      "50 0.23744884086167872\n",
      "Time elapsed:  3134    83.6523\n",
      "Name: TimeElapsed, dtype: float64\n",
      "0 0.13485639651905304\n",
      "5 0.14109599133464457\n",
      "10 0.09279461872676821\n",
      "15 0.21297741419621685\n",
      "20 0.20398610266609088\n",
      "25 0.18506231807501175\n",
      "30 0.1723544914151429\n",
      "35 0.163209053702404\n",
      "40 0.16762794292914693\n",
      "45 0.17567109822146965\n",
      "50 0.20448995927773486\n",
      "Time elapsed:  3284    87.6093\n",
      "Name: TimeElapsed, dtype: float64\n",
      "0 0.45485781692505106\n",
      "5 0.47373913933847994\n",
      "10 0.45205441078765773\n",
      "15 0.3015169243070904\n",
      "20 0.22480854362795047\n",
      "25 0.2934827976089454\n",
      "30 0.38069087654480854\n",
      "35 0.3939988029715582\n",
      "40 0.40577960881915287\n",
      "45 0.47438612647141787\n",
      "50 0.5125962166364453\n",
      "Time elapsed:  3509    93.4455\n",
      "Name: TimeElapsed, dtype: float64\n",
      "0 0.45947813289365785\n",
      "5 0.45996908923048335\n",
      "10 0.5285917414262123\n",
      "15 0.5035761170006265\n",
      "20 0.38787220710246095\n",
      "25 0.24850016240362366\n",
      "30 0.19421787372189048\n",
      "35 0.22332558182058415\n",
      "40 0.2532671301473674\n",
      "45 0.25442234615799003\n",
      "50 0.2670538020907427\n",
      "Time elapsed:  3701    98.5328\n",
      "Name: TimeElapsed, dtype: float64\n",
      "0 0.024269445459264058\n",
      "5 0.02501476438958572\n",
      "10 0.02410724856411296\n",
      "15 0.27915751893594504\n",
      "20 0.22015609136794598\n",
      "25 0.16616579774837487\n",
      "30 0.09763627793727445\n",
      "35 0.08590842908791675\n",
      "40 0.07513185741270385\n",
      "45 0.07531715193488894\n",
      "50 0.07576753901024066\n",
      "Time elapsed:  3901    103.877\n",
      "Name: TimeElapsed, dtype: float64\n",
      "0 0.34692519741439065\n",
      "5 0.31743817650537404\n",
      "10 0.3194337789896824\n",
      "15 0.08523701292473047\n",
      "20 0.16957026840106143\n",
      "25 0.3350854296925221\n",
      "30 0.409353984099102\n",
      "35 0.41491616434714135\n",
      "40 0.4062527862022073\n",
      "45 0.39496282123555304\n",
      "50 0.3859847743816179\n",
      "Time elapsed:  4089    108.754\n",
      "Name: TimeElapsed, dtype: float64\n",
      "0 0.43872734516309625\n",
      "5 0.43825877834245985\n",
      "10 0.4124928493318415\n",
      "15 0.4093596861376199\n",
      "20 0.40040885160913803\n",
      "25 0.36845119737742926\n",
      "30 0.3750715304177218\n",
      "35 0.38680148731465375\n",
      "40 0.3906887652349329\n",
      "45 0.3922793703180575\n",
      "50 0.3972203131077723\n",
      "Time elapsed:  4203    111.695\n",
      "Name: TimeElapsed, dtype: float64\n",
      "0 0.41904522115956144\n",
      "5 0.42767225073550413\n",
      "10 0.41963118387435344\n",
      "15 0.40113153099783916\n",
      "20 0.456402469382897\n",
      "25 0.4988131642045871\n",
      "30 0.5188134413178678\n",
      "35 0.5304493523309671\n",
      "40 0.5369276976422018\n",
      "45 0.5422378894559173\n",
      "50 0.5418810511743362\n",
      "Time elapsed:  4319    114.652\n",
      "Name: TimeElapsed, dtype: float64\n",
      "0 0.42648625951227154\n",
      "5 0.4391817150928735\n",
      "10 0.4348354249058359\n",
      "15 0.5596259476594353\n",
      "20 0.38763681870804256\n",
      "25 0.18960387474076262\n",
      "30 0.17945443525454816\n",
      "35 0.20988320394280016\n",
      "40 0.23966383174101727\n",
      "45 0.25921323966957033\n",
      "50 0.2621115869549396\n",
      "Time elapsed:  4463    118.504\n",
      "Name: TimeElapsed, dtype: float64\n",
      "0 0.4248192558142878\n",
      "5 0.4220109321698868\n",
      "10 0.3058109993647462\n",
      "15 0.3477349913771664\n",
      "20 0.42605660160979747\n",
      "25 0.49290252281089253\n",
      "30 0.47789335541951206\n",
      "35 0.47108343577924416\n",
      "40 0.4870169147763025\n",
      "45 0.4917630978039439\n",
      "50 0.4977467457138975\n",
      "Time elapsed:  4554    120.937\n",
      "Name: TimeElapsed, dtype: float64\n",
      "0 0.5348066418630056\n",
      "5 0.5353928165726157\n",
      "10 0.45637472026662257\n",
      "15 0.4522315861758516\n",
      "20 0.5911615912945629\n",
      "25 0.6392238251690572\n",
      "30 0.6571848059222429\n",
      "35 0.6297150851504153\n",
      "40 0.612645564969019\n",
      "45 0.6037030155650643\n",
      "50 0.607261586965657\n",
      "Time elapsed:  4765    126.425\n",
      "Name: TimeElapsed, dtype: float64\n",
      "0 0.32822935246222895\n",
      "5 0.3272369564063791\n",
      "10 0.4834971836091015\n",
      "15 0.4971117323547047\n",
      "20 0.44979923018924717\n",
      "25 0.49324403328451394\n",
      "30 0.45286594440134165\n",
      "35 0.46398579015420766\n",
      "40 0.4667793532816854\n",
      "45 0.4691339920781268\n",
      "50 0.45966771901052667\n",
      "Time elapsed:  4990    132.212\n",
      "Name: TimeElapsed, dtype: float64\n",
      "0 0.6873142700129788\n",
      "5 0.6808159309926204\n",
      "10 0.5673762377167543\n",
      "15 0.502467645659984\n",
      "20 0.4893981964851245\n",
      "25 0.3937249156607901\n",
      "30 0.36047861653420565\n",
      "35 0.3059153679913301\n",
      "40 0.3222620880909463\n",
      "45 0.33013565297648506\n",
      "50 0.32901079575847186\n",
      "Time elapsed:  5120    135.708\n",
      "Name: TimeElapsed, dtype: float64\n",
      "0 0.19041358867741792\n",
      "5 0.16365742860640703\n",
      "10 0.06711926428248197\n",
      "15 0.23974292069950914\n",
      "20 0.23981691842996736\n",
      "25 0.30831478943898405\n",
      "30 0.30733648639461564\n",
      "35 0.28417202743827946\n",
      "40 0.283606215935398\n",
      "45 0.27987390882178403\n",
      "50 0.28751697871582976\n",
      "Time elapsed:  5350    141.622\n",
      "Name: TimeElapsed, dtype: float64\n",
      "0 0.29582075265212204\n",
      "5 0.296314799848077\n",
      "10 0.329811998301599\n",
      "15 0.32746333308028086\n",
      "20 0.2686533498904264\n",
      "25 0.22382545045414357\n",
      "30 0.192439769999742\n",
      "35 0.164497570357221\n",
      "40 0.1690418519123727\n",
      "45 0.18114178791422098\n",
      "50 0.18117969452080226\n",
      "Time elapsed:  5467    144.678\n",
      "Name: TimeElapsed, dtype: float64\n",
      "0 0.6319004942143324\n",
      "5 0.629907677598226\n",
      "10 0.5083653851110731\n",
      "15 0.3056637702946358\n",
      "20 0.44344533848236906\n",
      "25 0.5611522137440765\n",
      "30 0.6829762084036824\n",
      "35 0.7344048953439026\n",
      "40 0.7429459291915567\n",
      "45 0.7476686933929279\n",
      "50 0.7479199482630483\n",
      "Time elapsed:  5680    150.113\n",
      "Name: TimeElapsed, dtype: float64\n",
      "0 0.4419958749050543\n",
      "5 0.4479973952814043\n",
      "10 0.4451460083647308\n",
      "15 0.7146153807082124\n",
      "20 0.5515970152620876\n",
      "25 0.42838604313416967\n",
      "30 0.3268779675516154\n",
      "35 0.2767297558759264\n",
      "40 0.28558825239619434\n",
      "45 0.2863939043315155\n",
      "50 0.28646943444001766\n",
      "Time elapsed:  5857    154.751\n",
      "Name: TimeElapsed, dtype: float64\n",
      "0 0.5177979942590089\n",
      "5 0.5103745294842769\n",
      "10 0.4652465967742289\n",
      "15 0.33163474469844595\n",
      "20 0.4517755023234772\n",
      "25 0.525207842855151\n",
      "30 0.5377799565963816\n",
      "35 0.5314624475867412\n",
      "40 0.537079160899823\n",
      "45 0.5315019048486187\n",
      "50 0.5416766991189739\n",
      "Time elapsed:  6062    160.124\n",
      "Name: TimeElapsed, dtype: float64\n",
      "0 0.19962442999846788\n",
      "5 0.19847464875222903\n",
      "10 0.44253708729263486\n",
      "15 0.4926296917260708\n",
      "20 0.33221117856322163\n",
      "25 0.1850857022472417\n",
      "30 0.1609741694365132\n",
      "35 0.18564165812055808\n",
      "40 0.1928744167082561\n",
      "45 0.19710136619114457\n",
      "50 0.21063399768078517\n",
      "Time elapsed:  6219    164.319\n",
      "Name: TimeElapsed, dtype: float64\n",
      "0 0.3767298764669557\n",
      "5 0.37729500414660794\n",
      "10 0.24357821482926476\n",
      "15 0.2724424913293608\n",
      "20 0.33828546037857177\n",
      "25 0.37047848238711717\n",
      "30 0.3840590006212789\n",
      "35 0.3825637443766702\n",
      "40 0.3768022791320305\n",
      "45 0.37348091614707807\n",
      "50 0.36994541711236734\n",
      "Time elapsed:  6384    168.719\n",
      "Name: TimeElapsed, dtype: float64\n",
      "0 0.5214182670983002\n",
      "5 0.5194949946311523\n",
      "10 0.44439417763211264\n",
      "15 0.4420708529694999\n",
      "20 0.38203013673418323\n",
      "25 0.3477503007437842\n",
      "30 0.37050701204837133\n",
      "35 0.3885672587807891\n",
      "40 0.4068466005483555\n",
      "45 0.4039294836530725\n",
      "50 0.39118072538710746\n",
      "Time elapsed:  6566    173.588\n",
      "Name: TimeElapsed, dtype: float64\n",
      "0 0.07517648447222547\n",
      "5 0.07382933651680798\n",
      "10 0.3656291867909301\n",
      "15 0.3611670535785085\n",
      "20 0.2688829542453834\n",
      "25 0.1490192718020626\n",
      "30 0.08284313909752988\n",
      "35 0.08719813105276626\n",
      "40 0.09476275436268704\n",
      "45 0.09197571192371301\n",
      "50 0.13587199691004062\n",
      "Time elapsed:  6739    178.218\n",
      "Name: TimeElapsed, dtype: float64\n",
      "0 0.22754103839205977\n",
      "5 0.22836694349315556\n",
      "10 0.11643891491392375\n",
      "15 0.13840278221211852\n",
      "20 0.10377783417915115\n",
      "25 0.0866610840326279\n",
      "30 0.0920401482274857\n",
      "35 0.09366082984680109\n",
      "40 0.09163354983871187\n",
      "45 0.10407704560697614\n",
      "50 0.09855203291938502\n",
      "Time elapsed:  6861    181.541\n",
      "Name: TimeElapsed, dtype: float64\n",
      "0 0.3348471710012927\n",
      "5 0.3355477878575677\n",
      "10 0.2671967377166332\n",
      "15 0.05771861769599053\n",
      "20 0.19290549056667047\n",
      "25 0.3380175916521485\n",
      "30 0.43722948260631606\n",
      "35 0.43169811475573183\n",
      "40 0.43889983538592386\n",
      "45 0.43247657415908963\n",
      "50 0.4295966119379284\n",
      "Time elapsed:  6983    184.795\n",
      "Name: TimeElapsed, dtype: float64\n",
      "0 0.08627231055247699\n",
      "5 0.08667411706364815\n",
      "10 0.255589798207782\n",
      "15 0.40609821524221357\n",
      "20 0.2975280496527643\n",
      "25 0.1810182116829012\n",
      "30 0.150402256206551\n",
      "35 0.13770058053176956\n",
      "40 0.12090469218394709\n",
      "45 0.12250384293552471\n",
      "50 0.14058517076031807\n",
      "Time elapsed:  7079    187.38\n",
      "Name: TimeElapsed, dtype: float64\n",
      "0 0.33053948060279414\n",
      "5 0.32706503395330755\n",
      "10 0.17024978588957884\n",
      "15 0.1726361370269528\n",
      "20 0.2401937216367427\n",
      "25 0.3031094632991431\n",
      "30 0.3110463736932651\n",
      "35 0.31417539326258853\n",
      "40 0.31991587511033925\n",
      "45 0.3201478361235341\n",
      "50 0.3161779375219931\n",
      "Time elapsed:  7274    192.602\n",
      "Name: TimeElapsed, dtype: float64\n",
      "0 0.23455928904010384\n",
      "5 0.2326707598175622\n",
      "10 0.23978179918523299\n",
      "15 0.25538459184312473\n",
      "20 0.2459987440456242\n",
      "25 0.3045945931443595\n",
      "30 0.32560321671231385\n",
      "35 0.3140247041984924\n",
      "40 0.31513624827580483\n",
      "45 0.3063834412165891\n",
      "50 0.30362339398676735\n",
      "Time elapsed:  7425    196.529\n",
      "Name: TimeElapsed, dtype: float64\n",
      "0 0.7281812255407155\n",
      "5 0.7231652318820199\n",
      "10 0.7277136474149984\n",
      "15 0.42830979321580726\n",
      "20 0.46464213321467773\n",
      "25 0.4650692850133425\n",
      "30 0.4707908025786559\n",
      "35 0.545865660405366\n",
      "40 0.5646830993805896\n",
      "45 0.5671183149876472\n",
      "50 0.5546498161590906\n",
      "Time elapsed:  7591    200.977\n",
      "Name: TimeElapsed, dtype: float64\n",
      "0 0.3614027858836076\n",
      "5 0.36228290476298214\n",
      "10 0.34107590275971106\n",
      "15 0.35561945543372736\n",
      "20 0.47276331342733\n",
      "25 0.5933959604993821\n",
      "30 0.5984120468635922\n",
      "35 0.5689690874076949\n",
      "40 0.5525554253056767\n",
      "45 0.5396438735895731\n",
      "50 0.5296870190248686\n",
      "Time elapsed:  7815    206.729\n",
      "Name: TimeElapsed, dtype: float64\n",
      "0 0.6504737236405915\n",
      "5 0.6492175598217212\n",
      "10 0.6483259194703723\n",
      "15 0.6009958241885798\n",
      "20 0.6075003532747645\n",
      "25 0.5611458063441992\n",
      "30 0.5516210305169246\n",
      "35 0.5899683581080967\n",
      "40 0.5948141195265253\n",
      "45 0.5942684931721772\n",
      "50 0.5913353134819989\n",
      "Time elapsed:  7902    208.964\n",
      "Name: TimeElapsed, dtype: float64\n",
      "0 0.36569722258869114\n",
      "5 0.3667216945427409\n",
      "10 0.4444897780205496\n",
      "15 0.4943220803422493\n",
      "20 0.48078631345465883\n",
      "25 0.5015309707565629\n",
      "30 0.45517458646355785\n",
      "35 0.44138404892440314\n",
      "40 0.4317083777657754\n",
      "45 0.43780563467908784\n",
      "50 0.448627595826548\n",
      "Time elapsed:  8051    212.751\n",
      "Name: TimeElapsed, dtype: float64\n",
      "0 0.7625295770976277\n",
      "5 0.7638638867387388\n",
      "10 0.5764119166852393\n",
      "15 0.5287656280483285\n",
      "20 0.5657196222675991\n",
      "25 0.5876686466211872\n",
      "30 0.612947878554274\n",
      "35 0.6302928891454521\n",
      "40 0.6247830655426827\n",
      "45 0.6289687926285968\n",
      "50 0.6392940714353232\n",
      "Time elapsed:  8149    215.277\n",
      "Name: TimeElapsed, dtype: float64\n",
      "0 0.33916022447720395\n",
      "5 0.3418565250473179\n",
      "10 0.33884221344352844\n",
      "15 0.5327756051568386\n",
      "20 0.4636010009234469\n",
      "25 0.20386170515792212\n",
      "30 0.09827059457868469\n",
      "35 0.05590434866821418\n",
      "40 0.04456578082914941\n",
      "45 0.03793088644687056\n",
      "50 0.03688615306872323\n",
      "Time elapsed:  8315    219.741\n",
      "Name: TimeElapsed, dtype: float64\n",
      "0 0.38214798421984275\n",
      "5 0.36906384675707615\n",
      "10 0.0642762625356803\n",
      "15 0.11188763086830958\n",
      "20 0.28927232172846973\n",
      "25 0.40954866786111066\n",
      "30 0.45505189945633306\n",
      "35 0.4426834932460205\n",
      "40 0.4385332871609916\n",
      "45 0.42938855754834115\n",
      "50 0.4294813216988878\n",
      "Time elapsed:  8465    223.665\n",
      "Name: TimeElapsed, dtype: float64\n",
      "0 0.7302961741163464\n",
      "5 0.7382748733210441\n",
      "10 0.7350505774265687\n",
      "15 0.5077126757047543\n",
      "20 0.5605056554613083\n",
      "25 0.6077956053827291\n",
      "30 0.6778923459760207\n",
      "35 0.6865246760263863\n",
      "40 0.702940243512227\n",
      "45 0.7155403245100032\n",
      "50 0.7142943587295512\n",
      "Time elapsed:  8637    228.079\n",
      "Name: TimeElapsed, dtype: float64\n",
      "0 0.47220009641223304\n",
      "5 0.46907964339166\n",
      "10 0.6564730841423446\n",
      "15 0.6498463988798183\n",
      "20 0.5561454451708929\n",
      "25 0.43062783991205766\n",
      "30 0.33262525998075027\n",
      "35 0.3487086437641808\n",
      "40 0.35813770593712146\n",
      "45 0.36481410829022376\n",
      "50 0.3629661630135603\n",
      "Time elapsed:  8775    231.665\n",
      "Name: TimeElapsed, dtype: float64\n",
      "0 0.3845507934391055\n",
      "5 0.3772324299434051\n",
      "10 0.39182214139737165\n",
      "15 0.37914433510138246\n",
      "20 0.2913998968100665\n",
      "25 0.2910752640277879\n",
      "30 0.2950817153187618\n",
      "35 0.2977076560978211\n",
      "40 0.27978163933687783\n",
      "45 0.28234785314034466\n",
      "50 0.2772345465650386\n",
      "Time elapsed:  8930    235.799\n",
      "Name: TimeElapsed, dtype: float64\n",
      "0 0.45937870053716623\n",
      "5 0.4591450738908807\n",
      "10 0.3007075913438381\n",
      "15 0.29404544512077424\n",
      "20 0.2752582015513713\n",
      "25 0.2896632295678254\n",
      "30 0.26146199390347263\n",
      "35 0.24598239654413534\n",
      "40 0.2677776993535687\n",
      "45 0.25856293701555555\n",
      "50 0.2746279497726528\n",
      "Time elapsed:  9001    237.7\n",
      "Name: TimeElapsed, dtype: float64\n",
      "0 0.19196565357835965\n",
      "5 0.2027624958091203\n",
      "10 0.17820064941955113\n",
      "15 0.1827453417682302\n",
      "20 0.25159880802849555\n",
      "25 0.35898292773696133\n",
      "30 0.40866085606730057\n",
      "35 0.37777459132608016\n",
      "40 0.37485373764057794\n",
      "45 0.37466799273576357\n",
      "50 0.37072523854445066\n",
      "Time elapsed:  9162    241.964\n",
      "Name: TimeElapsed, dtype: float64\n",
      "0 0.3997847713076513\n",
      "5 0.39779627725266037\n",
      "10 0.4642573667388707\n",
      "15 0.44553586687445507\n",
      "20 0.33441661465936173\n",
      "25 0.2524045574875693\n",
      "30 0.25007977671285725\n",
      "35 0.24367691785239853\n",
      "40 0.25201044428258124\n",
      "45 0.2610103943427944\n",
      "50 0.2635813143365317\n",
      "Time elapsed:  9331    246.465\n",
      "Name: TimeElapsed, dtype: float64\n",
      "0 0.35342660887789956\n",
      "5 0.35482365835654534\n",
      "10 0.2537777860454675\n",
      "15 0.22205578048471886\n",
      "20 0.39044088111896735\n",
      "25 0.4677175749325333\n",
      "30 0.4433890562941574\n",
      "35 0.45018425859572636\n",
      "40 0.4421494246006604\n",
      "45 0.4230998344479776\n",
      "50 0.43128483749742097\n",
      "Time elapsed:  9437    249.274\n",
      "Name: TimeElapsed, dtype: float64\n",
      "0 0.08596047568625823\n",
      "5 0.08815753196085112\n",
      "10 0.09061230538453625\n",
      "15 0.34727150120366385\n",
      "20 0.20170935921263855\n",
      "25 0.18775502168983974\n",
      "30 0.17281993598107742\n",
      "35 0.1659905805342937\n",
      "40 0.1831519163423324\n",
      "45 0.17545910159152225\n",
      "50 0.16440007770282594\n",
      "Time elapsed:  9567    252.718\n",
      "Name: TimeElapsed, dtype: float64\n",
      "0 0.148104581914611\n",
      "5 0.14650600117272716\n",
      "10 0.14864443388867055\n",
      "15 0.20926335716770658\n",
      "20 0.19178234893599666\n",
      "25 0.12441407216885865\n",
      "30 0.12847601543095274\n",
      "35 0.1309724178758248\n",
      "40 0.13342781080077687\n",
      "45 0.13104486485403324\n",
      "50 0.12848052135442833\n",
      "Time elapsed:  9690    256.086\n",
      "Name: TimeElapsed, dtype: float64\n",
      "0 0.3472575989518911\n",
      "5 0.34893340219538144\n",
      "10 0.3456444474581074\n",
      "15 0.1707696128581351\n",
      "20 0.162786429079448\n",
      "25 0.05858165499008217\n",
      "30 0.1270844801803365\n",
      "35 0.13482501218901832\n",
      "40 0.13855168219198863\n",
      "45 0.13682552978275042\n",
      "50 0.14153258419819825\n",
      "Time elapsed:  9797    258.991\n",
      "Name: TimeElapsed, dtype: float64\n",
      "0 0.17922613595546302\n",
      "5 0.18072269643249367\n",
      "10 0.17824641423664433\n",
      "15 0.08493894094079865\n",
      "20 0.09524785813067672\n",
      "25 0.10825386272766992\n",
      "30 0.10062364913294941\n",
      "35 0.05383978263432849\n",
      "40 0.06875125328209847\n",
      "45 0.07648354919090397\n",
      "50 0.09246027626120039\n",
      "Time elapsed:  9935    262.668\n",
      "Name: TimeElapsed, dtype: float64\n",
      "0 0.23036403480443146\n",
      "5 0.23375616362273557\n",
      "10 0.16664684170827712\n",
      "15 0.13585100447637782\n",
      "20 0.09590861168209519\n",
      "25 0.09726082452826099\n",
      "30 0.16483317841873052\n",
      "35 0.1383590069435994\n",
      "40 0.1166596416847456\n",
      "45 0.11313847904912114\n",
      "50 0.1045787942848502\n",
      "Time elapsed:  10102    267.097\n",
      "Name: TimeElapsed, dtype: float64\n",
      "0 0.2629153111270941\n",
      "5 0.2655399639740042\n",
      "10 0.12840326591665624\n",
      "15 0.09522974233192555\n",
      "20 0.1665012899139872\n",
      "25 0.2813170227768819\n",
      "30 0.3226316196529186\n",
      "35 0.3243874378961974\n",
      "40 0.31722399796209066\n",
      "45 0.31437725753420154\n",
      "50 0.2985343939984111\n",
      "Time elapsed:  10256    271.215\n",
      "Name: TimeElapsed, dtype: float64\n",
      "0 0.30506191124051196\n",
      "5 0.3020501546221091\n",
      "10 0.3338778699964982\n",
      "15 0.3147795991431739\n",
      "20 0.20248319085091362\n",
      "25 0.1710388013461185\n",
      "30 0.18840953265520746\n",
      "35 0.19962689668699438\n",
      "40 0.21185682129010214\n",
      "45 0.2239269525701722\n",
      "50 0.2336313470202435\n",
      "Time elapsed:  10363    274.045\n",
      "Name: TimeElapsed, dtype: float64\n",
      "0 0.30091511804309184\n",
      "5 0.3036926410603156\n",
      "10 0.3059642837054952\n",
      "15 0.17459705612929524\n",
      "20 0.1070941413117878\n",
      "25 0.1185805625031636\n",
      "30 0.21184431866474232\n",
      "35 0.24954065470017456\n",
      "40 0.22695391574991136\n",
      "45 0.20838169462583683\n",
      "50 0.22299465308726119\n"
     ]
    }
   ],
   "source": [
    "# find all fixation indexrts\n",
    "# for each, find when the gaze comes some threshold nearby the FC location\n",
    "for idx in FC_df[FC_move_true].index:\n",
    "    TC = FC_df.loc[idx, \"TimestampCarla\"]\n",
    "    FC_move_idx = og_df[og_df.TimestampCarla==TC].index\n",
    "    FC_new_loc = FC_df.loc[idx, \"CustomActor_Location\"]\n",
    "    # print(\"\\nidx: \", idx)\n",
    "    print(\"Time elapsed: \", og_df.loc[FC_move_idx, \"TimeElapsed\"])\n",
    "    ctr = 0\n",
    "    while True:\n",
    "        # Gaze_origin_abs = CameraLoc + EgoSensor->GetData()->GetGazeOrigin(DReyeVR::Gaze::COMBINED);\n",
    "        Gaze_origin_abs = np.array(og_df.loc[FC_move_idx+ctr, \"GazeOrigin_COMBINED\"].squeeze()) \\\n",
    "                            + np.array(og_df.loc[FC_move_idx+ctr, \"CameraLocAbs\"].squeeze())\n",
    "        # Gaze_dir_rel = EgoSensor->GetData()->GetGazeDir(DReyeVR::Gaze::COMBINED);\n",
    "        Gaze_dir_rel = np.array(og_df.loc[FC_move_idx+ctr, \"GazeDir_COMBINED\"].squeeze()) #[None,:]\n",
    "        \n",
    "        # Gaze_posn_rel = CameraRot.RotateVector(Gaze_dir_rel);\n",
    "        # Gaze_posn_abs = Gaze_origin_abs + Gaze_posn_rel;\n",
    "        # Need to rotate by CameraRotAbs to get GazeOrigin2FC_vec vector in the camera(head) frame\n",
    "        camera_rot = R.from_euler('xyz', np.array(og_df.loc[FC_move_idx+ctr, \"CameraRotAbs\"].squeeze()), degrees=True)\n",
    "        Gaze_posn_rel = camera_rot.apply(Gaze_dir_rel)\n",
    "        \n",
    "        FC_dir = FC_new_loc - Gaze_origin_abs\n",
    "        dot_prod = np.dot(FC_dir/np.linalg.norm(FC_dir), Gaze_posn_rel/np.linalg.norm(Gaze_posn_rel))\n",
    "        angle = np.arccos(dot_prod)\n",
    "        # print(angle)\n",
    "        \n",
    "        if ctr % 5 == 0:            \n",
    "            # print(GazeOrigin2FC_vec)\n",
    "            print(ctr, angle)\n",
    "            # print(pitch, yaw)\n",
    "        if ctr == 50:\n",
    "            break\n",
    "        ctr += 1        \n",
    "    # break"
   ]
  },
  {
   "cell_type": "code",
   "execution_count": 22,
   "id": "bb4d0da6-37bb-4451-9b61-fe389ef11180",
   "metadata": {
    "collapsed": true,
    "jupyter": {
     "outputs_hidden": true
    },
    "tags": []
   },
   "outputs": [
    {
     "ename": "ValueError",
     "evalue": "x and y must be the same size",
     "output_type": "error",
     "traceback": [
      "\u001b[1;31m---------------------------------------------------------------------------\u001b[0m",
      "\u001b[1;31mValueError\u001b[0m                                Traceback (most recent call last)",
      "\u001b[1;32m~\\AppData\\Local\\Temp/ipykernel_46232/261224767.py\u001b[0m in \u001b[0;36m<module>\u001b[1;34m\u001b[0m\n\u001b[0;32m      1\u001b[0m \u001b[0mplt\u001b[0m\u001b[1;33m.\u001b[0m\u001b[0mfigure\u001b[0m\u001b[1;33m(\u001b[0m\u001b[1;33m)\u001b[0m\u001b[1;33m\u001b[0m\u001b[1;33m\u001b[0m\u001b[0m\n\u001b[1;32m----> 2\u001b[1;33m \u001b[0mplt\u001b[0m\u001b[1;33m.\u001b[0m\u001b[0mscatter\u001b[0m\u001b[1;33m(\u001b[0m\u001b[0mFC_df\u001b[0m\u001b[1;33m[\u001b[0m\u001b[0mFC_move_true\u001b[0m\u001b[1;33m]\u001b[0m\u001b[1;33m.\u001b[0m\u001b[0mTimestampCarla\u001b[0m\u001b[1;33m,\u001b[0m \u001b[0mnp\u001b[0m\u001b[1;33m.\u001b[0m\u001b[0mones\u001b[0m\u001b[1;33m(\u001b[0m\u001b[1;36m17\u001b[0m\u001b[1;33m,\u001b[0m\u001b[1;33m)\u001b[0m\u001b[1;33m)\u001b[0m\u001b[1;33m\u001b[0m\u001b[1;33m\u001b[0m\u001b[0m\n\u001b[0m\u001b[0;32m      3\u001b[0m \u001b[0mplt\u001b[0m\u001b[1;33m.\u001b[0m\u001b[0mscatter\u001b[0m\u001b[1;33m(\u001b[0m\u001b[0mFC_df\u001b[0m\u001b[1;33m[\u001b[0m\u001b[0mFC_move_true\u001b[0m\u001b[1;33m]\u001b[0m\u001b[1;33m.\u001b[0m\u001b[0mTimestampCarla\u001b[0m\u001b[1;33m,\u001b[0m \u001b[0mnp\u001b[0m\u001b[1;33m.\u001b[0m\u001b[0mones\u001b[0m\u001b[1;33m(\u001b[0m\u001b[1;36m17\u001b[0m\u001b[1;33m,\u001b[0m\u001b[1;33m)\u001b[0m\u001b[1;33m)\u001b[0m\u001b[1;33m\u001b[0m\u001b[1;33m\u001b[0m\u001b[0m\n\u001b[0;32m      4\u001b[0m \u001b[0mplt\u001b[0m\u001b[1;33m.\u001b[0m\u001b[0mshow\u001b[0m\u001b[1;33m(\u001b[0m\u001b[1;33m)\u001b[0m\u001b[1;33m\u001b[0m\u001b[1;33m\u001b[0m\u001b[0m\n",
      "\u001b[1;32mc:\\users\\abhijat\\appdata\\local\\programs\\python\\python38\\lib\\site-packages\\matplotlib\\pyplot.py\u001b[0m in \u001b[0;36mscatter\u001b[1;34m(x, y, s, c, marker, cmap, norm, vmin, vmax, alpha, linewidths, edgecolors, plotnonfinite, data, **kwargs)\u001b[0m\n\u001b[0;32m   2805\u001b[0m         \u001b[0mvmin\u001b[0m\u001b[1;33m=\u001b[0m\u001b[1;32mNone\u001b[0m\u001b[1;33m,\u001b[0m \u001b[0mvmax\u001b[0m\u001b[1;33m=\u001b[0m\u001b[1;32mNone\u001b[0m\u001b[1;33m,\u001b[0m \u001b[0malpha\u001b[0m\u001b[1;33m=\u001b[0m\u001b[1;32mNone\u001b[0m\u001b[1;33m,\u001b[0m \u001b[0mlinewidths\u001b[0m\u001b[1;33m=\u001b[0m\u001b[1;32mNone\u001b[0m\u001b[1;33m,\u001b[0m \u001b[1;33m*\u001b[0m\u001b[1;33m,\u001b[0m\u001b[1;33m\u001b[0m\u001b[1;33m\u001b[0m\u001b[0m\n\u001b[0;32m   2806\u001b[0m         edgecolors=None, plotnonfinite=False, data=None, **kwargs):\n\u001b[1;32m-> 2807\u001b[1;33m     __ret = gca().scatter(\n\u001b[0m\u001b[0;32m   2808\u001b[0m         \u001b[0mx\u001b[0m\u001b[1;33m,\u001b[0m \u001b[0my\u001b[0m\u001b[1;33m,\u001b[0m \u001b[0ms\u001b[0m\u001b[1;33m=\u001b[0m\u001b[0ms\u001b[0m\u001b[1;33m,\u001b[0m \u001b[0mc\u001b[0m\u001b[1;33m=\u001b[0m\u001b[0mc\u001b[0m\u001b[1;33m,\u001b[0m \u001b[0mmarker\u001b[0m\u001b[1;33m=\u001b[0m\u001b[0mmarker\u001b[0m\u001b[1;33m,\u001b[0m \u001b[0mcmap\u001b[0m\u001b[1;33m=\u001b[0m\u001b[0mcmap\u001b[0m\u001b[1;33m,\u001b[0m \u001b[0mnorm\u001b[0m\u001b[1;33m=\u001b[0m\u001b[0mnorm\u001b[0m\u001b[1;33m,\u001b[0m\u001b[1;33m\u001b[0m\u001b[1;33m\u001b[0m\u001b[0m\n\u001b[0;32m   2809\u001b[0m         \u001b[0mvmin\u001b[0m\u001b[1;33m=\u001b[0m\u001b[0mvmin\u001b[0m\u001b[1;33m,\u001b[0m \u001b[0mvmax\u001b[0m\u001b[1;33m=\u001b[0m\u001b[0mvmax\u001b[0m\u001b[1;33m,\u001b[0m \u001b[0malpha\u001b[0m\u001b[1;33m=\u001b[0m\u001b[0malpha\u001b[0m\u001b[1;33m,\u001b[0m \u001b[0mlinewidths\u001b[0m\u001b[1;33m=\u001b[0m\u001b[0mlinewidths\u001b[0m\u001b[1;33m,\u001b[0m\u001b[1;33m\u001b[0m\u001b[1;33m\u001b[0m\u001b[0m\n",
      "\u001b[1;32mc:\\users\\abhijat\\appdata\\local\\programs\\python\\python38\\lib\\site-packages\\matplotlib\\__init__.py\u001b[0m in \u001b[0;36minner\u001b[1;34m(ax, data, *args, **kwargs)\u001b[0m\n\u001b[0;32m   1410\u001b[0m     \u001b[1;32mdef\u001b[0m \u001b[0minner\u001b[0m\u001b[1;33m(\u001b[0m\u001b[0max\u001b[0m\u001b[1;33m,\u001b[0m \u001b[1;33m*\u001b[0m\u001b[0margs\u001b[0m\u001b[1;33m,\u001b[0m \u001b[0mdata\u001b[0m\u001b[1;33m=\u001b[0m\u001b[1;32mNone\u001b[0m\u001b[1;33m,\u001b[0m \u001b[1;33m**\u001b[0m\u001b[0mkwargs\u001b[0m\u001b[1;33m)\u001b[0m\u001b[1;33m:\u001b[0m\u001b[1;33m\u001b[0m\u001b[1;33m\u001b[0m\u001b[0m\n\u001b[0;32m   1411\u001b[0m         \u001b[1;32mif\u001b[0m \u001b[0mdata\u001b[0m \u001b[1;32mis\u001b[0m \u001b[1;32mNone\u001b[0m\u001b[1;33m:\u001b[0m\u001b[1;33m\u001b[0m\u001b[1;33m\u001b[0m\u001b[0m\n\u001b[1;32m-> 1412\u001b[1;33m             \u001b[1;32mreturn\u001b[0m \u001b[0mfunc\u001b[0m\u001b[1;33m(\u001b[0m\u001b[0max\u001b[0m\u001b[1;33m,\u001b[0m \u001b[1;33m*\u001b[0m\u001b[0mmap\u001b[0m\u001b[1;33m(\u001b[0m\u001b[0msanitize_sequence\u001b[0m\u001b[1;33m,\u001b[0m \u001b[0margs\u001b[0m\u001b[1;33m)\u001b[0m\u001b[1;33m,\u001b[0m \u001b[1;33m**\u001b[0m\u001b[0mkwargs\u001b[0m\u001b[1;33m)\u001b[0m\u001b[1;33m\u001b[0m\u001b[1;33m\u001b[0m\u001b[0m\n\u001b[0m\u001b[0;32m   1413\u001b[0m \u001b[1;33m\u001b[0m\u001b[0m\n\u001b[0;32m   1414\u001b[0m         \u001b[0mbound\u001b[0m \u001b[1;33m=\u001b[0m \u001b[0mnew_sig\u001b[0m\u001b[1;33m.\u001b[0m\u001b[0mbind\u001b[0m\u001b[1;33m(\u001b[0m\u001b[0max\u001b[0m\u001b[1;33m,\u001b[0m \u001b[1;33m*\u001b[0m\u001b[0margs\u001b[0m\u001b[1;33m,\u001b[0m \u001b[1;33m**\u001b[0m\u001b[0mkwargs\u001b[0m\u001b[1;33m)\u001b[0m\u001b[1;33m\u001b[0m\u001b[1;33m\u001b[0m\u001b[0m\n",
      "\u001b[1;32mc:\\users\\abhijat\\appdata\\local\\programs\\python\\python38\\lib\\site-packages\\matplotlib\\axes\\_axes.py\u001b[0m in \u001b[0;36mscatter\u001b[1;34m(self, x, y, s, c, marker, cmap, norm, vmin, vmax, alpha, linewidths, edgecolors, plotnonfinite, **kwargs)\u001b[0m\n\u001b[0;32m   4367\u001b[0m         \u001b[0my\u001b[0m \u001b[1;33m=\u001b[0m \u001b[0mnp\u001b[0m\u001b[1;33m.\u001b[0m\u001b[0mma\u001b[0m\u001b[1;33m.\u001b[0m\u001b[0mravel\u001b[0m\u001b[1;33m(\u001b[0m\u001b[0my\u001b[0m\u001b[1;33m)\u001b[0m\u001b[1;33m\u001b[0m\u001b[1;33m\u001b[0m\u001b[0m\n\u001b[0;32m   4368\u001b[0m         \u001b[1;32mif\u001b[0m \u001b[0mx\u001b[0m\u001b[1;33m.\u001b[0m\u001b[0msize\u001b[0m \u001b[1;33m!=\u001b[0m \u001b[0my\u001b[0m\u001b[1;33m.\u001b[0m\u001b[0msize\u001b[0m\u001b[1;33m:\u001b[0m\u001b[1;33m\u001b[0m\u001b[1;33m\u001b[0m\u001b[0m\n\u001b[1;32m-> 4369\u001b[1;33m             \u001b[1;32mraise\u001b[0m \u001b[0mValueError\u001b[0m\u001b[1;33m(\u001b[0m\u001b[1;34m\"x and y must be the same size\"\u001b[0m\u001b[1;33m)\u001b[0m\u001b[1;33m\u001b[0m\u001b[1;33m\u001b[0m\u001b[0m\n\u001b[0m\u001b[0;32m   4370\u001b[0m \u001b[1;33m\u001b[0m\u001b[0m\n\u001b[0;32m   4371\u001b[0m         \u001b[1;32mif\u001b[0m \u001b[0ms\u001b[0m \u001b[1;32mis\u001b[0m \u001b[1;32mNone\u001b[0m\u001b[1;33m:\u001b[0m\u001b[1;33m\u001b[0m\u001b[1;33m\u001b[0m\u001b[0m\n",
      "\u001b[1;31mValueError\u001b[0m: x and y must be the same size"
     ]
    }
   ],
   "source": [
    "plt.figure()\n",
    "plt.scatter(FC_df[FC_move_true].TimestampCarla, np.ones(17,))\n",
    "plt.scatter(FC_df[FC_move_true].TimestampCarla, np.ones(17,))\n",
    "plt.show()"
   ]
  },
  {
   "cell_type": "markdown",
   "id": "32f32de9-2469-46ef-a40f-1f24fe7c7fc0",
   "metadata": {
    "tags": []
   },
   "source": [
    "## OFD analysis"
   ]
  },
  {
   "cell_type": "code",
   "execution_count": 60,
   "id": "82adff87-4755-43cc-89df-b591c3992632",
   "metadata": {},
   "outputs": [],
   "source": [
    "# need a data format that stores:\n",
    "# all the data from hits and misses\n",
    "# what trial/recording file it corresponds to: recording_name -- this is also stored in the pkl name\n",
    "# "
   ]
  },
  {
   "cell_type": "code",
   "execution_count": 268,
   "id": "b2fa2cdd-dcd8-494f-bbff-82186d5679c2",
   "metadata": {
    "tags": []
   },
   "outputs": [
    {
     "name": "stdout",
     "output_type": "stream",
     "text": [
      "46/47 valid targets\n",
      "41 fixation onsets, 5 sacc, 0 noise\n"
     ]
    },
    {
     "data": {
      "text/plain": [
       "Text(0.5, 1.0, 'Hits/Misses on Gaze Eccentricity vs. OFD')"
      ]
     },
     "execution_count": 268,
     "metadata": {},
     "output_type": "execute_result"
    },
    {
     "data": {
      "application/vnd.jupyter.widget-view+json": {
       "model_id": "98ab3fd93d4a4b65b3caa3ae268e05da",
       "version_major": 2,
       "version_minor": 0
      },
      "image/png": "[encoded data removed]",
      "text/html": [
       "\n",
       "            <div style=\"display: inline-block;\">\n",
       "                <div class=\"jupyter-widgets widget-label\" style=\"text-align: center;\">\n",
       "                    Figure\n",
       "                </div>\n",
       "                <img src='data:image/png;base64,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' width=640.0/>\n",
       "            </div>\n",
       "        "
      ],
      "text/plain": [
       "Canvas(toolbar=Toolbar(toolitems=[('Home', 'Reset original view', 'home', 'home'), ('Back', 'Back to previous …"
      ]
     },
     "metadata": {},
     "output_type": "display_data"
    }
   ],
   "source": [
    "# target tuples, go back and find labels\n",
    "saccade_onsets = 0\n",
    "fixation_onsets = 0\n",
    "noise_onsets = 0\n",
    "fig, ax = plt.subplots()\n",
    "graph_tuples = []\n",
    "\n",
    "for target_tuple in hits_and_misses:\n",
    "    # for either hit or miss, go back and find the ofd\n",
    "    # check if you're in a fixation rn\n",
    "    if target_tuple[0].GazeValid_COMBINED==0: # check gaze validity \n",
    "        continue\n",
    "    target_locindf = target_tuple[0].name\n",
    "    onset_gaze_event = recdf_with_labels.loc[target_locindf].label  \n",
    "    OFD = 0\n",
    "    pitch = recdf_with_labels.loc[target_locindf].gaze2target_pitch\n",
    "           # + recdf_with_labels.loc[target_locindf].head2target_pitch\n",
    "    yaw = recdf_with_labels.loc[target_locindf].gaze2target_yaw \n",
    "           # + recdf_with_labels.loc[target_locindf].head2target_yaw\n",
    "    \n",
    "    if onset_gaze_event == 0:\n",
    "        fixation_onsets += 1\n",
    "        # go back and look at when this current fixation ends\n",
    "        # labels going back from current gaze\n",
    "        labels_upto_curr = recdf_with_labels.loc[target_locindf::-1].label \n",
    "        np.diff(labels_upto_curr)\n",
    "        labels_upto_curr = recdf_with_labels.loc[target_locindf::-1].label \n",
    "        label_diff = np.diff(labels_upto_curr)!=0\n",
    "        first_fixation_idx = target_locindf - np.argmax(label_diff)\n",
    "        OFD = recdf_with_labels.loc[target_locindf].TimeElapsed -\\\n",
    "                recdf_with_labels.loc[first_fixation_idx].TimeElapsed\n",
    "        \n",
    "        eccentricity = np.linalg.norm([recdf_with_labels.loc[target_locindf].gaze2target_pitch,\n",
    "                                      recdf_with_labels.loc[target_locindf].gaze2target_yaw])*180/np.pi\n",
    "        ax.scatter(OFD, eccentricity, c='r' if target_tuple[1] is False else 'g')\n",
    "        graph_tuples += (OFD, eccentricity, target_tuple[1] is False, pitch, yaw)\n",
    "    elif onset_gaze_event == 1:\n",
    "        saccade_onsets += 1\n",
    "        OFD = 0        \n",
    "        eccentricity = np.linalg.norm([recdf_with_labels.loc[target_locindf].gaze2target_pitch,\n",
    "                                      recdf_with_labels.loc[target_locindf].gaze2target_yaw])*180/np.pi\n",
    "        ax.scatter(OFD, eccentricity, c='r' if target_tuple[1] is False else 'g')\n",
    "        graph_tuples += (OFD, eccentricity, target_tuple[1] is False, pitch, yaw)\n",
    "    else:\n",
    "        noise_onsets += 1\n",
    "    # print(target_locindf, OFD)\n",
    "print(\"{}/{} valid targets\".format(\n",
    "        fixation_onsets+saccade_onsets+noise_onsets,\n",
    "        len(hits_and_misses)))\n",
    "print(\"{} fixation onsets, {} sacc, {} noise\".format(fixation_onsets, saccade_onsets, noise_onsets))\n",
    "\n",
    "#plt.xlim(0, )\n",
    "# ax.set_ylim(-1, 60)\n",
    "ax.set_xlabel(\"Onset Fixation Duration (seconds)\")\n",
    "ax.set_ylabel(\"Eccentricity (degrees)\")\n",
    "ax.set_title(\"Hits/Misses on Gaze Eccentricity vs. OFD\")"
   ]
  },
  {
   "cell_type": "code",
   "execution_count": 17,
   "id": "26187812-5481-4646-8d4c-e849265d0f96",
   "metadata": {},
   "outputs": [],
   "source": [
    "# temp hack for henny meeting: save graph tuples\n",
    "graph_data_filname = Path(\"temp_data\").joinpath(recording_name+\"_OFDvEcc.pkl\")\n",
    "with open(graph_data_filname, 'wb') as f:\n",
    "    pkl.dump(graph_tuples, f)"
   ]
  },
  {
   "cell_type": "markdown",
   "id": "f0205c3b-2a30-40ef-b4fb-828d48cab868",
   "metadata": {
    "jp-MarkdownHeadingCollapsed": true,
    "tags": []
   },
   "source": [
    "# Saccade amplitude analysis\n"
   ]
  },
  {
   "cell_type": "code",
   "execution_count": 80,
   "id": "fafb11cd-e3ad-4e57-92e7-d41b68d3d489",
   "metadata": {},
   "outputs": [
    {
     "name": "stdout",
     "output_type": "stream",
     "text": [
      "12/12 valid targets\n",
      "11 fixation onsets, 1 sacc, 0 noise\n"
     ]
    },
    {
     "data": {
      "text/plain": [
       "Text(0.5, 1.0, 'Hits/Misses on Gaze Eccentricity vs. OFD')"
      ]
     },
     "execution_count": 80,
     "metadata": {},
     "output_type": "execute_result"
    },
    {
     "data": {
      "application/vnd.jupyter.widget-view+json": {
       "model_id": "29f6935501b646f6af20fba290448e7a",
       "version_major": 2,
       "version_minor": 0
      },
      "image/png": "[encoded data removed]",
      "text/html": [
       "\n",
       "            <div style=\"display: inline-block;\">\n",
       "                <div class=\"jupyter-widgets widget-label\" style=\"text-align: center;\">\n",
       "                    Figure\n",
       "                </div>\n",
       "                <img src='data:image/png;base64,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' width=640.0/>\n",
       "            </div>\n",
       "        "
      ],
      "text/plain": [
       "Canvas(toolbar=Toolbar(toolitems=[('Home', 'Reset original view', 'home', 'home'), ('Back', 'Back to previous …"
      ]
     },
     "metadata": {},
     "output_type": "display_data"
    }
   ],
   "source": [
    "# target tuples, go back and find labels\n",
    "saccade_onsets = 0\n",
    "fixation_onsets = 0\n",
    "noise_onsets = 0\n",
    "fig, ax = plt.subplots()\n",
    "graph_tuples = []\n",
    "\n",
    "for target_tuple in hits_and_misses:\n",
    "    # for either hit or miss, go back and find the ofd\n",
    "    # check if you're in a fixation rn\n",
    "    if target_tuple[0].GazeValid_COMBINED==0: # check gaze validity \n",
    "        continue\n",
    "    target_locindf = target_tuple[0].name\n",
    "    onset_gaze_event = recdf_with_labels.loc[target_locindf].label  \n",
    "    OSA = 0\n",
    "    pitch = recdf_with_labels.loc[target_locindf].gaze2target_pitch\n",
    "           # + recdf_with_labels.loc[target_locindf].head2target_pitch\n",
    "    yaw = recdf_with_labels.loc[target_locindf].gaze2target_yaw \n",
    "           # + recdf_with_labels.loc[target_locindf].head2target_yaw\n",
    "    \n",
    "    if onset_gaze_event == 0:\n",
    "        fixation_onsets += 1\n",
    "        # go back and look at when this current fixation ends\n",
    "        # labels going back from current gaze\n",
    "        labels_upto_curr = recdf_with_labels.loc[target_locindf::-1].label \n",
    "        label_diff = np.diff(labels_upto_curr)!=0\n",
    "        first_fixation_idx = target_locindf - np.argmax(label_diff) # first fixation of this idx\n",
    "        \n",
    "        labels_upto_curr = recdf_with_labels.loc[target_locindf::-1].label \n",
    "        rev_fix_idcs = np.where(labels_upto_curr==0)\n",
    "        last_nonfix_offset = np.where(np.diff(rev_fix_idcs)>1)[1][0]# where is the break in the fixation\n",
    "        last_fixend_idx = rev_fix_idcs[0][last_nonfix_offset+1]\n",
    "        # onset saccade idx\n",
    "        OSA = np.linalg.norm(recdf_with_labels.loc[target_locindf].GazeDir_COMBINED - recdf_with_labels.loc[last_fixend_idx].GazeDir_COMBINED)*180/np.pi\n",
    "        \n",
    "                \n",
    "        eccentricity = np.linalg.norm([recdf_with_labels.loc[target_locindf].gaze2target_pitch,\n",
    "                                      recdf_with_labels.loc[target_locindf].gaze2target_yaw])*180/np.pi\n",
    "        ax.scatter(OSA, eccentricity, c='r' if target_tuple[1] is False else 'g')\n",
    "        graph_tuples += (OSA, eccentricity, target_tuple[1] is False, pitch, yaw)\n",
    "        \n",
    "    elif onset_gaze_event == 1:\n",
    "        saccade_onsets += 1\n",
    "        # OFD = 0        \n",
    "        # eccentricity = np.linalg.norm([recdf_with_labels.loc[target_locindf].gaze2target_pitch,\n",
    "        #                               recdf_with_labels.loc[target_locindf].gaze2target_yaw])*180/np.pi\n",
    "        # ax.scatter(OFD, eccentricity, c='r' if target_tuple[1] is False else 'g')\n",
    "        # graph_tuples += (OFD, eccentricity, target_tuple[1] is False, pitch, yaw)\n",
    "    else:\n",
    "        noise_onsets += 1\n",
    "    # print(target_locindf, OFD)\n",
    "print(\"{}/{} valid targets\".format(\n",
    "        fixation_onsets+saccade_onsets+noise_onsets,\n",
    "        len(hits_and_misses)))\n",
    "print(\"{} fixation onsets, {} sacc, {} noise\".format(fixation_onsets, saccade_onsets, noise_onsets))\n",
    "\n",
    "#plt.xlim(0, )\n",
    "ax.set_ylim(-1, 60)\n",
    "ax.set_xlabel(\"Onset Saccade Amplitude (degrees)\")\n",
    "ax.set_ylabel(\"Eccentricity (degrees)\")\n",
    "ax.set_title(\"Hits/Misses on Gaze Eccentricity vs. OFD\")"
   ]
  },
  {
   "cell_type": "markdown",
   "id": "ef243a60-4cd3-43eb-8c8c-8a6a25c957a3",
   "metadata": {
    "tags": []
   },
   "source": [
    "# OFD analysis with Eye gaze + Head compensation"
   ]
  },
  {
   "cell_type": "code",
   "execution_count": 192,
   "id": "427bb9a0-4f58-45c5-8ecd-7f4bf8c7997d",
   "metadata": {},
   "outputs": [],
   "source": [
    "df2 = og_df.copy()\n",
    "df2['Lgaze_x'] = og_df.GazeDir_LEFT.apply(lambda x: x[0])\n",
    "df2['Lgaze_y'] = og_df.GazeDir_LEFT.apply(lambda x: x[1])\n",
    "df2['Lgaze_z'] = og_df.GazeDir_LEFT.apply(lambda x: x[2])\n",
    "\n",
    "df2['Rgaze_x'] = og_df.GazeDir_RIGHT.apply(lambda x: x[0])\n",
    "df2['Rgaze_y'] = og_df.GazeDir_RIGHT.apply(lambda x: x[1])\n",
    "df2['Rgaze_z'] = og_df.GazeDir_RIGHT.apply(lambda x: x[2])\n",
    "\n",
    "df2['Cgaze_x'] = og_df.GazeDir_COMBINED.apply(lambda x: x[0])\n",
    "df2['Cgaze_y'] = og_df.GazeDir_COMBINED.apply(lambda x: x[1])\n",
    "df2['Cgaze_z'] = og_df.GazeDir_COMBINED.apply(lambda x: x[2])\n",
    "\n",
    "\n",
    "LgazeRaySplitDF = pd.DataFrame(df2[['Lgaze_x', 'Lgaze_y', 'Lgaze_z']])\n",
    "LgazeRaySplitDF.rename(columns={'Lgaze_x': 'x', 'Lgaze_y': 'y', 'Lgaze_z': 'z'}, inplace=True)\n",
    "LgazeRaySplitDF['timestamp'] = df2[\"TimeElapsed\"]\n",
    "LgazeRaySplitDF['confidence'] = df2[\"EyeOpennessValid_LEFT\"].astype(bool) # remove all gazes where an eye was closed\n",
    "\n",
    "RgazeRaySplitDF = pd.DataFrame(df2[['Rgaze_x', 'Rgaze_y', 'Rgaze_z']])\n",
    "RgazeRaySplitDF.rename(columns={'Rgaze_x': 'x', 'Rgaze_y': 'y', 'Rgaze_z': 'z'}, inplace=True)\n",
    "RgazeRaySplitDF['timestamp'] = df2[\"TimeElapsed\"]\n",
    "RgazeRaySplitDF['confidence'] = df2[\"EyeOpennessValid_RIGHT\"].astype(bool) # remove all gazes where an eye was closed"
   ]
  },
  {
   "cell_type": "code",
   "execution_count": 193,
   "id": "af4ac86a-ac2f-4f97-b3ad-ed03e7c2733a",
   "metadata": {},
   "outputs": [],
   "source": [
    "velL = EyeClassifier.preprocess(LgazeRaySplitDF, dist_method='vector')\n",
    "velL.velocity = velL.velocity.astype(float)\n",
    "velR = EyeClassifier.preprocess(RgazeRaySplitDF, dist_method='vector')\n",
    "velR.velocity = velR.velocity.astype(float)"
   ]
  },
  {
   "cell_type": "code",
   "execution_count": 148,
   "id": "d3fd3cd3-f142-4c13-b3df-b2025ee7fff1",
   "metadata": {},
   "outputs": [],
   "source": [
    "# add approx head compensation\n",
    "# gaze+head values\n",
    "gaze_pitches, gaze_yaws = GetGazeDeviationFromHead(df2.Cgaze_x, df2.Cgaze_y, df2.Cgaze_z)\n",
    "\n",
    "head_rots = df2.CameraRot.values\n",
    "head_pitches =   df2.CameraRot.apply(lambda x: x[0])\n",
    "head_yaws = df2.CameraRot.apply(lambda x: x[2])\n",
    "    \n",
    "gaze_head_pitches = gaze_pitches + head_pitches\n",
    "gaze_head_yaws = gaze_yaws + head_yaws       "
   ]
  },
  {
   "cell_type": "code",
   "execution_count": 200,
   "id": "ac25fa1e-8caf-4a15-a064-723d04b35a99",
   "metadata": {},
   "outputs": [],
   "source": [
    "# Create the new pd\n",
    "\n",
    "gazeHeadDF = pd.DataFrame(df2[['TimeElapsed']])\n",
    "gazeHeadDF = gazeHeadDF.rename(columns={'TimeElapsed':'timestamp'})\n",
    "gazeHeadDF['confidence'] = (df2.EyeOpennessValid_LEFT*df2.EyeOpennessValid_RIGHT).astype(bool)\n",
    "gazeHeadDF['x'] = gaze_head_pitches\n",
    "gazeHeadDF['y'] = gaze_head_yaws\n",
    "gazeHeadDF['z'] = np.zeros(len(gaze_head_pitches))"
   ]
  },
  {
   "cell_type": "code",
   "execution_count": 212,
   "id": "cf7bc620-ea39-49c2-b63d-0d77e2ca9b6b",
   "metadata": {
    "tags": []
   },
   "outputs": [
    {
     "name": "stdout",
     "output_type": "stream",
     "text": [
      "Velocity Means:  [[  6.05573297]\n",
      " [106.9746424 ]]\n"
     ]
    }
   ],
   "source": [
    "vel_w = EyeClassifier.preprocess(gazeHeadDF, dist_method='euclidean')\n",
    "model = EyeClassifier()\n",
    "model.fit(world=vel_w)\n",
    "\n",
    "# raw_vel = vel_w[np.logical_not(vel_w.velocity.isna())].velocity.values\n",
    "# raw_vel[raw_vel > raw_vel.mean() + 3 * raw_vel.std()]\n",
    "# print(\"Velocity Means: \",model.world_model.means_)"
   ]
  },
  {
   "cell_type": "code",
   "execution_count": 213,
   "id": "a453999b-a33d-4b1a-b98c-5a9d0c290bab",
   "metadata": {},
   "outputs": [
    {
     "name": "stdout",
     "output_type": "stream",
     "text": [
      "labels_npw.shape:  (2563, 5)\n"
     ]
    }
   ],
   "source": [
    "labelsw, indiv_labelsw = model.predict(world=vel_w)\n",
    "# print(labels)\n",
    "# 0- fix, 1- sac, -1 -> noise\n",
    "labels_uniquew = labelsw[1::2]\n",
    "labels_uniquew.index = np.arange(1, len(labels_uniquew) + 1) # start index from 1 instead of 0\n",
    "labels_npw = labels_uniquew.to_numpy()\n",
    "print(\"labels_npw.shape: \", labels_npw.shape)\n",
    "# add the labels to the original df:\n",
    "recdf_with_labelsw = df2.join(labels_uniquew[\"label\"])"
   ]
  },
  {
   "cell_type": "code",
   "execution_count": 214,
   "id": "64cf177a-225c-4390-af8f-dc0bf90ebcad",
   "metadata": {},
   "outputs": [
    {
     "name": "stdout",
     "output_type": "stream",
     "text": [
      "Num fixation total pts:  2041\n",
      "Num saccades total pts:  503\n",
      "Num noise total pts:  19\n",
      "\n",
      "Num fixations:  268\n",
      "Num saccades:  270\n",
      "Num noise:  10\n",
      "Num LightOns:  12\n"
     ]
    }
   ],
   "source": [
    "print(\"Num fixation total pts: \", np.sum(labels_npw[:,2]))\n",
    "print(\"Num saccades total pts: \", np.sum(labels_npw[:,3]))\n",
    "print(\"Num noise total pts: \", np.sum(labels_npw[:,4]))\n",
    "print()\n",
    "# filter the consecutives\n",
    "print(\"Num fixations: \", np.sum(np.diff(labels_npw[:, 2]) == 1))\n",
    "print(\"Num saccades: \", np.sum(np.diff(labels_npw[:, 3]) == 1))\n",
    "print(\"Num noise: \", np.sum(np.diff(labels_npw[:, 4]) == 1))\n",
    "print(\"Num LightOns: \", num_targets_spawned)"
   ]
  },
  {
   "cell_type": "code",
   "execution_count": null,
   "id": "42edf54a-7d46-4b6d-a9ab-ea16967bccc0",
   "metadata": {},
   "outputs": [],
   "source": []
  }
 ],
 "metadata": {
  "kernelspec": {
   "display_name": "Python 3 (ipykernel)",
   "language": "python",
   "name": "python3"
  },
  "language_info": {
   "codemirror_mode": {
    "name": "ipython",
    "version": 3
   },
   "file_extension": ".py",
   "mimetype": "text/x-python",
   "name": "python",
   "nbconvert_exporter": "python",
   "pygments_lexer": "ipython3",
   "version": "3.9.7"
  }
 },
 "nbformat": 4,
 "nbformat_minor": 5
}
