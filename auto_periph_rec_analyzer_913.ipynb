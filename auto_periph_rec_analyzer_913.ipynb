{
 "cells": [
  {
   "cell_type": "code",
   "execution_count": 1,
   "id": "3794cc2a-5c11-416c-bdc9-b0bf4502f089",
   "metadata": {},
   "outputs": [],
   "source": [
    "from ibmm import EyeClassifier\n",
    "# from ibmm_online import EyeClassifierOnline\n",
    "import pandas as pd\n",
    "import numpy as np\n",
    "import re\n",
    "import matplotlib.pyplot as plt\n",
    "from matplotlib import cm\n",
    "\n",
    "from parser_utils import read_periph_recording, parse_new_dreyevr_rec, GetGazeDeviationFromHead\n",
    "from pathlib import Path\n",
    "from tqdm import tqdm\n",
    "import pickle as pkl"
   ]
  },
  {
   "cell_type": "code",
   "execution_count": 2,
   "id": "022acadb-3082-415a-890e-118c6eca0cdb",
   "metadata": {},
   "outputs": [],
   "source": [
    "%matplotlib ipympl\n",
    "%load_ext autoreload\n",
    "%autoreload 2"
   ]
  },
  {
   "cell_type": "code",
   "execution_count": 3,
   "id": "1cfa789f-6a22-4d55-8896-a875242880e5",
   "metadata": {
    "tags": []
   },
   "outputs": [],
   "source": [
    "from ibmm import EyeClassifier\n",
    "from ibmm_online import EyeClassifierOnline"
   ]
  },
  {
   "cell_type": "code",
   "execution_count": 19,
   "id": "2be9b012-f6e3-47f9-be77-a0374f193ea0",
   "metadata": {},
   "outputs": [],
   "source": [
    "# TODO if there are misses at the very beginning of some recording files, we should get rid of them \n",
    "# e.g. esther11/"
   ]
  },
  {
   "cell_type": "code",
   "execution_count": 20,
   "id": "44849135-c5a9-46d3-8c32-cdcf3b05e058",
   "metadata": {},
   "outputs": [],
   "source": [
    "# hits_and_misses_test = hits_and_misses.copy()\n",
    "# mctr=0\n",
    "# while hits_and_misses_test[0][1] is False:\n",
    "#     mctr += 1\n",
    "#     hits_and_misses_test = hits_and_misses_test[1:]\n",
    "#     print(mctr)\n",
    "# print(len(hits_and_misses), len(hits_and_misses_test))"
   ]
  },
  {
   "cell_type": "code",
   "execution_count": 4,
   "id": "bc4e5496-e127-4dc7-a99c-050a42d74719",
   "metadata": {},
   "outputs": [],
   "source": [
    "from glob import glob\n",
    "recfile_dir = \"C://carla//carla.periph//RecordingTxts//*//*.txt\"\n",
    "\n",
    "total_leading_misses_removed = 0\n",
    "\n",
    "for path_to_recording in glob(recfile_dir):\n",
    "    print(path_to_recording)"
   ]
  },
  {
   "cell_type": "code",
   "execution_count": 21,
   "id": "952798ee-31ee-4e69-bb6d-01b102aef521",
   "metadata": {},
   "outputs": [],
   "source": [
    "bRemoveLeadingMisses = True\n",
    "gazeORgazeHead = \"gazeHead\""
   ]
  },
  {
   "cell_type": "code",
   "execution_count": 23,
   "id": "28314e83-658a-4586-bc64-afa258ca520c",
   "metadata": {
    "tags": []
   },
   "outputs": [
    {
     "name": "stdout",
     "output_type": "stream",
     "text": [
      "====================================\n",
      "C://carla//carla.periph//RecordingTxts\\abhijat\\aj-32.txt\n",
      "====================================\n"
     ]
    },
    {
     "name": "stderr",
     "output_type": "stream",
     "text": [
      "100%|█| 6375/6375 [00\n",
      "15it [00:00, 34.68it/s]\n"
     ]
    },
    {
     "name": "stdout",
     "output_type": "stream",
     "text": [
      "13/15 hits with a 0.9949769230769232s average reaction time\n",
      "15/15 valid targets\n",
      "11 fixation onsets, 4 sacc, 0 noise\n",
      "done writing  temp_data\\gazeHead\\no_leading_misses\\OFD\\aj-32_OFDvEcc.pkl\n",
      "====================================\n",
      "C://carla//carla.periph//RecordingTxts\\abhijat\\aj-54.txt\n",
      "====================================\n"
     ]
    },
    {
     "name": "stderr",
     "output_type": "stream",
     "text": [
      "100%|█| 7425/7425 [00\n",
      "16it [00:00, 23.78it/s]\n"
     ]
    },
    {
     "name": "stdout",
     "output_type": "stream",
     "text": [
      "12/16 hits with a 0.9556891666666668s average reaction time\n",
      "16/16 valid targets\n",
      "12 fixation onsets, 4 sacc, 0 noise\n",
      "done writing  temp_data\\gazeHead\\no_leading_misses\\OFD\\aj-54_OFDvEcc.pkl\n",
      "====================================\n",
      "C://carla//carla.periph//RecordingTxts\\abhijat\\aj-55.txt\n",
      "====================================\n"
     ]
    },
    {
     "name": "stderr",
     "output_type": "stream",
     "text": [
      "100%|█| 5027/5027 [00\n",
      "11it [00:00, 26.07it/s]\n"
     ]
    },
    {
     "name": "stdout",
     "output_type": "stream",
     "text": [
      "6/11 hits with a 1.7782833333333354s average reaction time\n",
      "11/11 valid targets\n",
      "9 fixation onsets, 2 sacc, 0 noise\n",
      "done writing  temp_data\\gazeHead\\no_leading_misses\\OFD\\aj-55_OFDvEcc.pkl\n",
      "====================================\n",
      "C://carla//carla.periph//RecordingTxts\\brady\\brady11.txt\n",
      "====================================\n"
     ]
    },
    {
     "name": "stderr",
     "output_type": "stream",
     "text": [
      "100%|█| 10321/10321 [00\n",
      "24it [00:01, 20.54it/s]\n"
     ]
    },
    {
     "name": "stdout",
     "output_type": "stream",
     "text": [
      "19/24 hits with a 0.8250736842105286s average reaction time\n",
      "23/23 valid targets\n",
      "16 fixation onsets, 7 sacc, 0 noise\n",
      "done writing  temp_data\\gazeHead\\no_leading_misses\\OFD\\brady11_OFDvEcc.pkl\n",
      "====================================\n",
      "C://carla//carla.periph//RecordingTxts\\brady\\brady21.txt\n",
      "====================================\n"
     ]
    },
    {
     "name": "stderr",
     "output_type": "stream",
     "text": [
      "100%|█| 9950/9950 [00\n",
      "22it [00:02,  8.56it/s]\n"
     ]
    },
    {
     "name": "stdout",
     "output_type": "stream",
     "text": [
      "6/22 hits with a 1.3140500000000015s average reaction time\n",
      "22/22 valid targets\n",
      "18 fixation onsets, 4 sacc, 0 noise\n",
      "done writing  temp_data\\gazeHead\\no_leading_misses\\OFD\\brady21_OFDvEcc.pkl\n",
      "====================================\n",
      "C://carla//carla.periph//RecordingTxts\\brady\\brady32.txt\n",
      "====================================\n"
     ]
    },
    {
     "name": "stderr",
     "output_type": "stream",
     "text": [
      "100%|█| 9156/9156 [00\n",
      "18it [00:00, 22.91it/s]\n"
     ]
    },
    {
     "name": "stdout",
     "output_type": "stream",
     "text": [
      "15/18 hits with a 0.9253146666666681s average reaction time\n",
      "18/18 valid targets\n",
      "14 fixation onsets, 4 sacc, 0 noise\n",
      "done writing  temp_data\\gazeHead\\no_leading_misses\\OFD\\brady32_OFDvEcc.pkl\n",
      "====================================\n",
      "C://carla//carla.periph//RecordingTxts\\brady\\brady54.txt\n",
      "====================================\n"
     ]
    },
    {
     "name": "stderr",
     "output_type": "stream",
     "text": [
      "100%|█| 8812/8812 [00\n",
      "20it [00:00, 21.57it/s]\n"
     ]
    },
    {
     "name": "stdout",
     "output_type": "stream",
     "text": [
      "15/20 hits with a 0.8776973333333355s average reaction time\n",
      "18/19 valid targets\n",
      "13 fixation onsets, 4 sacc, 1 noise\n",
      "done writing  temp_data\\gazeHead\\no_leading_misses\\OFD\\brady54_OFDvEcc.pkl\n",
      "====================================\n",
      "C://carla//carla.periph//RecordingTxts\\brady\\brady55.txt\n",
      "====================================\n"
     ]
    },
    {
     "name": "stderr",
     "output_type": "stream",
     "text": [
      "100%|█| 5068/5068 [00\n",
      "11it [00:00, 51.06it/s]\n"
     ]
    },
    {
     "name": "stdout",
     "output_type": "stream",
     "text": [
      "10/11 hits with a 0.9388799999999982s average reaction time\n",
      "10/11 valid targets\n",
      "9 fixation onsets, 1 sacc, 0 noise\n",
      "done writing  temp_data\\gazeHead\\no_leading_misses\\OFD\\brady55_OFDvEcc.pkl\n",
      "====================================\n",
      "C://carla//carla.periph//RecordingTxts\\dexter\\dexter11.txt\n",
      "====================================\n"
     ]
    },
    {
     "name": "stderr",
     "output_type": "stream",
     "text": [
      "100%|█| 8325/8325 [00\n",
      "19it [00:01, 17.62it/s]\n"
     ]
    },
    {
     "name": "stdout",
     "output_type": "stream",
     "text": [
      "12/19 hits with a 0.7183116666666617s average reaction time\n",
      "17/19 valid targets\n",
      "14 fixation onsets, 3 sacc, 0 noise\n",
      "done writing  temp_data\\gazeHead\\no_leading_misses\\OFD\\dexter11_OFDvEcc.pkl\n",
      "====================================\n",
      "C://carla//carla.periph//RecordingTxts\\dexter\\dexter21.txt\n",
      "====================================\n"
     ]
    },
    {
     "name": "stderr",
     "output_type": "stream",
     "text": [
      "100%|█| 6437/6437 [00\n",
      "15it [00:00, 24.83it/s]\n"
     ]
    },
    {
     "name": "stdout",
     "output_type": "stream",
     "text": [
      "9/15 hits with a 0.5579000000000024s average reaction time\n",
      "14/14 valid targets\n",
      "12 fixation onsets, 1 sacc, 1 noise\n",
      "done writing  temp_data\\gazeHead\\no_leading_misses\\OFD\\dexter21_OFDvEcc.pkl\n",
      "====================================\n",
      "C://carla//carla.periph//RecordingTxts\\dexter\\dexter32.txt\n",
      "====================================\n"
     ]
    },
    {
     "name": "stderr",
     "output_type": "stream",
     "text": [
      "100%|█| 9105/9105 [00\n",
      "20it [00:00, 22.88it/s]\n"
     ]
    },
    {
     "name": "stdout",
     "output_type": "stream",
     "text": [
      "15/20 hits with a 0.8377133333333364s average reaction time\n",
      "20/20 valid targets\n",
      "15 fixation onsets, 4 sacc, 1 noise\n",
      "done writing  temp_data\\gazeHead\\no_leading_misses\\OFD\\dexter32_OFDvEcc.pkl\n",
      "====================================\n",
      "C://carla//carla.periph//RecordingTxts\\dexter\\dexter54.txt\n",
      "====================================\n"
     ]
    },
    {
     "name": "stderr",
     "output_type": "stream",
     "text": [
      "100%|█| 8909/8909 [00\n",
      "20it [00:01, 17.01it/s]\n"
     ]
    },
    {
     "name": "stdout",
     "output_type": "stream",
     "text": [
      "13/20 hits with a 0.8443153846153854s average reaction time\n",
      "17/18 valid targets\n",
      "16 fixation onsets, 0 sacc, 1 noise\n",
      "done writing  temp_data\\gazeHead\\no_leading_misses\\OFD\\dexter54_OFDvEcc.pkl\n",
      "====================================\n",
      "C://carla//carla.periph//RecordingTxts\\dexter\\dexter55.txt\n",
      "====================================\n"
     ]
    },
    {
     "name": "stderr",
     "output_type": "stream",
     "text": [
      "100%|█| 5593/5593 [00\n",
      "12it [00:00, 43.29it/s]\n"
     ]
    },
    {
     "name": "stdout",
     "output_type": "stream",
     "text": [
      "10/12 hits with a 0.6724300000000005s average reaction time\n",
      "11/12 valid targets\n",
      "9 fixation onsets, 2 sacc, 0 noise\n",
      "done writing  temp_data\\gazeHead\\no_leading_misses\\OFD\\dexter55_OFDvEcc.pkl\n",
      "====================================\n",
      "C://carla//carla.periph//RecordingTxts\\esther\\esther11.txt\n",
      "====================================\n"
     ]
    },
    {
     "name": "stderr",
     "output_type": "stream",
     "text": [
      "100%|█| 8391/8391 [00\n",
      "19it [00:01, 17.37it/s]\n"
     ]
    },
    {
     "name": "stdout",
     "output_type": "stream",
     "text": [
      "12/19 hits with a 0.9670666666666659s average reaction time\n",
      "17/17 valid targets\n",
      "15 fixation onsets, 2 sacc, 0 noise\n",
      "done writing  temp_data\\gazeHead\\no_leading_misses\\OFD\\esther11_OFDvEcc.pkl\n",
      "====================================\n",
      "C://carla//carla.periph//RecordingTxts\\esther\\esther21.txt\n",
      "====================================\n"
     ]
    },
    {
     "name": "stderr",
     "output_type": "stream",
     "text": [
      "100%|█| 6790/6790 [00\n",
      "15it [00:00, 15.79it/s]\n"
     ]
    },
    {
     "name": "stdout",
     "output_type": "stream",
     "text": [
      "8/15 hits with a 1.5572250000000043s average reaction time\n",
      "9/9 valid targets\n",
      "7 fixation onsets, 2 sacc, 0 noise\n",
      "done writing  temp_data\\gazeHead\\no_leading_misses\\OFD\\esther21_OFDvEcc.pkl\n",
      "====================================\n",
      "C://carla//carla.periph//RecordingTxts\\esther\\esther32.txt\n",
      "====================================\n"
     ]
    },
    {
     "name": "stderr",
     "output_type": "stream",
     "text": [
      "100%|█| 9482/9482 [00\n",
      "22it [00:01, 11.08it/s]\n"
     ]
    },
    {
     "name": "stdout",
     "output_type": "stream",
     "text": [
      "10/22 hits with a 1.297540000000002s average reaction time\n",
      "19/20 valid targets\n",
      "10 fixation onsets, 9 sacc, 0 noise\n",
      "done writing  temp_data\\gazeHead\\no_leading_misses\\OFD\\esther32_OFDvEcc.pkl\n",
      "====================================\n",
      "C://carla//carla.periph//RecordingTxts\\esther\\esther54.txt\n",
      "====================================\n"
     ]
    },
    {
     "name": "stderr",
     "output_type": "stream",
     "text": [
      "100%|█| 9178/9178 [00\n",
      "20it [00:01, 12.56it/s]\n"
     ]
    },
    {
     "name": "stdout",
     "output_type": "stream",
     "text": [
      "10/20 hits with a 0.9465800000000009s average reaction time\n",
      "18/18 valid targets\n",
      "15 fixation onsets, 3 sacc, 0 noise\n",
      "done writing  temp_data\\gazeHead\\no_leading_misses\\OFD\\esther54_OFDvEcc.pkl\n",
      "====================================\n",
      "C://carla//carla.periph//RecordingTxts\\esther\\esther55.txt\n",
      "====================================\n"
     ]
    },
    {
     "name": "stderr",
     "output_type": "stream",
     "text": [
      "100%|█| 7840/7840 [00\n",
      "19it [00:01, 17.58it/s]\n"
     ]
    },
    {
     "name": "stdout",
     "output_type": "stream",
     "text": [
      "10/19 hits with a 0.789119999999994s average reaction time\n",
      "14/14 valid targets\n",
      "13 fixation onsets, 1 sacc, 0 noise\n",
      "done writing  temp_data\\gazeHead\\no_leading_misses\\OFD\\esther55_OFDvEcc.pkl\n",
      "====================================\n",
      "C://carla//carla.periph//RecordingTxts\\george\\george-11.txt\n",
      "====================================\n"
     ]
    },
    {
     "name": "stderr",
     "output_type": "stream",
     "text": [
      "100%|█| 10857/10857 [00:\n"
     ]
    },
    {
     "name": "stdout",
     "output_type": "stream",
     "text": [
      "====================================\n",
      "C://carla//carla.periph//RecordingTxts\\george\\george-32.txt\n",
      "====================================\n"
     ]
    },
    {
     "name": "stderr",
     "output_type": "stream",
     "text": [
      "100%|█| 6579/6579 [00\n",
      "14it [00:00, 118.96it/s]\n"
     ]
    },
    {
     "name": "stdout",
     "output_type": "stream",
     "text": [
      "13/14 hits with a 0.06142307692307684s average reaction time\n",
      "13/13 valid targets\n",
      "9 fixation onsets, 4 sacc, 0 noise\n",
      "done writing  temp_data\\gazeHead\\no_leading_misses\\OFD\\george-32_OFDvEcc.pkl\n",
      "====================================\n",
      "C://carla//carla.periph//RecordingTxts\\george\\george-54.txt\n",
      "====================================\n"
     ]
    },
    {
     "name": "stderr",
     "output_type": "stream",
     "text": [
      "100%|█| 9021/9021 [00\n",
      "19it [00:00, 119.07it/s]\n"
     ]
    },
    {
     "name": "stdout",
     "output_type": "stream",
     "text": [
      "18/19 hits with a 0.046894444444444496s average reaction time\n",
      "17/18 valid targets\n",
      "10 fixation onsets, 5 sacc, 2 noise\n",
      "done writing  temp_data\\gazeHead\\no_leading_misses\\OFD\\george-54_OFDvEcc.pkl\n",
      "====================================\n",
      "C://carla//carla.periph//RecordingTxts\\george\\george-55.txt\n",
      "====================================\n"
     ]
    },
    {
     "name": "stderr",
     "output_type": "stream",
     "text": [
      "100%|█| 4595/4595 [00\n",
      "13it [00:00, 173.80it/s]\n"
     ]
    },
    {
     "name": "stdout",
     "output_type": "stream",
     "text": [
      "12/13 hits with a 0.041549999999999976s average reaction time\n",
      "11/12 valid targets\n",
      "10 fixation onsets, 1 sacc, 0 noise\n",
      "done writing  temp_data\\gazeHead\\no_leading_misses\\OFD\\george-55_OFDvEcc.pkl\n",
      "====================================\n",
      "C://carla//carla.periph//RecordingTxts\\jacob\\jacob21.txt\n",
      "====================================\n"
     ]
    },
    {
     "name": "stderr",
     "output_type": "stream",
     "text": [
      "100%|█| 6650/6650 [00\n",
      "15it [00:00, 42.37it/s]\n"
     ]
    },
    {
     "name": "stdout",
     "output_type": "stream",
     "text": [
      "14/15 hits with a 0.8998435714285702s average reaction time\n",
      "14/15 valid targets\n",
      "12 fixation onsets, 2 sacc, 0 noise\n",
      "done writing  temp_data\\gazeHead\\no_leading_misses\\OFD\\jacob21_OFDvEcc.pkl\n",
      "====================================\n",
      "C://carla//carla.periph//RecordingTxts\\jacob\\jacob54.txt\n",
      "====================================\n"
     ]
    },
    {
     "name": "stderr",
     "output_type": "stream",
     "text": [
      "100%|█| 9087/9087 [00\n",
      "21it [00:00, 21.81it/s]\n"
     ]
    },
    {
     "name": "stdout",
     "output_type": "stream",
     "text": [
      "16/21 hits with a 0.8024750000000017s average reaction time\n",
      "20/20 valid targets\n",
      "16 fixation onsets, 4 sacc, 0 noise\n",
      "done writing  temp_data\\gazeHead\\no_leading_misses\\OFD\\jacob54_OFDvEcc.pkl\n",
      "====================================\n",
      "C://carla//carla.periph//RecordingTxts\\jacob\\jacob55.txt\n",
      "====================================\n"
     ]
    },
    {
     "name": "stderr",
     "output_type": "stream",
     "text": [
      "100%|█| 5127/5127 [00\n",
      "12it [00:00, 32.64it/s]\n"
     ]
    },
    {
     "name": "stdout",
     "output_type": "stream",
     "text": [
      "8/12 hits with a 0.6196749999999966s average reaction time\n",
      "12/12 valid targets\n",
      "9 fixation onsets, 3 sacc, 0 noise\n",
      "done writing  temp_data\\gazeHead\\no_leading_misses\\OFD\\jacob55_OFDvEcc.pkl\n",
      "====================================\n",
      "C://carla//carla.periph//RecordingTxts\\tab\\tab11.txt\n",
      "====================================\n"
     ]
    },
    {
     "name": "stderr",
     "output_type": "stream",
     "text": [
      "100%|█| 10251/10251 [00\n",
      "23it [00:00, 24.66it/s]\n"
     ]
    },
    {
     "name": "stdout",
     "output_type": "stream",
     "text": [
      "20/23 hits with a 0.8044999999999994s average reaction time\n",
      "22/22 valid targets\n",
      "20 fixation onsets, 2 sacc, 0 noise\n",
      "done writing  temp_data\\gazeHead\\no_leading_misses\\OFD\\tab11_OFDvEcc.pkl\n",
      "====================================\n",
      "C://carla//carla.periph//RecordingTxts\\tab\\tab21.txt\n",
      "====================================\n"
     ]
    },
    {
     "name": "stderr",
     "output_type": "stream",
     "text": [
      "100%|█| 6868/6868 [00\n",
      "16it [00:00, 30.10it/s]\n"
     ]
    },
    {
     "name": "stdout",
     "output_type": "stream",
     "text": [
      "12/16 hits with a 0.90173333333333s average reaction time\n",
      "15/15 valid targets\n",
      "11 fixation onsets, 4 sacc, 0 noise\n",
      "done writing  temp_data\\gazeHead\\no_leading_misses\\OFD\\tab21_OFDvEcc.pkl\n",
      "====================================\n",
      "C://carla//carla.periph//RecordingTxts\\tab\\tab32.txt\n",
      "====================================\n"
     ]
    },
    {
     "name": "stderr",
     "output_type": "stream",
     "text": [
      "100%|█| 9463/9463 [00\n",
      "20it [00:00, 25.16it/s]\n"
     ]
    },
    {
     "name": "stdout",
     "output_type": "stream",
     "text": [
      "18/20 hits with a 1.0274855555555575s average reaction time\n",
      "19/20 valid targets\n",
      "14 fixation onsets, 5 sacc, 0 noise\n",
      "done writing  temp_data\\gazeHead\\no_leading_misses\\OFD\\tab32_OFDvEcc.pkl\n",
      "====================================\n",
      "C://carla//carla.periph//RecordingTxts\\tab\\tab54.txt\n",
      "====================================\n"
     ]
    },
    {
     "name": "stderr",
     "output_type": "stream",
     "text": [
      "100%|█| 8928/8928 [00\n",
      "20it [00:00, 32.58it/s]\n"
     ]
    },
    {
     "name": "stdout",
     "output_type": "stream",
     "text": [
      "17/20 hits with a 0.788005882352941s average reaction time\n",
      "19/19 valid targets\n",
      "14 fixation onsets, 5 sacc, 0 noise\n",
      "done writing  temp_data\\gazeHead\\no_leading_misses\\OFD\\tab54_OFDvEcc.pkl\n",
      "====================================\n",
      "C://carla//carla.periph//RecordingTxts\\tab\\tab55.txt\n",
      "====================================\n"
     ]
    },
    {
     "name": "stderr",
     "output_type": "stream",
     "text": [
      "100%|█| 5299/5299 [00\n",
      "12it [00:00, 37.14it/s]\n"
     ]
    },
    {
     "name": "stdout",
     "output_type": "stream",
     "text": [
      "9/12 hits with a 0.6859911111111104s average reaction time\n",
      "12/12 valid targets\n",
      "10 fixation onsets, 2 sacc, 0 noise\n",
      "done writing  temp_data\\gazeHead\\no_leading_misses\\OFD\\tab55_OFDvEcc.pkl\n",
      "====================================\n",
      "C://carla//carla.periph//RecordingTxts\\tanmay\\tanmay21.txt\n",
      "====================================\n"
     ]
    },
    {
     "name": "stderr",
     "output_type": "stream",
     "text": [
      "100%|█| 4762/4762 [00\n",
      "10it [00:00, 28.65it/s]\n"
     ]
    },
    {
     "name": "stdout",
     "output_type": "stream",
     "text": [
      "5/10 hits with a 0.8483400000000003s average reaction time\n",
      "8/8 valid targets\n",
      "4 fixation onsets, 4 sacc, 0 noise\n",
      "done writing  temp_data\\gazeHead\\no_leading_misses\\OFD\\tanmay21_OFDvEcc.pkl\n",
      "====================================\n",
      "C://carla//carla.periph//RecordingTxts\\tanmay\\tanmay32.txt\n",
      "====================================\n"
     ]
    },
    {
     "name": "stderr",
     "output_type": "stream",
     "text": [
      "100%|█| 9171/9171 [00\n",
      "21it [00:00, 36.45it/s]\n"
     ]
    },
    {
     "name": "stdout",
     "output_type": "stream",
     "text": [
      "19/21 hits with a 0.5754826315789492s average reaction time\n",
      "21/21 valid targets\n",
      "15 fixation onsets, 6 sacc, 0 noise\n",
      "done writing  temp_data\\gazeHead\\no_leading_misses\\OFD\\tanmay32_OFDvEcc.pkl\n",
      "====================================\n",
      "C://carla//carla.periph//RecordingTxts\\tanmay\\tanmay54.txt\n",
      "====================================\n"
     ]
    },
    {
     "name": "stderr",
     "output_type": "stream",
     "text": [
      "100%|█| 8965/8965 [00\n",
      "19it [00:00, 34.57it/s]\n"
     ]
    },
    {
     "name": "stdout",
     "output_type": "stream",
     "text": [
      "17/19 hits with a 0.6772705882352933s average reaction time\n",
      "18/18 valid targets\n",
      "13 fixation onsets, 5 sacc, 0 noise\n",
      "done writing  temp_data\\gazeHead\\no_leading_misses\\OFD\\tanmay54_OFDvEcc.pkl\n",
      "====================================\n",
      "C://carla//carla.periph//RecordingTxts\\tanmay\\tanmay55.txt\n",
      "====================================\n"
     ]
    },
    {
     "name": "stderr",
     "output_type": "stream",
     "text": [
      "100%|█| 4802/4802 [00\n",
      "11it [00:00, 78.07it/s]\n"
     ]
    },
    {
     "name": "stdout",
     "output_type": "stream",
     "text": [
      "10/11 hits with a 0.5969100000000014s average reaction time\n",
      "10/10 valid targets\n",
      "10 fixation onsets, 0 sacc, 0 noise\n",
      "done writing  temp_data\\gazeHead\\no_leading_misses\\OFD\\tanmay55_OFDvEcc.pkl\n"
     ]
    }
   ],
   "source": [
    "from glob import glob\n",
    "recfile_dir = \"C://carla//carla.periph//RecordingTxts//*//*.txt\"\n",
    "\n",
    "total_leading_misses_removed = 0\n",
    "\n",
    "for path_to_recording in glob(recfile_dir):\n",
    "    try:\n",
    "        print(\"====================================\")\n",
    "        print(path_to_recording)\n",
    "        print(\"====================================\")\n",
    "        recording_name = Path(path_to_recording).stem\n",
    "        recdf_pklname = Path(\"temp_data\").joinpath(recording_name+\".pkl\")\n",
    "        if bRemoveLeadingMisses:\n",
    "            graph_data_filename = Path(\"temp_data/\"+gazeORgazeHead+\"/no_leading_misses/OFD\").joinpath(recording_name+\"_OFDvEcc.pkl\")\n",
    "        else:\n",
    "            graph_data_filename = Path(\"temp_data/\"+gazeORgazeHead+\"/all_leading_misses/OFD\").joinpath(recording_name+\"_OFDvEcc.pkl\")\n",
    "        if Path(graph_data_filename).exists():\n",
    "            print(\"already parsed\")\n",
    "            continue\n",
    "\n",
    "        df = parse_new_dreyevr_rec(path_to_recording, False)\n",
    "        df1 = df.copy()\n",
    "        # find the indices where lights came on and went off\n",
    "        lighton_rows = df1[\"LightOn\"].diff().fillna(0)==1\n",
    "        lightoff_rows = df1[\"LightOn\"].diff().fillna(0)==-1\n",
    "        df1[lighton_rows].head()\n",
    "        lighton_idcs = df1[lighton_rows].index\n",
    "        num_targets_spawned = sum(lighton_rows)\n",
    "        # find the indices where the button was pressed\n",
    "        buttonPress_rows = df1[\"ButtonPressed\"].diff().fillna(0)==1\n",
    "        buttonRelease_rows = df1[\"ButtonPressed\"].diff().fillna(0)==-1\n",
    "        num_button_presses = sum(buttonPress_rows)\n",
    "        # print(\"{} targets spawned\".format(num_targets_spawned))\n",
    "        # print(\"{} responses recorded\".format(num_button_presses)) # may or may not be all accurate responses that correspond to targets?\n",
    "        # for every light appearance\n",
    "        # find the nearest button press, before the next target appearance\n",
    "        max_reaction_time_allowed = 2 #seconds\n",
    "        time_offsets = []\n",
    "        hits_and_misses = []\n",
    "        for idx_num, lighton_idx in tqdm(enumerate(lighton_idcs)):\n",
    "            # while not found_buttonpress or lighton_idcs[idx_num+1]:\n",
    "            offset = 0\n",
    "            target_tuple = (df1.loc[lighton_idx], False)\n",
    "            while lighton_idx+offset < max(df1.index):\n",
    "                time_offset = df1.loc[lighton_idx+offset, \"TimeElapsed\"] - df1.loc[lighton_idx, \"TimeElapsed\"]   \n",
    "                if (df1.loc[lighton_idx+offset, \"ButtonPressed\"] == 1):\n",
    "                    # print(\"{0:1.2f}s\".format(time_offset))\n",
    "                    time_offsets += [time_offset]\n",
    "                    target_tuple = (df1.loc[lighton_idx], df1.loc[lighton_idx+offset])\n",
    "                    break\n",
    "                else:\n",
    "                    if time_offset > max_reaction_time_allowed:\n",
    "                        break\n",
    "                    offset += 1\n",
    "            hits_and_misses += [target_tuple]\n",
    "\n",
    "        print(\"{}/{} hits with a {}s average reaction time\".format(len(time_offsets), len(lighton_idcs), sum(time_offsets)/len(time_offsets)))\n",
    "        \n",
    "        # remove all leading misses (participant still starting to move in the simulator)\n",
    "        while hits_and_misses[0][1] is False and bRemoveLeadingMisses:\n",
    "            total_leading_misses_removed += 1\n",
    "            hits_and_misses = hits_and_misses[1:]\n",
    "        \n",
    "        try: # do gaze classification\n",
    "            df2 = df1.copy()\n",
    "            if gazeORgazeHead == \"gaze\":\n",
    "                df2['Lgaze_x'] = df1.GazeDir_LEFT.apply(lambda x: x[0])\n",
    "                df2['Lgaze_y'] = df1.GazeDir_LEFT.apply(lambda x: x[1])\n",
    "                df2['Lgaze_z'] = df1.GazeDir_LEFT.apply(lambda x: x[2])\n",
    "\n",
    "                df2['Rgaze_x'] = df1.GazeDir_RIGHT.apply(lambda x: x[0])\n",
    "                df2['Rgaze_y'] = df1.GazeDir_RIGHT.apply(lambda x: x[1])\n",
    "                df2['Rgaze_z'] = df1.GazeDir_RIGHT.apply(lambda x: x[2])\n",
    "\n",
    "\n",
    "                LgazeRaySplitDF = pd.DataFrame(df2[['Lgaze_x', 'Lgaze_y', 'Lgaze_z']])\n",
    "                LgazeRaySplitDF.rename(columns={'Lgaze_x': 'x', 'Lgaze_y': 'y', 'Lgaze_z': 'z'}, inplace=True)\n",
    "                LgazeRaySplitDF['timestamp'] = df2[\"TimeElapsed\"]\n",
    "                LgazeRaySplitDF['confidence'] = df2[\"EyeOpennessValid_LEFT\"].astype(bool) # remove all gazes where an eye was closed\n",
    "\n",
    "                RgazeRaySplitDF = pd.DataFrame(df2[['Rgaze_x', 'Rgaze_y', 'Rgaze_z']])\n",
    "                RgazeRaySplitDF.rename(columns={'Rgaze_x': 'x', 'Rgaze_y': 'y', 'Rgaze_z': 'z'}, inplace=True)\n",
    "                RgazeRaySplitDF['timestamp'] = df2[\"TimeElapsed\"]\n",
    "                RgazeRaySplitDF['confidence'] = df2[\"EyeOpennessValid_RIGHT\"].astype(bool) # remove all gazes where an eye was closed\n",
    "\n",
    "                velL = EyeClassifier.preprocess(LgazeRaySplitDF, dist_method='vector')\n",
    "                velL.velocity = velL.velocity.astype(float)\n",
    "                velR = EyeClassifier.preprocess(RgazeRaySplitDF, dist_method='vector')\n",
    "                velR.velocity = velR.velocity.astype(float)\n",
    "                model = EyeClassifier()\n",
    "                model.fit(eyes=(velL, velR))\n",
    "                labels, indiv_labels = model.predict(eyes=(velL, velR))\n",
    "                labels_unique = labels[1::2]\n",
    "\n",
    "            elif gazeORgazeHead == \"gazeHead\":\n",
    "                # add approx head compensation\n",
    "                df2['Cgaze_x'] = df1.GazeDir_COMBINED.apply(lambda x: x[0])\n",
    "                df2['Cgaze_y'] = df1.GazeDir_COMBINED.apply(lambda x: x[1])\n",
    "                df2['Cgaze_z'] = df1.GazeDir_COMBINED.apply(lambda x: x[2])\n",
    "\n",
    "                # gaze+head values\n",
    "                gaze_pitches, gaze_yaws = GetGazeDeviationFromHead(df2.Cgaze_x, df2.Cgaze_y, df2.Cgaze_z)\n",
    "                head_rots = df2.CameraRot.values\n",
    "                head_pitches =   df2.CameraRot.apply(lambda x: x[0])\n",
    "                head_yaws = df2.CameraRot.apply(lambda x: x[2])\n",
    "                gaze_head_pitches = gaze_pitches + head_pitches\n",
    "                gaze_head_yaws = gaze_yaws + head_yaws       \n",
    "\n",
    "                # Create the new pd\n",
    "                gazeHeadDF = pd.DataFrame(df2[['TimeElapsed']])\n",
    "                gazeHeadDF = gazeHeadDF.rename(columns={'TimeElapsed':'timestamp'})\n",
    "                gazeHeadDF['confidence'] = (df2.EyeOpennessValid_LEFT*df2.EyeOpennessValid_RIGHT).astype(bool)\n",
    "                gazeHeadDF['x'] = gaze_head_pitches\n",
    "                gazeHeadDF['y'] = gaze_head_yaws\n",
    "                gazeHeadDF['z'] = np.zeros(len(gaze_head_pitches))\n",
    "\n",
    "                vel_w = EyeClassifier.preprocess(gazeHeadDF, dist_method='euclidean')\n",
    "                model = EyeClassifier()\n",
    "                model.fit(world=vel_w)\n",
    "                # raw_vel = vel_w[np.logical_not(vel_w.velocity.isna())].velocity.values\n",
    "                # raw_vel[raw_vel > raw_vel.mean() + 3 * raw_vel.std()]\n",
    "                # print(\"Velocity Means: \",model.world_model.means_)\n",
    "\n",
    "                labels, indiv_labels = model.predict(world=vel_w)\n",
    "                labels_unique = labels\n",
    "            labels_unique.index = np.arange(1, len(labels_unique) + 1) # start index from 1 instead of 0\n",
    "            labels_np = labels_unique.to_numpy()\n",
    "            # add the labels to the original df:\n",
    "            recdf_with_labels = df2.join(labels_unique[\"label\"])\n",
    "        except:\n",
    "            print(\"something wrong happened during classification\")\n",
    "            break\n",
    "        # target tuples, go back and find labels\n",
    "        saccade_onsets = 0\n",
    "        fixation_onsets = 0\n",
    "        noise_onsets = 0\n",
    "        # fig, ax = plt.subplots()\n",
    "        graph_tuples = []\n",
    "\n",
    "        for target_tuple in hits_and_misses:\n",
    "            # for either hit or miss, go back and find the ofd\n",
    "            # check if you're in a fixation rn\n",
    "            if target_tuple[0].GazeValid_COMBINED==0: # check gaze validity at onset\n",
    "                continue\n",
    "            target_locindf = target_tuple[0].name\n",
    "            onset_gaze_event = recdf_with_labels.loc[target_locindf].label  \n",
    "            OFD = 0\n",
    "            pitch = recdf_with_labels.loc[target_locindf].gaze2target_pitch\n",
    "                   # + recdf_with_labels.loc[target_locindf].head2target_pitch\n",
    "            yaw = recdf_with_labels.loc[target_locindf].gaze2target_yaw \n",
    "                   # + recdf_with_labels.loc[target_locindf].head2target_yaw\n",
    "\n",
    "            if onset_gaze_event == 0:\n",
    "                fixation_onsets += 1\n",
    "                # go back and look at when this current fixation ends\n",
    "                # labels going back from current gaze\n",
    "                labels_upto_curr = recdf_with_labels.loc[target_locindf::-1].label \n",
    "                label_diff = np.diff(labels_upto_curr)!=0\n",
    "                first_fixation_idx = target_locindf - np.argmax(label_diff)\n",
    "                OFD = recdf_with_labels.loc[target_locindf].TimeElapsed -\\\n",
    "                        recdf_with_labels.loc[first_fixation_idx].TimeElapsed\n",
    "\n",
    "                eccentricity = np.linalg.norm([recdf_with_labels.loc[target_locindf].gaze2target_pitch,\n",
    "                                              recdf_with_labels.loc[target_locindf].gaze2target_yaw])*180/np.pi\n",
    "                # ax.scatter(OFD, eccentricity, c='r' if target_tuple[1] is False else 'g')\n",
    "                graph_tuples += (OFD, eccentricity, target_tuple[1] is False, pitch, yaw)\n",
    "            elif onset_gaze_event == 1:\n",
    "                saccade_onsets += 1\n",
    "                OFD = 0        \n",
    "                eccentricity = np.linalg.norm([recdf_with_labels.loc[target_locindf].gaze2target_pitch,\n",
    "                                              recdf_with_labels.loc[target_locindf].gaze2target_yaw])*180/np.pi\n",
    "                # ax.scatter(OFD, eccentricity, c='r' if target_tuple[1] is False else 'g')\n",
    "                graph_tuples += (OFD, eccentricity, target_tuple[1] is False, pitch, yaw)\n",
    "            else:\n",
    "                noise_onsets += 1\n",
    "            # print(target_locindf, OFD)\n",
    "        print(\"{}/{} valid targets\".format(\n",
    "                fixation_onsets+saccade_onsets+noise_onsets,\n",
    "                len(hits_and_misses)))\n",
    "        print(\"{} fixation onsets, {} sacc, {} noise\".format(fixation_onsets, saccade_onsets, noise_onsets))\n",
    "\n",
    "        # #plt.xlim(0, )\n",
    "        # ax.set_ylim(-1, 60)\n",
    "        # ax.set_xlabel(\"Onset Fixation Duration (seconds)\")\n",
    "        # ax.set_ylabel(\"Eccentricity (degrees)\")\n",
    "        # ax.set_title(\"Hits/Misses on Gaze Eccentricity vs. OFD\")\n",
    "\n",
    "        # temp hack for henny meeting: save graph tuples TODO\n",
    "        with open(graph_data_filename, 'wb') as f:\n",
    "            pkl.dump(graph_tuples, f)\n",
    "        print(\"done writing \", graph_data_filename)\n",
    "    except:\n",
    "        continue"
   ]
  },
  {
   "cell_type": "markdown",
   "id": "f0725d07-c137-4386-b0ab-a00b3196c420",
   "metadata": {},
   "source": [
    "# OSA Calc"
   ]
  },
  {
   "cell_type": "code",
   "execution_count": 15,
   "id": "1aab9831-1e01-42ba-9c1e-b1d2b35e7f01",
   "metadata": {},
   "outputs": [
    {
     "name": "stdout",
     "output_type": "stream",
     "text": [
      "====================================\n",
      "C://carla//carla.periph//RecordingTxts\\abhijat\\aj-32.txt\n",
      "====================================\n"
     ]
    },
    {
     "name": "stderr",
     "output_type": "stream",
     "text": [
      "100%|█| 6375/6375 [00\n",
      "15it [00:00, 31.83it/s]\n"
     ]
    },
    {
     "name": "stdout",
     "output_type": "stream",
     "text": [
      "13/15 hits with a 0.9949769230769232s average reaction time\n",
      "15/15 valid targets\n",
      "11 fixation onsets, 4 sacc, 0 noise\n",
      "done writing  temp_data\\gazeHead\\no_leading_misses\\OSA\\aj-32_OSAvEcc.pkl\n",
      "====================================\n",
      "C://carla//carla.periph//RecordingTxts\\abhijat\\aj-54.txt\n",
      "====================================\n"
     ]
    },
    {
     "name": "stderr",
     "output_type": "stream",
     "text": [
      "100%|█| 7425/7425 [00\n",
      "16it [00:00, 22.79it/s]\n"
     ]
    },
    {
     "name": "stdout",
     "output_type": "stream",
     "text": [
      "12/16 hits with a 0.9556891666666668s average reaction time\n",
      "16/16 valid targets\n",
      "12 fixation onsets, 4 sacc, 0 noise\n",
      "done writing  temp_data\\gazeHead\\no_leading_misses\\OSA\\aj-54_OSAvEcc.pkl\n",
      "====================================\n",
      "C://carla//carla.periph//RecordingTxts\\abhijat\\aj-55.txt\n",
      "====================================\n"
     ]
    },
    {
     "name": "stderr",
     "output_type": "stream",
     "text": [
      "100%|█| 5027/5027 [00\n",
      "11it [00:00, 24.41it/s]\n"
     ]
    },
    {
     "name": "stdout",
     "output_type": "stream",
     "text": [
      "6/11 hits with a 1.7782833333333354s average reaction time\n",
      "11/11 valid targets\n",
      "9 fixation onsets, 2 sacc, 0 noise\n",
      "done writing  temp_data\\gazeHead\\no_leading_misses\\OSA\\aj-55_OSAvEcc.pkl\n",
      "====================================\n",
      "C://carla//carla.periph//RecordingTxts\\brady\\brady11.txt\n",
      "====================================\n"
     ]
    },
    {
     "name": "stderr",
     "output_type": "stream",
     "text": [
      "100%|█| 10321/10321 [01\n",
      "24it [00:01, 19.26it/s]\n"
     ]
    },
    {
     "name": "stdout",
     "output_type": "stream",
     "text": [
      "19/24 hits with a 0.8250736842105286s average reaction time\n",
      "23/23 valid targets\n",
      "16 fixation onsets, 7 sacc, 0 noise\n",
      "done writing  temp_data\\gazeHead\\no_leading_misses\\OSA\\brady11_OSAvEcc.pkl\n",
      "====================================\n",
      "C://carla//carla.periph//RecordingTxts\\brady\\brady21.txt\n",
      "====================================\n"
     ]
    },
    {
     "name": "stderr",
     "output_type": "stream",
     "text": [
      "100%|█| 9950/9950 [00\n",
      "22it [00:02,  8.15it/s]\n"
     ]
    },
    {
     "name": "stdout",
     "output_type": "stream",
     "text": [
      "6/22 hits with a 1.3140500000000015s average reaction time\n",
      "22/22 valid targets\n",
      "18 fixation onsets, 4 sacc, 0 noise\n",
      "done writing  temp_data\\gazeHead\\no_leading_misses\\OSA\\brady21_OSAvEcc.pkl\n",
      "====================================\n",
      "C://carla//carla.periph//RecordingTxts\\brady\\brady32.txt\n",
      "====================================\n"
     ]
    },
    {
     "name": "stderr",
     "output_type": "stream",
     "text": [
      "100%|█| 9156/9156 [00\n",
      "18it [00:00, 22.03it/s]\n"
     ]
    },
    {
     "name": "stdout",
     "output_type": "stream",
     "text": [
      "15/18 hits with a 0.9253146666666681s average reaction time\n",
      "18/18 valid targets\n",
      "14 fixation onsets, 4 sacc, 0 noise\n",
      "done writing  temp_data\\gazeHead\\no_leading_misses\\OSA\\brady32_OSAvEcc.pkl\n",
      "====================================\n",
      "C://carla//carla.periph//RecordingTxts\\brady\\brady54.txt\n",
      "====================================\n"
     ]
    },
    {
     "name": "stderr",
     "output_type": "stream",
     "text": [
      "100%|█| 8812/8812 [00\n",
      "20it [00:00, 20.42it/s]\n"
     ]
    },
    {
     "name": "stdout",
     "output_type": "stream",
     "text": [
      "15/20 hits with a 0.8776973333333355s average reaction time\n",
      "18/19 valid targets\n",
      "13 fixation onsets, 4 sacc, 1 noise\n",
      "done writing  temp_data\\gazeHead\\no_leading_misses\\OSA\\brady54_OSAvEcc.pkl\n",
      "====================================\n",
      "C://carla//carla.periph//RecordingTxts\\brady\\brady55.txt\n",
      "====================================\n"
     ]
    },
    {
     "name": "stderr",
     "output_type": "stream",
     "text": [
      "100%|█| 5068/5068 [00\n",
      "11it [00:00, 49.02it/s]\n"
     ]
    },
    {
     "name": "stdout",
     "output_type": "stream",
     "text": [
      "10/11 hits with a 0.9388799999999982s average reaction time\n",
      "10/11 valid targets\n",
      "9 fixation onsets, 1 sacc, 0 noise\n",
      "done writing  temp_data\\gazeHead\\no_leading_misses\\OSA\\brady55_OSAvEcc.pkl\n",
      "====================================\n",
      "C://carla//carla.periph//RecordingTxts\\dexter\\dexter11.txt\n",
      "====================================\n"
     ]
    },
    {
     "name": "stderr",
     "output_type": "stream",
     "text": [
      "100%|█| 8325/8325 [00\n",
      "19it [00:01, 17.80it/s]\n"
     ]
    },
    {
     "name": "stdout",
     "output_type": "stream",
     "text": [
      "12/19 hits with a 0.7183116666666617s average reaction time\n",
      "17/19 valid targets\n",
      "14 fixation onsets, 3 sacc, 0 noise\n",
      "done writing  temp_data\\gazeHead\\no_leading_misses\\OSA\\dexter11_OSAvEcc.pkl\n",
      "====================================\n",
      "C://carla//carla.periph//RecordingTxts\\dexter\\dexter21.txt\n",
      "====================================\n"
     ]
    },
    {
     "name": "stderr",
     "output_type": "stream",
     "text": [
      "100%|█| 6437/6437 [00\n",
      "15it [00:00, 22.96it/s]\n"
     ]
    },
    {
     "name": "stdout",
     "output_type": "stream",
     "text": [
      "9/15 hits with a 0.5579000000000024s average reaction time\n",
      "14/14 valid targets\n",
      "12 fixation onsets, 1 sacc, 1 noise\n",
      "done writing  temp_data\\gazeHead\\no_leading_misses\\OSA\\dexter21_OSAvEcc.pkl\n",
      "====================================\n",
      "C://carla//carla.periph//RecordingTxts\\dexter\\dexter32.txt\n",
      "====================================\n"
     ]
    },
    {
     "name": "stderr",
     "output_type": "stream",
     "text": [
      "100%|█| 9105/9105 [00\n",
      "20it [00:00, 22.00it/s]\n"
     ]
    },
    {
     "name": "stdout",
     "output_type": "stream",
     "text": [
      "15/20 hits with a 0.8377133333333364s average reaction time\n",
      "20/20 valid targets\n",
      "15 fixation onsets, 4 sacc, 1 noise\n",
      "done writing  temp_data\\gazeHead\\no_leading_misses\\OSA\\dexter32_OSAvEcc.pkl\n",
      "====================================\n",
      "C://carla//carla.periph//RecordingTxts\\dexter\\dexter54.txt\n",
      "====================================\n"
     ]
    },
    {
     "name": "stderr",
     "output_type": "stream",
     "text": [
      "100%|█| 8909/8909 [00\n",
      "20it [00:01, 16.04it/s]\n"
     ]
    },
    {
     "name": "stdout",
     "output_type": "stream",
     "text": [
      "13/20 hits with a 0.8443153846153854s average reaction time\n",
      "17/18 valid targets\n",
      "16 fixation onsets, 0 sacc, 1 noise\n",
      "done writing  temp_data\\gazeHead\\no_leading_misses\\OSA\\dexter54_OSAvEcc.pkl\n",
      "====================================\n",
      "C://carla//carla.periph//RecordingTxts\\dexter\\dexter55.txt\n",
      "====================================\n"
     ]
    },
    {
     "name": "stderr",
     "output_type": "stream",
     "text": [
      "100%|█| 5593/5593 [00\n",
      "12it [00:00, 40.63it/s]\n"
     ]
    },
    {
     "name": "stdout",
     "output_type": "stream",
     "text": [
      "10/12 hits with a 0.6724300000000005s average reaction time\n",
      "11/12 valid targets\n",
      "9 fixation onsets, 2 sacc, 0 noise\n",
      "done writing  temp_data\\gazeHead\\no_leading_misses\\OSA\\dexter55_OSAvEcc.pkl\n",
      "====================================\n",
      "C://carla//carla.periph//RecordingTxts\\esther\\esther11.txt\n",
      "====================================\n"
     ]
    },
    {
     "name": "stderr",
     "output_type": "stream",
     "text": [
      "100%|█| 8391/8391 [00\n",
      "19it [00:01, 16.21it/s]\n"
     ]
    },
    {
     "name": "stdout",
     "output_type": "stream",
     "text": [
      "12/19 hits with a 0.9670666666666659s average reaction time\n",
      "17/17 valid targets\n",
      "15 fixation onsets, 2 sacc, 0 noise\n",
      "done writing  temp_data\\gazeHead\\no_leading_misses\\OSA\\esther11_OSAvEcc.pkl\n",
      "====================================\n",
      "C://carla//carla.periph//RecordingTxts\\esther\\esther21.txt\n",
      "====================================\n"
     ]
    },
    {
     "name": "stderr",
     "output_type": "stream",
     "text": [
      "100%|█| 6790/6790 [00\n",
      "15it [00:01, 14.82it/s]\n"
     ]
    },
    {
     "name": "stdout",
     "output_type": "stream",
     "text": [
      "8/15 hits with a 1.5572250000000043s average reaction time\n",
      "9/9 valid targets\n",
      "7 fixation onsets, 2 sacc, 0 noise\n",
      "done writing  temp_data\\gazeHead\\no_leading_misses\\OSA\\esther21_OSAvEcc.pkl\n",
      "====================================\n",
      "C://carla//carla.periph//RecordingTxts\\esther\\esther32.txt\n",
      "====================================\n"
     ]
    },
    {
     "name": "stderr",
     "output_type": "stream",
     "text": [
      "100%|█| 9482/9482 [00\n",
      "22it [00:02, 10.51it/s]\n"
     ]
    },
    {
     "name": "stdout",
     "output_type": "stream",
     "text": [
      "10/22 hits with a 1.297540000000002s average reaction time\n",
      "19/20 valid targets\n",
      "10 fixation onsets, 9 sacc, 0 noise\n",
      "done writing  temp_data\\gazeHead\\no_leading_misses\\OSA\\esther32_OSAvEcc.pkl\n",
      "====================================\n",
      "C://carla//carla.periph//RecordingTxts\\esther\\esther54.txt\n",
      "====================================\n"
     ]
    },
    {
     "name": "stderr",
     "output_type": "stream",
     "text": [
      "100%|█| 9178/9178 [00\n",
      "20it [00:01, 11.97it/s]\n"
     ]
    },
    {
     "name": "stdout",
     "output_type": "stream",
     "text": [
      "10/20 hits with a 0.9465800000000009s average reaction time\n",
      "18/18 valid targets\n",
      "15 fixation onsets, 3 sacc, 0 noise\n",
      "done writing  temp_data\\gazeHead\\no_leading_misses\\OSA\\esther54_OSAvEcc.pkl\n",
      "====================================\n",
      "C://carla//carla.periph//RecordingTxts\\esther\\esther55.txt\n",
      "====================================\n"
     ]
    },
    {
     "name": "stderr",
     "output_type": "stream",
     "text": [
      "100%|█| 7840/7840 [00\n",
      "19it [00:01, 17.25it/s]\n"
     ]
    },
    {
     "name": "stdout",
     "output_type": "stream",
     "text": [
      "10/19 hits with a 0.789119999999994s average reaction time\n",
      "14/14 valid targets\n",
      "13 fixation onsets, 1 sacc, 0 noise\n",
      "done writing  temp_data\\gazeHead\\no_leading_misses\\OSA\\esther55_OSAvEcc.pkl\n",
      "====================================\n",
      "C://carla//carla.periph//RecordingTxts\\george\\george-11.txt\n",
      "====================================\n"
     ]
    },
    {
     "name": "stderr",
     "output_type": "stream",
     "text": [
      "100%|█| 10857/10857 [00:\n"
     ]
    },
    {
     "name": "stdout",
     "output_type": "stream",
     "text": [
      "'LightOn'\n",
      "====================================\n",
      "C://carla//carla.periph//RecordingTxts\\george\\george-32.txt\n",
      "====================================\n"
     ]
    },
    {
     "name": "stderr",
     "output_type": "stream",
     "text": [
      "100%|█| 6579/6579 [00\n",
      "14it [00:00, 110.53it/s]\n"
     ]
    },
    {
     "name": "stdout",
     "output_type": "stream",
     "text": [
      "13/14 hits with a 0.06142307692307684s average reaction time\n",
      "13/13 valid targets\n",
      "9 fixation onsets, 4 sacc, 0 noise\n",
      "done writing  temp_data\\gazeHead\\no_leading_misses\\OSA\\george-32_OSAvEcc.pkl\n",
      "====================================\n",
      "C://carla//carla.periph//RecordingTxts\\george\\george-54.txt\n",
      "====================================\n"
     ]
    },
    {
     "name": "stderr",
     "output_type": "stream",
     "text": [
      "100%|█| 9021/9021 [00\n",
      "19it [00:00, 112.73it/s]\n"
     ]
    },
    {
     "name": "stdout",
     "output_type": "stream",
     "text": [
      "18/19 hits with a 0.046894444444444496s average reaction time\n",
      "17/18 valid targets\n",
      "10 fixation onsets, 5 sacc, 2 noise\n",
      "done writing  temp_data\\gazeHead\\no_leading_misses\\OSA\\george-54_OSAvEcc.pkl\n",
      "====================================\n",
      "C://carla//carla.periph//RecordingTxts\\george\\george-55.txt\n",
      "====================================\n"
     ]
    },
    {
     "name": "stderr",
     "output_type": "stream",
     "text": [
      "100%|█| 4595/4595 [00\n",
      "13it [00:00, 173.66it/s]\n"
     ]
    },
    {
     "name": "stdout",
     "output_type": "stream",
     "text": [
      "12/13 hits with a 0.041549999999999976s average reaction time\n",
      "11/12 valid targets\n",
      "10 fixation onsets, 1 sacc, 0 noise\n",
      "done writing  temp_data\\gazeHead\\no_leading_misses\\OSA\\george-55_OSAvEcc.pkl\n",
      "====================================\n",
      "C://carla//carla.periph//RecordingTxts\\jacob\\jacob21.txt\n",
      "====================================\n"
     ]
    },
    {
     "name": "stderr",
     "output_type": "stream",
     "text": [
      "100%|█| 6650/6650 [00\n",
      "15it [00:00, 38.56it/s]\n"
     ]
    },
    {
     "name": "stdout",
     "output_type": "stream",
     "text": [
      "14/15 hits with a 0.8998435714285702s average reaction time\n",
      "14/15 valid targets\n",
      "12 fixation onsets, 2 sacc, 0 noise\n",
      "done writing  temp_data\\gazeHead\\no_leading_misses\\OSA\\jacob21_OSAvEcc.pkl\n",
      "====================================\n",
      "C://carla//carla.periph//RecordingTxts\\jacob\\jacob54.txt\n",
      "====================================\n"
     ]
    },
    {
     "name": "stderr",
     "output_type": "stream",
     "text": [
      "100%|█| 9087/9087 [00\n",
      "21it [00:00, 21.08it/s]\n"
     ]
    },
    {
     "name": "stdout",
     "output_type": "stream",
     "text": [
      "16/21 hits with a 0.8024750000000017s average reaction time\n",
      "20/20 valid targets\n",
      "16 fixation onsets, 4 sacc, 0 noise\n",
      "done writing  temp_data\\gazeHead\\no_leading_misses\\OSA\\jacob54_OSAvEcc.pkl\n",
      "====================================\n",
      "C://carla//carla.periph//RecordingTxts\\jacob\\jacob55.txt\n",
      "====================================\n"
     ]
    },
    {
     "name": "stderr",
     "output_type": "stream",
     "text": [
      "100%|█| 5127/5127 [00\n",
      "12it [00:00, 31.10it/s]\n"
     ]
    },
    {
     "name": "stdout",
     "output_type": "stream",
     "text": [
      "8/12 hits with a 0.6196749999999966s average reaction time\n",
      "12/12 valid targets\n",
      "9 fixation onsets, 3 sacc, 0 noise\n",
      "done writing  temp_data\\gazeHead\\no_leading_misses\\OSA\\jacob55_OSAvEcc.pkl\n",
      "====================================\n",
      "C://carla//carla.periph//RecordingTxts\\tab\\tab11.txt\n",
      "====================================\n"
     ]
    },
    {
     "name": "stderr",
     "output_type": "stream",
     "text": [
      "100%|█| 10251/10251 [00\n",
      "23it [00:00, 24.33it/s]\n"
     ]
    },
    {
     "name": "stdout",
     "output_type": "stream",
     "text": [
      "20/23 hits with a 0.8044999999999994s average reaction time\n",
      "22/22 valid targets\n",
      "20 fixation onsets, 2 sacc, 0 noise\n",
      "done writing  temp_data\\gazeHead\\no_leading_misses\\OSA\\tab11_OSAvEcc.pkl\n",
      "====================================\n",
      "C://carla//carla.periph//RecordingTxts\\tab\\tab21.txt\n",
      "====================================\n"
     ]
    },
    {
     "name": "stderr",
     "output_type": "stream",
     "text": [
      "100%|█| 6868/6868 [00\n",
      "16it [00:00, 28.97it/s]\n"
     ]
    },
    {
     "name": "stdout",
     "output_type": "stream",
     "text": [
      "12/16 hits with a 0.90173333333333s average reaction time\n",
      "15/15 valid targets\n",
      "11 fixation onsets, 4 sacc, 0 noise\n",
      "done writing  temp_data\\gazeHead\\no_leading_misses\\OSA\\tab21_OSAvEcc.pkl\n",
      "====================================\n",
      "C://carla//carla.periph//RecordingTxts\\tab\\tab32.txt\n",
      "====================================\n"
     ]
    },
    {
     "name": "stderr",
     "output_type": "stream",
     "text": [
      "100%|█| 9463/9463 [00\n",
      "20it [00:00, 24.67it/s]\n"
     ]
    },
    {
     "name": "stdout",
     "output_type": "stream",
     "text": [
      "18/20 hits with a 1.0274855555555575s average reaction time\n",
      "19/20 valid targets\n",
      "14 fixation onsets, 5 sacc, 0 noise\n",
      "done writing  temp_data\\gazeHead\\no_leading_misses\\OSA\\tab32_OSAvEcc.pkl\n",
      "====================================\n",
      "C://carla//carla.periph//RecordingTxts\\tab\\tab54.txt\n",
      "====================================\n"
     ]
    },
    {
     "name": "stderr",
     "output_type": "stream",
     "text": [
      "100%|█| 8928/8928 [00\n",
      "20it [00:00, 31.89it/s]\n"
     ]
    },
    {
     "name": "stdout",
     "output_type": "stream",
     "text": [
      "17/20 hits with a 0.788005882352941s average reaction time\n",
      "19/19 valid targets\n",
      "14 fixation onsets, 5 sacc, 0 noise\n",
      "done writing  temp_data\\gazeHead\\no_leading_misses\\OSA\\tab54_OSAvEcc.pkl\n",
      "====================================\n",
      "C://carla//carla.periph//RecordingTxts\\tab\\tab55.txt\n",
      "====================================\n"
     ]
    },
    {
     "name": "stderr",
     "output_type": "stream",
     "text": [
      "100%|█| 5299/5299 [00\n",
      "12it [00:00, 36.51it/s]\n"
     ]
    },
    {
     "name": "stdout",
     "output_type": "stream",
     "text": [
      "9/12 hits with a 0.6859911111111104s average reaction time\n",
      "12/12 valid targets\n",
      "10 fixation onsets, 2 sacc, 0 noise\n",
      "done writing  temp_data\\gazeHead\\no_leading_misses\\OSA\\tab55_OSAvEcc.pkl\n",
      "====================================\n",
      "C://carla//carla.periph//RecordingTxts\\tanmay\\tanmay21.txt\n",
      "====================================\n"
     ]
    },
    {
     "name": "stderr",
     "output_type": "stream",
     "text": [
      "100%|█| 4762/4762 [00\n",
      "10it [00:00, 27.65it/s]\n"
     ]
    },
    {
     "name": "stdout",
     "output_type": "stream",
     "text": [
      "5/10 hits with a 0.8483400000000003s average reaction time\n",
      "8/8 valid targets\n",
      "4 fixation onsets, 4 sacc, 0 noise\n",
      "done writing  temp_data\\gazeHead\\no_leading_misses\\OSA\\tanmay21_OSAvEcc.pkl\n",
      "====================================\n",
      "C://carla//carla.periph//RecordingTxts\\tanmay\\tanmay32.txt\n",
      "====================================\n"
     ]
    },
    {
     "name": "stderr",
     "output_type": "stream",
     "text": [
      "100%|█| 9171/9171 [00\n",
      "21it [00:00, 34.96it/s]\n"
     ]
    },
    {
     "name": "stdout",
     "output_type": "stream",
     "text": [
      "19/21 hits with a 0.5754826315789492s average reaction time\n",
      "21/21 valid targets\n",
      "15 fixation onsets, 6 sacc, 0 noise\n",
      "done writing  temp_data\\gazeHead\\no_leading_misses\\OSA\\tanmay32_OSAvEcc.pkl\n",
      "====================================\n",
      "C://carla//carla.periph//RecordingTxts\\tanmay\\tanmay54.txt\n",
      "====================================\n"
     ]
    },
    {
     "name": "stderr",
     "output_type": "stream",
     "text": [
      "100%|█| 8965/8965 [00\n",
      "19it [00:00, 33.02it/s]\n"
     ]
    },
    {
     "name": "stdout",
     "output_type": "stream",
     "text": [
      "17/19 hits with a 0.6772705882352933s average reaction time\n",
      "18/18 valid targets\n",
      "13 fixation onsets, 5 sacc, 0 noise\n",
      "done writing  temp_data\\gazeHead\\no_leading_misses\\OSA\\tanmay54_OSAvEcc.pkl\n",
      "====================================\n",
      "C://carla//carla.periph//RecordingTxts\\tanmay\\tanmay55.txt\n",
      "====================================\n"
     ]
    },
    {
     "name": "stderr",
     "output_type": "stream",
     "text": [
      "100%|█| 4802/4802 [00\n",
      "11it [00:00, 76.06it/s]\n"
     ]
    },
    {
     "name": "stdout",
     "output_type": "stream",
     "text": [
      "10/11 hits with a 0.5969100000000014s average reaction time\n",
      "10/10 valid targets\n",
      "10 fixation onsets, 0 sacc, 0 noise\n",
      "done writing  temp_data\\gazeHead\\no_leading_misses\\OSA\\tanmay55_OSAvEcc.pkl\n"
     ]
    }
   ],
   "source": [
    "from glob import glob\n",
    "recfile_dir = \"C://carla//carla.periph//RecordingTxts//*//*.txt\"\n",
    "\n",
    "total_leading_misses_removed = 0\n",
    "\n",
    "for path_to_recording in glob(recfile_dir):\n",
    "    try:\n",
    "        print(\"====================================\")\n",
    "        print(path_to_recording)\n",
    "        print(\"====================================\")\n",
    "        recording_name = Path(path_to_recording).stem\n",
    "        recdf_pklname = Path(\"temp_data\").joinpath(recording_name+\".pkl\")\n",
    "        if bRemoveLeadingMisses:\n",
    "            graph_data_filename = Path(\"temp_data/\"+gazeORgazeHead+\"/no_leading_misses/OSA/\").joinpath(recording_name+\"_OSAvEcc.pkl\")\n",
    "        else:\n",
    "            graph_data_filename = Path(\"temp_data/\"+gazeORgazeHead+\"/all_leading_misses/OSA/\").joinpath(recording_name+\"_OSAvEcc.pkl\")\n",
    "        if Path(graph_data_filename).exists():\n",
    "            print(\"already parsed\")\n",
    "            continue\n",
    "        df = parse_new_dreyevr_rec(path_to_recording, False)\n",
    "        df1 = df.copy()\n",
    "        # find the indices where lights came on and went off\n",
    "        lighton_rows = df1[\"LightOn\"].diff().fillna(0)==1\n",
    "        lightoff_rows = df1[\"LightOn\"].diff().fillna(0)==-1\n",
    "        df1[lighton_rows].head()\n",
    "        lighton_idcs = df1[lighton_rows].index\n",
    "        num_targets_spawned = sum(lighton_rows)\n",
    "        # find the indices where the button was pressed\n",
    "        buttonPress_rows = df1[\"ButtonPressed\"].diff().fillna(0)==1\n",
    "        buttonRelease_rows = df1[\"ButtonPressed\"].diff().fillna(0)==-1\n",
    "        num_button_presses = sum(buttonPress_rows)\n",
    "        # print(\"{} targets spawned\".format(num_targets_spawned))\n",
    "        # print(\"{} responses recorded\".format(num_button_presses)) # may or may not be all accurate responses that correspond to targets?\n",
    "        # for every light appearance\n",
    "        # find the nearest button press, before the next target appearance\n",
    "        max_reaction_time_allowed = 2 #seconds\n",
    "        time_offsets = []\n",
    "        hits_and_misses = []\n",
    "        for idx_num, lighton_idx in tqdm(enumerate(lighton_idcs)):\n",
    "            # while not found_buttonpress or lighton_idcs[idx_num+1]:\n",
    "            offset = 0\n",
    "            target_tuple = (df1.loc[lighton_idx], False)\n",
    "            while lighton_idx+offset < max(df1.index):\n",
    "                time_offset = df1.loc[lighton_idx+offset, \"TimeElapsed\"] - df1.loc[lighton_idx, \"TimeElapsed\"]   \n",
    "                if (df1.loc[lighton_idx+offset, \"ButtonPressed\"] == 1):\n",
    "                    # print(\"{0:1.2f}s\".format(time_offset))\n",
    "                    time_offsets += [time_offset]\n",
    "                    target_tuple = (df1.loc[lighton_idx], df1.loc[lighton_idx+offset])\n",
    "                    break\n",
    "                else:\n",
    "                    if time_offset > max_reaction_time_allowed:\n",
    "                        break\n",
    "                    offset += 1\n",
    "            hits_and_misses += [target_tuple]\n",
    "\n",
    "        print(\"{}/{} hits with a {}s average reaction time\".format(len(time_offsets), len(lighton_idcs), sum(time_offsets)/len(time_offsets)))\n",
    "        \n",
    "        # remove all leading misses (participant still starting to move in the simulator)\n",
    "        while hits_and_misses[0][1] is False and bRemoveLeadingMisses:\n",
    "            total_leading_misses_removed += 1\n",
    "            hits_and_misses = hits_and_misses[1:]\n",
    "        \n",
    "        try: # do gaze classification\n",
    "            df2 = df1.copy()\n",
    "            if gazeORgazeHead == \"gaze\":\n",
    "                df2['Lgaze_x'] = df1.GazeDir_LEFT.apply(lambda x: x[0])\n",
    "                df2['Lgaze_y'] = df1.GazeDir_LEFT.apply(lambda x: x[1])\n",
    "                df2['Lgaze_z'] = df1.GazeDir_LEFT.apply(lambda x: x[2])\n",
    "\n",
    "                df2['Rgaze_x'] = df1.GazeDir_RIGHT.apply(lambda x: x[0])\n",
    "                df2['Rgaze_y'] = df1.GazeDir_RIGHT.apply(lambda x: x[1])\n",
    "                df2['Rgaze_z'] = df1.GazeDir_RIGHT.apply(lambda x: x[2])\n",
    "\n",
    "\n",
    "                LgazeRaySplitDF = pd.DataFrame(df2[['Lgaze_x', 'Lgaze_y', 'Lgaze_z']])\n",
    "                LgazeRaySplitDF.rename(columns={'Lgaze_x': 'x', 'Lgaze_y': 'y', 'Lgaze_z': 'z'}, inplace=True)\n",
    "                LgazeRaySplitDF['timestamp'] = df2[\"TimeElapsed\"]\n",
    "                LgazeRaySplitDF['confidence'] = df2[\"EyeOpennessValid_LEFT\"].astype(bool) # remove all gazes where an eye was closed\n",
    "\n",
    "                RgazeRaySplitDF = pd.DataFrame(df2[['Rgaze_x', 'Rgaze_y', 'Rgaze_z']])\n",
    "                RgazeRaySplitDF.rename(columns={'Rgaze_x': 'x', 'Rgaze_y': 'y', 'Rgaze_z': 'z'}, inplace=True)\n",
    "                RgazeRaySplitDF['timestamp'] = df2[\"TimeElapsed\"]\n",
    "                RgazeRaySplitDF['confidence'] = df2[\"EyeOpennessValid_RIGHT\"].astype(bool) # remove all gazes where an eye was closed\n",
    "\n",
    "                velL = EyeClassifier.preprocess(LgazeRaySplitDF, dist_method='vector')\n",
    "                velL.velocity = velL.velocity.astype(float)\n",
    "                velR = EyeClassifier.preprocess(RgazeRaySplitDF, dist_method='vector')\n",
    "                velR.velocity = velR.velocity.astype(float)\n",
    "                model = EyeClassifier()\n",
    "                model.fit(eyes=(velL, velR))\n",
    "                labels, indiv_labels = model.predict(eyes=(velL, velR))\n",
    "                labels_unique = labels[1::2]\n",
    "\n",
    "            elif gazeORgazeHead == \"gazeHead\":\n",
    "                # add approx head compensation\n",
    "                df2['Cgaze_x'] = df1.GazeDir_COMBINED.apply(lambda x: x[0])\n",
    "                df2['Cgaze_y'] = df1.GazeDir_COMBINED.apply(lambda x: x[1])\n",
    "                df2['Cgaze_z'] = df1.GazeDir_COMBINED.apply(lambda x: x[2])\n",
    "\n",
    "                # gaze+head values\n",
    "                gaze_pitches, gaze_yaws = GetGazeDeviationFromHead(df2.Cgaze_x, df2.Cgaze_y, df2.Cgaze_z)\n",
    "                head_rots = df2.CameraRot.values\n",
    "                head_pitches =   df2.CameraRot.apply(lambda x: x[0])\n",
    "                head_yaws = df2.CameraRot.apply(lambda x: x[2])\n",
    "                gaze_head_pitches = gaze_pitches + head_pitches\n",
    "                gaze_head_yaws = gaze_yaws + head_yaws       \n",
    "\n",
    "                # Create the new pd\n",
    "                gazeHeadDF = pd.DataFrame(df2[['TimeElapsed']])\n",
    "                gazeHeadDF = gazeHeadDF.rename(columns={'TimeElapsed':'timestamp'})\n",
    "                gazeHeadDF['confidence'] = (df2.EyeOpennessValid_LEFT*df2.EyeOpennessValid_RIGHT).astype(bool)\n",
    "                gazeHeadDF['x'] = gaze_head_pitches\n",
    "                gazeHeadDF['y'] = gaze_head_yaws\n",
    "                gazeHeadDF['z'] = np.zeros(len(gaze_head_pitches))\n",
    "\n",
    "                vel_w = EyeClassifier.preprocess(gazeHeadDF, dist_method='euclidean')\n",
    "                model = EyeClassifier()\n",
    "                model.fit(world=vel_w)\n",
    "                # raw_vel = vel_w[np.logical_not(vel_w.velocity.isna())].velocity.values\n",
    "                # raw_vel[raw_vel > raw_vel.mean() + 3 * raw_vel.std()]\n",
    "                # print(\"Velocity Means: \",model.world_model.means_)\n",
    "\n",
    "                labels, indiv_labels = model.predict(world=vel_w)\n",
    "                labels_unique = labels\n",
    "            labels_unique.index = np.arange(1, len(labels_unique) + 1) # start index from 1 instead of 0\n",
    "            labels_np = labels_unique.to_numpy()\n",
    "            # add the labels to the original df:\n",
    "            recdf_with_labels = df2.join(labels_unique[\"label\"])\n",
    "        except:\n",
    "            print(\"something wrong happened during classification\")\n",
    "        # target tuples, go back and find labels\n",
    "        saccade_onsets = 0\n",
    "        fixation_onsets = 0\n",
    "        noise_onsets = 0\n",
    "        # fig, ax = plt.subplots()\n",
    "        graph_tuples = []\n",
    "\n",
    "        for target_tuple in hits_and_misses:\n",
    "            # for either hit or miss, go back and find the ofd\n",
    "            # check if you're in a fixation rn\n",
    "            if target_tuple[0].GazeValid_COMBINED==0: # check gaze validity at onset\n",
    "                continue\n",
    "            target_locindf = target_tuple[0].name\n",
    "            onset_gaze_event = recdf_with_labels.loc[target_locindf].label  \n",
    "            OSA = 0\n",
    "            pitch = recdf_with_labels.loc[target_locindf].gaze2target_pitch\n",
    "                   # + recdf_with_labels.loc[target_locindf].head2target_pitch\n",
    "            yaw = recdf_with_labels.loc[target_locindf].gaze2target_yaw \n",
    "                   # + recdf_with_labels.loc[target_locindf].head2target_yaw\n",
    "\n",
    "            if onset_gaze_event == 0:\n",
    "                fixation_onsets += 1\n",
    "                # go back and look at when this current fixation ends\n",
    "                # labels going back from current gaze\n",
    "                labels_upto_curr = recdf_with_labels.loc[target_locindf::-1].label \n",
    "                label_diff = np.diff(labels_upto_curr)!=0\n",
    "                first_fixation_idx = target_locindf - np.argmax(label_diff) # first fixation of this idx\n",
    "\n",
    "                labels_upto_curr = recdf_with_labels.loc[target_locindf::-1].label \n",
    "                rev_fix_idcs = np.where(labels_upto_curr==0)\n",
    "                last_nonfix_offset = np.where(np.diff(rev_fix_idcs)>1)[1][0]# where is the break in the fixation\n",
    "                last_fixend_idx = rev_fix_idcs[0][last_nonfix_offset+1]\n",
    "                # onset saccade idx\n",
    "                OSA = np.linalg.norm(recdf_with_labels.loc[target_locindf].GazeDir_COMBINED \n",
    "                                     - recdf_with_labels.loc[last_fixend_idx].GazeDir_COMBINED)*180/np.pi\n",
    "\n",
    "\n",
    "                eccentricity = np.linalg.norm([recdf_with_labels.loc[target_locindf].gaze2target_pitch,\n",
    "                                              recdf_with_labels.loc[target_locindf].gaze2target_yaw])*180/np.pi\n",
    "                graph_tuples += (OSA, eccentricity, target_tuple[1] is False, pitch, yaw)\n",
    "\n",
    "            elif onset_gaze_event == 1:\n",
    "                saccade_onsets += 1\n",
    "                # OFD = 0        \n",
    "                # eccentricity = np.linalg.norm([recdf_with_labels.loc[target_locindf].gaze2target_pitch,\n",
    "                #                               recdf_with_labels.loc[target_locindf].gaze2target_yaw])*180/np.pi\n",
    "                # ax.scatter(OFD, eccentricity, c='r' if target_tuple[1] is False else 'g')\n",
    "                # graph_tuples += (OFD, eccentricity, target_tuple[1] is False, pitch, yaw)\n",
    "            else:\n",
    "                noise_onsets += 1\n",
    "            # print(target_locindf, OFD)\n",
    "        print(\"{}/{} valid targets\".format(\n",
    "                fixation_onsets+saccade_onsets+noise_onsets,\n",
    "                len(hits_and_misses)))\n",
    "        print(\"{} fixation onsets, {} sacc, {} noise\".format(fixation_onsets, saccade_onsets, noise_onsets))\n",
    "\n",
    "        # #plt.xlim(0, )\n",
    "        # ax.set_ylim(-1, 60)\n",
    "        # ax.set_xlabel(\"Onset Fixation Duration (seconds)\")\n",
    "        # ax.set_ylabel(\"Eccentricity (degrees)\")\n",
    "        # ax.set_title(\"Hits/Misses on Gaze Eccentricity vs. OFD\")\n",
    "\n",
    "        # temp hack for henny meeting: save graph tuples TODO\n",
    "        with open(graph_data_filename, 'wb') as f:\n",
    "            pkl.dump(graph_tuples, f)\n",
    "        print(\"done writing \", graph_data_filename)\n",
    "    except Exception as e:\n",
    "        print(e)\n",
    "        continue"
   ]
  },
  {
   "cell_type": "code",
   "execution_count": 11,
   "id": "3593d4a3-acd4-4c60-806e-ba7ec6253404",
   "metadata": {},
   "outputs": [
    {
     "data": {
      "text/plain": [
       "(array([ 0,  1,  2,  3,  4,  5,  6,  7,  8,  9, 10, 11, 12, 13, 14, 15, 16,\n",
       "        17, 18, 19, 20, 21, 22, 23, 24, 25, 26, 27, 28, 29, 30, 31, 32, 33,\n",
       "        34, 35, 36, 37, 38, 39, 40, 41, 42, 43, 44, 45, 46, 47, 48, 49, 50,\n",
       "        51, 52, 53, 54, 55, 56, 57, 58, 59, 60, 61, 62, 63, 64, 65, 66, 67,\n",
       "        68, 69, 70, 71, 72, 73, 74, 75, 76, 77, 78, 79, 80, 81, 82, 83, 84,\n",
       "        85, 86, 87], dtype=int64),)"
      ]
     },
     "execution_count": 11,
     "metadata": {},
     "output_type": "execute_result"
    }
   ],
   "source": [
    "rev_fix_idcs"
   ]
  },
  {
   "cell_type": "code",
   "execution_count": 12,
   "id": "a94d8a5c-90f9-4b54-b6ba-2fe2ef77a475",
   "metadata": {},
   "outputs": [
    {
     "data": {
      "text/plain": [
       "(array([], dtype=int64), array([], dtype=int64))"
      ]
     },
     "execution_count": 12,
     "metadata": {},
     "output_type": "execute_result"
    }
   ],
   "source": [
    "np.where(np.diff(rev_fix_idcs)>1)"
   ]
  },
  {
   "cell_type": "code",
   "execution_count": null,
   "id": "c1c89fba-4c84-40ca-9b9f-a666f2c73285",
   "metadata": {},
   "outputs": [],
   "source": []
  },
  {
   "cell_type": "markdown",
   "id": "e05e31b2-4f75-40f3-8445-867551a05b66",
   "metadata": {
    "tags": []
   },
   "source": [
    "## Data Playground and Sanity checks"
   ]
  },
  {
   "cell_type": "code",
   "execution_count": 9,
   "id": "5e137fd2-da10-4dbe-b169-97747f140725",
   "metadata": {
    "tags": []
   },
   "outputs": [
    {
     "ename": "AttributeError",
     "evalue": "'DataFrame' object has no attribute 'GazeDir_COMBINED'",
     "output_type": "error",
     "traceback": [
      "\u001b[1;31m---------------------------------------------------------------------------\u001b[0m",
      "\u001b[1;31mAttributeError\u001b[0m                            Traceback (most recent call last)",
      "\u001b[1;32m~\\AppData\\Local\\Temp/ipykernel_19224/1157318999.py\u001b[0m in \u001b[0;36m<module>\u001b[1;34m\u001b[0m\n\u001b[0;32m      1\u001b[0m \u001b[0mdf2\u001b[0m \u001b[1;33m=\u001b[0m \u001b[0mdf1\u001b[0m\u001b[1;33m.\u001b[0m\u001b[0mcopy\u001b[0m\u001b[1;33m(\u001b[0m\u001b[1;33m)\u001b[0m\u001b[1;33m\u001b[0m\u001b[1;33m\u001b[0m\u001b[0m\n\u001b[1;32m----> 2\u001b[1;33m \u001b[0mdf2\u001b[0m\u001b[1;33m[\u001b[0m\u001b[1;34m'gaze_x'\u001b[0m\u001b[1;33m]\u001b[0m \u001b[1;33m=\u001b[0m \u001b[0mdf1\u001b[0m\u001b[1;33m.\u001b[0m\u001b[0mGazeDir_COMBINED\u001b[0m\u001b[1;33m.\u001b[0m\u001b[0mapply\u001b[0m\u001b[1;33m(\u001b[0m\u001b[1;32mlambda\u001b[0m \u001b[0mx\u001b[0m\u001b[1;33m:\u001b[0m \u001b[0mx\u001b[0m\u001b[1;33m[\u001b[0m\u001b[1;36m0\u001b[0m\u001b[1;33m]\u001b[0m\u001b[1;33m)\u001b[0m\u001b[1;33m\u001b[0m\u001b[1;33m\u001b[0m\u001b[0m\n\u001b[0m\u001b[0;32m      3\u001b[0m \u001b[0mdf2\u001b[0m\u001b[1;33m[\u001b[0m\u001b[1;34m'gaze_y'\u001b[0m\u001b[1;33m]\u001b[0m \u001b[1;33m=\u001b[0m \u001b[0mdf1\u001b[0m\u001b[1;33m.\u001b[0m\u001b[0mGazeDir_COMBINED\u001b[0m\u001b[1;33m.\u001b[0m\u001b[0mapply\u001b[0m\u001b[1;33m(\u001b[0m\u001b[1;32mlambda\u001b[0m \u001b[0mx\u001b[0m\u001b[1;33m:\u001b[0m \u001b[0mx\u001b[0m\u001b[1;33m[\u001b[0m\u001b[1;36m1\u001b[0m\u001b[1;33m]\u001b[0m\u001b[1;33m)\u001b[0m\u001b[1;33m\u001b[0m\u001b[1;33m\u001b[0m\u001b[0m\n\u001b[0;32m      4\u001b[0m \u001b[0mdf2\u001b[0m\u001b[1;33m[\u001b[0m\u001b[1;34m'gaze_z'\u001b[0m\u001b[1;33m]\u001b[0m \u001b[1;33m=\u001b[0m \u001b[0mdf1\u001b[0m\u001b[1;33m.\u001b[0m\u001b[0mGazeDir_COMBINED\u001b[0m\u001b[1;33m.\u001b[0m\u001b[0mapply\u001b[0m\u001b[1;33m(\u001b[0m\u001b[1;32mlambda\u001b[0m \u001b[0mx\u001b[0m\u001b[1;33m:\u001b[0m \u001b[0mx\u001b[0m\u001b[1;33m[\u001b[0m\u001b[1;36m2\u001b[0m\u001b[1;33m]\u001b[0m\u001b[1;33m)\u001b[0m\u001b[1;33m\u001b[0m\u001b[1;33m\u001b[0m\u001b[0m\n\u001b[0;32m      5\u001b[0m \u001b[1;33m\u001b[0m\u001b[0m\n",
      "\u001b[1;32mc:\\users\\abhijat\\appdata\\local\\programs\\python\\python38\\lib\\site-packages\\pandas\\core\\generic.py\u001b[0m in \u001b[0;36m__getattr__\u001b[1;34m(self, name)\u001b[0m\n\u001b[0;32m   5485\u001b[0m         ):\n\u001b[0;32m   5486\u001b[0m             \u001b[1;32mreturn\u001b[0m \u001b[0mself\u001b[0m\u001b[1;33m[\u001b[0m\u001b[0mname\u001b[0m\u001b[1;33m]\u001b[0m\u001b[1;33m\u001b[0m\u001b[1;33m\u001b[0m\u001b[0m\n\u001b[1;32m-> 5487\u001b[1;33m         \u001b[1;32mreturn\u001b[0m \u001b[0mobject\u001b[0m\u001b[1;33m.\u001b[0m\u001b[0m__getattribute__\u001b[0m\u001b[1;33m(\u001b[0m\u001b[0mself\u001b[0m\u001b[1;33m,\u001b[0m \u001b[0mname\u001b[0m\u001b[1;33m)\u001b[0m\u001b[1;33m\u001b[0m\u001b[1;33m\u001b[0m\u001b[0m\n\u001b[0m\u001b[0;32m   5488\u001b[0m \u001b[1;33m\u001b[0m\u001b[0m\n\u001b[0;32m   5489\u001b[0m     \u001b[1;32mdef\u001b[0m \u001b[0m__setattr__\u001b[0m\u001b[1;33m(\u001b[0m\u001b[0mself\u001b[0m\u001b[1;33m,\u001b[0m \u001b[0mname\u001b[0m\u001b[1;33m:\u001b[0m \u001b[0mstr\u001b[0m\u001b[1;33m,\u001b[0m \u001b[0mvalue\u001b[0m\u001b[1;33m)\u001b[0m \u001b[1;33m->\u001b[0m \u001b[1;32mNone\u001b[0m\u001b[1;33m:\u001b[0m\u001b[1;33m\u001b[0m\u001b[1;33m\u001b[0m\u001b[0m\n",
      "\u001b[1;31mAttributeError\u001b[0m: 'DataFrame' object has no attribute 'GazeDir_COMBINED'"
     ]
    }
   ],
   "source": [
    "df2 = df1.copy()\n",
    "df2['gaze_x'] = df1.GazeDir_COMBINED.apply(lambda x: x[0])\n",
    "df2['gaze_y'] = df1.GazeDir_COMBINED.apply(lambda x: x[1])\n",
    "df2['gaze_z'] = df1.GazeDir_COMBINED.apply(lambda x: x[2])\n",
    "\n",
    "gaze_pitches = np.arctan2(df2.gaze_z, df2.gaze_x)*180/np.pi\n",
    "gaze_yaws = np.arctan2(df2.gaze_y, df2.gaze_x)*180/np.pi\n",
    "\n",
    "low_conf_gazeidcs = (gaze_pitches*gaze_yaws == 0)\n",
    "gaze_pitches = gaze_pitches[~low_conf_gazeidcs]\n",
    "gaze_yaws = gaze_yaws[~low_conf_gazeidcs]\n",
    "\n",
    "\n",
    "print(np.min(gaze_pitches),np.max(gaze_pitches))\n",
    "print(np.min(gaze_yaws),np.max(gaze_yaws))"
   ]
  },
  {
   "cell_type": "code",
   "execution_count": null,
   "id": "e1435bb0-ed68-43f7-ac7c-005d4a2088a4",
   "metadata": {
    "tags": []
   },
   "outputs": [],
   "source": [
    "#gaze_pitches = gaze_pitches[1000:7000]\n",
    "#gaze_yaws = gaze_yaws[6000:7000]\n",
    "\n",
    "# Generate heat map of eye gaze wrt head pos\n",
    "plt.figure()\n",
    "plt.hist2d(gaze_yaws, gaze_pitches,\n",
    "           bins=50, cmap='hot')\n",
    "cb = plt.colorbar()\n",
    "cb.set_label('Number of points')\n",
    "plt.title('Heatmap of eye gaze wrt head direction')\n",
    "# plt.xlim(-20,20)\n",
    "# plt.ylim(-20,20)\n",
    "plt.xlabel('yaw')\n",
    "plt.ylabel('pitch')\n",
    "plt.show()"
   ]
  },
  {
   "cell_type": "markdown",
   "id": "5115e652-b8de-4a4d-a2fe-3b1c1e5cdc0b",
   "metadata": {
    "tags": []
   },
   "source": [
    "## Hits and Misses calculation"
   ]
  },
  {
   "cell_type": "code",
   "execution_count": null,
   "id": "2da4c798-bcf9-49e5-9f4e-65c3e42915e0",
   "metadata": {
    "tags": []
   },
   "outputs": [],
   "source": [
    "# for every light appearance\n",
    "# find the nearest button press, before the next target appearance\n",
    "max_reaction_time_allowed = 2 #seconds\n",
    "time_offsets = []\n",
    "hits_and_misses = []\n",
    "for idx_num, lighton_idx in tqdm(enumerate(lighton_idcs)):\n",
    "    # while not found_buttonpress or lighton_idcs[idx_num+1]:\n",
    "    offset = 0\n",
    "    target_tuple = (df1.loc[lighton_idx], False)\n",
    "    while lighton_idx+offset < max(df1.index):\n",
    "        time_offset = df1.loc[lighton_idx+offset, \"TimeElapsed\"] - df1.loc[lighton_idx, \"TimeElapsed\"]   \n",
    "        if (df1.loc[lighton_idx+offset, \"ButtonPressed\"] == 1):\n",
    "            # print(\"{0:1.2f}s\".format(time_offset))\n",
    "            time_offsets += [time_offset]\n",
    "            target_tuple = (df1.loc[lighton_idx], df1.loc[lighton_idx+offset])\n",
    "            break\n",
    "        else:\n",
    "            if time_offset > max_reaction_time_allowed:\n",
    "                break\n",
    "            offset += 1\n",
    "    hits_and_misses += [target_tuple]\n",
    "    \n",
    "print(\"{}/{} hits with a {}s average reaction time\".format(len(time_offsets), len(lighton_idcs), sum(time_offsets)/len(time_offsets)))"
   ]
  },
  {
   "cell_type": "markdown",
   "id": "77994187-a699-4863-8b04-33c47b4316d7",
   "metadata": {
    "tags": []
   },
   "source": [
    "## Prelim analysis"
   ]
  },
  {
   "cell_type": "code",
   "execution_count": null,
   "id": "ce0f1776-7cd4-4591-8c17-0b506964278c",
   "metadata": {
    "tags": []
   },
   "outputs": [],
   "source": [
    "# Preliminary analysis\n",
    "fig, ax = plt.subplots()\n",
    "\n",
    "# plots of hits misses vs ecc\n",
    "for target_tuple in hits_and_misses:\n",
    "    target_response = True\n",
    "    if target_tuple[1] is False:\n",
    "        # miss\n",
    "        target_response = False\n",
    "        pass\n",
    "    else:\n",
    "        # hits\n",
    "        pass\n",
    "        # print(target_tuple[1].ButtonPressed)\n",
    "    ax.scatter(target_tuple[0].gaze2target_yaw*180/np.pi,\n",
    "               target_tuple[0].gaze2target_pitch*180/np.pi,\n",
    "               c='g' if target_response else 'r')\n",
    "    ax.set_title(\"Hits/Misses vs. Eccentricity\\n(Pitch and Yaw of Target from EYE Gaze during onset)\")\n",
    "    \n",
    "    # ax.scatter(target_tuple[0].head2target_yaw*180/np.pi, target_tuple[0].head2target_pitch*180/np.pi, c='g' if target_response else 'r')\n",
    "    # ax.set_title(\"Hits/Misses vs. Eccentricity\\n(Pitch and Yaw of Target from HEAD Gaze during onset)\")\n",
    "    \n",
    "    ax.set_xlabel(\"yaw (degrees)\")\n",
    "    ax.set_ylabel(\"pitch (degrees)\")\n",
    "    ax.set_xlim(-60, 60)\n",
    "    ax.set_ylim(-40, 60)\n",
    "    ax.set_aspect('equal')\n",
    "    # ax.show()"
   ]
  },
  {
   "cell_type": "markdown",
   "id": "780cef8f-dbb5-4624-abba-77c9f0e26083",
   "metadata": {
    "tags": []
   },
   "source": [
    "## Gaze event detection (eye gaze vector only)\n"
   ]
  },
  {
   "cell_type": "code",
   "execution_count": null,
   "id": "8b8e6e9d-530a-40af-88fb-cbee6164c698",
   "metadata": {
    "tags": []
   },
   "outputs": [],
   "source": []
  },
  {
   "cell_type": "code",
   "execution_count": null,
   "id": "aca14dcd-7e84-4824-9160-76a413ff633c",
   "metadata": {
    "tags": []
   },
   "outputs": [],
   "source": []
  },
  {
   "cell_type": "code",
   "execution_count": null,
   "id": "09a1367e-8914-4250-8399-bd604f7919b4",
   "metadata": {
    "tags": []
   },
   "outputs": [],
   "source": []
  },
  {
   "cell_type": "code",
   "execution_count": null,
   "id": "1ae73a96-7093-46c7-aada-85e37db92c8a",
   "metadata": {
    "tags": []
   },
   "outputs": [],
   "source": []
  },
  {
   "cell_type": "code",
   "execution_count": null,
   "id": "a15e4155-1d73-4f99-b9f0-ee6477b74520",
   "metadata": {},
   "outputs": [],
   "source": [
    "print(\"Num fixation total pts: \", np.sum(labels_np[:,2]))\n",
    "print(\"Num saccades total pts: \", np.sum(labels_np[:,3]))\n",
    "print(\"Num noise total pts: \", np.sum(labels_np[:,4]))\n",
    "print()\n",
    "# filter the consecutives\n",
    "print(\"Num fixations: \", np.sum(np.diff(labels_np[:, 2]) == 1))\n",
    "print(\"Num saccades: \", np.sum(np.diff(labels_np[:, 3]) == 1))\n",
    "print(\"Num noise: \", np.sum(np.diff(labels_np[:, 4]) == 1))\n",
    "print(\"Num LightOns: \", num_targets_spawned)"
   ]
  },
  {
   "cell_type": "markdown",
   "id": "32f32de9-2469-46ef-a40f-1f24fe7c7fc0",
   "metadata": {},
   "source": [
    "## OFD analysis"
   ]
  },
  {
   "cell_type": "code",
   "execution_count": null,
   "id": "8955ae34-47ee-439e-a9f3-340dfd6c8d1d",
   "metadata": {},
   "outputs": [],
   "source": [
    "# target tuples, go back and find labels\n",
    "saccade_onsets = 0\n",
    "fixation_onsets = 0\n",
    "noise_onsets = 0\n",
    "# fig, ax = plt.subplots()\n",
    "graph_tuples = []\n",
    "\n",
    "for target_tuple in hits_and_misses:\n",
    "    # for either hit or miss, go back and find the ofd\n",
    "    # check if you're in a fixation rn\n",
    "    if target_tuple[0].GazeValid_COMBINED==0: # check gaze validity \n",
    "        continue\n",
    "    target_locindf = target_tuple[0].name\n",
    "    onset_gaze_event = recdf_with_labels.loc[target_locindf].label  \n",
    "    OFD = 0\n",
    "    pitch = recdf_with_labels.loc[target_locindf].gaze2target_pitch\n",
    "           # + recdf_with_labels.loc[target_locindf].head2target_pitch\n",
    "    yaw = recdf_with_labels.loc[target_locindf].gaze2target_yaw \n",
    "           # + recdf_with_labels.loc[target_locindf].head2target_yaw\n",
    "    \n",
    "    if onset_gaze_event == 0:\n",
    "        fixation_onsets += 1\n",
    "        # go back and look at when this current fixation ends\n",
    "        # labels going back from current gaze\n",
    "        labels_upto_curr = recdf_with_labels.loc[target_locindf::-1].label \n",
    "        np.diff(labels_upto_curr)\n",
    "        labels_upto_curr = recdf_with_labels.loc[target_locindf::-1].label \n",
    "        label_diff = np.diff(labels_upto_curr)!=0\n",
    "        first_fixation_idx = target_locindf - np.argmax(label_diff)\n",
    "        OFD = recdf_with_labels.loc[target_locindf].TimeElapsed -\\\n",
    "                recdf_with_labels.loc[first_fixation_idx].TimeElapsed\n",
    "        \n",
    "        eccentricity = np.linalg.norm([recdf_with_labels.loc[target_locindf].gaze2target_pitch,\n",
    "                                      recdf_with_labels.loc[target_locindf].gaze2target_yaw])*180/np.pi\n",
    "        # ax.scatter(OFD, eccentricity, c='r' if target_tuple[1] is False else 'g')\n",
    "        graph_tuples += (OFD, eccentricity, target_tuple[1] is False, pitch, yaw)\n",
    "    elif onset_gaze_event == 1:\n",
    "        saccade_onsets += 1\n",
    "        OFD = 0        \n",
    "        eccentricity = np.linalg.norm([recdf_with_labels.loc[target_locindf].gaze2target_pitch,\n",
    "                                      recdf_with_labels.loc[target_locindf].gaze2target_yaw])*180/np.pi\n",
    "        # ax.scatter(OFD, eccentricity, c='r' if target_tuple[1] is False else 'g')\n",
    "        graph_tuples += (OFD, eccentricity, target_tuple[1] is False, pitch, yaw)\n",
    "    else:\n",
    "        noise_onsets += 1\n",
    "    # print(target_locindf, OFD)\n",
    "print(\"{}/{} valid targets\".format(\n",
    "        fixation_onsets+saccade_onsets+noise_onsets,\n",
    "        len(hits_and_misses)))\n",
    "print(\"{} fixation onsets, {} sacc, {} noise\".format(fixation_onsets, saccade_onsets, noise_onsets))\n",
    "\n",
    "# #plt.xlim(0, )\n",
    "# ax.set_ylim(-1, 60)\n",
    "# ax.set_xlabel(\"Onset Fixation Duration (seconds)\")\n",
    "# ax.set_ylabel(\"Eccentricity (degrees)\")\n",
    "# ax.set_title(\"Hits/Misses on Gaze Eccentricity vs. OFD\")\n",
    "\n",
    "# temp hack for henny meeting: save graph tuples\n",
    "graph_data_filename = Path(\"temp_data\").joinpath(recording_name+\"_OFDvEcc.pkl\")\n",
    "with open(graph_data_filename, 'wb') as f:\n",
    "    pkl.dump(graph_tuples, f)"
   ]
  },
  {
   "cell_type": "code",
   "execution_count": null,
   "id": "26187812-5481-4646-8d4c-e849265d0f96",
   "metadata": {},
   "outputs": [],
   "source": [
    "# temp hack for henny meeting: save graph tuples\n",
    "graph_data_filename = Path(\"temp_data\").joinpath(recording_name+\"_OFDvEcc.pkl\")\n",
    "with open(graph_data_filename, 'wb') as f:\n",
    "    pkl.dump(graph_tuples, f)"
   ]
  },
  {
   "cell_type": "code",
   "execution_count": null,
   "id": "07d7a80c-4599-4ff9-a2f8-2eb93d071c01",
   "metadata": {},
   "outputs": [],
   "source": []
  }
 ],
 "metadata": {
  "kernelspec": {
   "display_name": "Python 3 (ipykernel)",
   "language": "python",
   "name": "python3"
  },
  "language_info": {
   "codemirror_mode": {
    "name": "ipython",
    "version": 3
   },
   "file_extension": ".py",
   "mimetype": "text/x-python",
   "name": "python",
   "nbconvert_exporter": "python",
   "pygments_lexer": "ipython3",
   "version": "3.9.7"
  }
 },
 "nbformat": 4,
 "nbformat_minor": 5
}
