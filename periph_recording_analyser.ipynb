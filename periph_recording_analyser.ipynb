{
 "cells": [
  {
   "cell_type": "markdown",
   "id": "cdea6bee-3ca0-4b6c-b999-a41df2a41e77",
   "metadata": {},
   "source": [
    "## Read in peripheral study recording"
   ]
  },
  {
   "cell_type": "code",
   "execution_count": 1,
   "id": "0ef25df7-664f-4aed-abdd-c0e9d12ac37c",
   "metadata": {},
   "outputs": [],
   "source": [
    "# given a filename, generate a pandas dataframe with all recording stuff\n",
    "\n",
    "# L, R, combined fields"
   ]
  },
  {
   "cell_type": "code",
   "execution_count": 7,
   "id": "75ad198b-1f2d-4b8c-9f3f-f6fa53a4dce0",
   "metadata": {},
   "outputs": [],
   "source": [
    "from ibmmpy.ibmm import EyeClassifier\n",
    "# from ibmm_online import EyeClassifierOnline\n",
    "import pandas as pd\n",
    "import numpy as np\n",
    "import re\n",
    "import matplotlib.pyplot as plt\n",
    "from matplotlib import cm\n",
    "\n",
    "from parser_utils import read_periph_recording"
   ]
  },
  {
   "cell_type": "code",
   "execution_count": 8,
   "id": "4d6fea5e-6cb3-4f72-b494-1157dc66a65a",
   "metadata": {},
   "outputs": [],
   "source": [
    "%matplotlib ipympl "
   ]
  },
  {
   "cell_type": "code",
   "execution_count": 11,
   "id": "832f4616-053d-42fe-bd8f-d7685cb819de",
   "metadata": {},
   "outputs": [
    {
     "name": "stderr",
     "output_type": "stream",
     "text": [
      "25060it [01:05, 382.54it/s]\n"
     ]
    }
   ],
   "source": [
    "path_to_recording = \"C:\\\\EGLC\\\\\\carla\\\\PythonAPI\\\\examples\\\\recordings\\\\sud32.txt\"\n",
    "df1 = read_periph_recording(path_to_recording)"
   ]
  },
  {
   "cell_type": "markdown",
   "id": "804a5e2c-96bb-449e-a184-9bf2330b7f73",
   "metadata": {},
   "source": [
    "## Preliminary analysis"
   ]
  },
  {
   "cell_type": "code",
   "execution_count": null,
   "id": "b500dffc-6823-423a-9997-30fd74696858",
   "metadata": {},
   "outputs": [],
   "source": [
    "# plots of hits misses vs ecc"
   ]
  },
  {
   "cell_type": "code",
   "execution_count": null,
   "id": "2d23f705-c608-49fb-aa8e-4691460965fe",
   "metadata": {},
   "outputs": [],
   "source": []
  },
  {
   "cell_type": "markdown",
   "id": "a8fc230b-61c5-4019-b22d-20795c04e154",
   "metadata": {},
   "source": [
    "## Gaze event detection and OFD based analysis"
   ]
  },
  {
   "cell_type": "code",
   "execution_count": null,
   "id": "e2f5ac52-5bca-45a9-900e-61234d61c817",
   "metadata": {},
   "outputs": [],
   "source": []
  }
 ],
 "metadata": {
  "kernelspec": {
   "display_name": "Python 3 (ipykernel)",
   "language": "python",
   "name": "python3"
  },
  "language_info": {
   "codemirror_mode": {
    "name": "ipython",
    "version": 3
   },
   "file_extension": ".py",
   "mimetype": "text/x-python",
   "name": "python",
   "nbconvert_exporter": "python",
   "pygments_lexer": "ipython3",
   "version": "3.8.6"
  }
 },
 "nbformat": 4,
 "nbformat_minor": 5
}
